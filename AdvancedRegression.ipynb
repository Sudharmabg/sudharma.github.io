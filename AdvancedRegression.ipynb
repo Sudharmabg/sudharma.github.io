{
  "nbformat": 4,
  "nbformat_minor": 0,
  "metadata": {
    "colab": {
      "name": "AdvancedRegression.ipynb",
      "provenance": [],
      "collapsed_sections": []
    },
    "kernelspec": {
      "display_name": "Python 3",
      "name": "python3"
    }
  },
  "cells": [
    {
      "cell_type": "markdown",
      "metadata": {
        "id": "efs_UUd1gvbI"
      },
      "source": [
        "ADVANCED REGRESSION ASSIGNMENT"
      ]
    },
    {
      "cell_type": "markdown",
      "metadata": {
        "id": "qOpWvjiEhImO"
      },
      "source": [
        "BUSINESS UNDERSTANDING"
      ]
    },
    {
      "cell_type": "markdown",
      "metadata": {
        "id": "eAt-l8tXhQTE"
      },
      "source": [
        "A US-based housing company named Surprise Housing has decided to enter the Australian market. The company uses data analytics to purchase houses at a price below their actual values and sell them on at a higher price. We have to build a regression model using regularisation in order to predict the actual value of the prospective properties and decide whether to invest in them or not.\r\n",
        "\r\n",
        "The company wants to know the following things about the prospective properties:\r\n",
        "\r\n",
        "* Which variables are significant in predicting the price of a house\r\n",
        "\r\n",
        "* How well those variables describe the price of a house."
      ]
    },
    {
      "cell_type": "markdown",
      "metadata": {
        "id": "IlKm9GWUhswR"
      },
      "source": [
        "The solution is divided into the following sections:\r\n",
        "\r\n",
        "* Data exploration\r\n",
        "\r\n",
        "* Data cleaning\r\n",
        "\r\n",
        "* Data preparation\r\n",
        "\r\n",
        "* Model building and evaluation"
      ]
    },
    {
      "cell_type": "markdown",
      "metadata": {
        "id": "bRD0ivFriaaA"
      },
      "source": [
        "1. Data Exploration "
      ]
    },
    {
      "cell_type": "code",
      "metadata": {
        "id": "LBDUAql8fJFM"
      },
      "source": [
        "#Importing the required libraries\r\n",
        "import warnings\r\n",
        "warnings.filterwarnings('ignore')\r\n",
        "\r\n",
        "import numpy as np\r\n",
        "import pandas as pd\r\n",
        "import matplotlib.pyplot as plt\r\n",
        "import seaborn as sns\r\n",
        "import plotly.express as px\r\n",
        "from sklearn import linear_model\r\n",
        "from sklearn.linear_model import LinearRegression\r\n",
        "from sklearn.linear_model import Ridge\r\n",
        "from sklearn.linear_model import Lasso\r\n",
        "from sklearn.model_selection import GridSearchCV\r\n",
        "from sklearn.model_selection import cross_val_score\r\n",
        "%matplotlib inline\r\n",
        "\r\n",
        "from sklearn.preprocessing import scale\r\n",
        "from sklearn.preprocessing import StandardScaler\r\n",
        "from sklearn.model_selection import train_test_split\r\n",
        "import os\r\n",
        "from sklearn.metrics import r2_score\r\n",
        "\r\n"
      ],
      "execution_count": null,
      "outputs": []
    },
    {
      "cell_type": "code",
      "metadata": {
        "colab": {
          "resources": {
            "http://localhost:8080/nbextensions/google.colab/files.js": {
              "data": "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",
              "ok": true,
              "headers": [
                [
                  "content-type",
                  "application/javascript"
                ]
              ],
              "status": 200,
              "status_text": ""
            }
          },
          "base_uri": "https://localhost:8080/",
          "height": 73
        },
        "id": "7fPqxCMugOxd",
        "outputId": "13ce835a-7748-4db6-94c8-b30adda7373b"
      },
      "source": [
        "#Required to load the dataset in Google Colab only\r\n",
        "from google.colab import files\r\n",
        "uploaded = files.upload()"
      ],
      "execution_count": null,
      "outputs": [
        {
          "output_type": "display_data",
          "data": {
            "text/html": [
              "\n",
              "     <input type=\"file\" id=\"files-f80871fa-20c2-4dce-9b0d-59e4baa4afc3\" name=\"files[]\" multiple disabled\n",
              "        style=\"border:none\" />\n",
              "     <output id=\"result-f80871fa-20c2-4dce-9b0d-59e4baa4afc3\">\n",
              "      Upload widget is only available when the cell has been executed in the\n",
              "      current browser session. Please rerun this cell to enable.\n",
              "      </output>\n",
              "      <script src=\"/nbextensions/google.colab/files.js\"></script> "
            ],
            "text/plain": [
              "<IPython.core.display.HTML object>"
            ]
          },
          "metadata": {
            "tags": []
          }
        },
        {
          "output_type": "stream",
          "text": [
            "Saving train.csv to train (3).csv\n"
          ],
          "name": "stdout"
        }
      ]
    },
    {
      "cell_type": "code",
      "metadata": {
        "id": "OW0rhoNXirqh"
      },
      "source": [
        "#Reading the csv file and storing it in a dataframe 'df' \r\n",
        "\r\n",
        "df=pd.read_csv(\"train.csv\")"
      ],
      "execution_count": null,
      "outputs": []
    },
    {
      "cell_type": "code",
      "metadata": {
        "colab": {
          "base_uri": "https://localhost:8080/",
          "height": 245
        },
        "id": "lHzmxCI8i6Ao",
        "outputId": "6014a434-9da2-49b8-ea8a-0c21f56a4b23"
      },
      "source": [
        "#Inspecting the dataframe \r\n",
        "\r\n",
        "df.head()"
      ],
      "execution_count": null,
      "outputs": [
        {
          "output_type": "execute_result",
          "data": {
            "text/html": [
              "<div>\n",
              "<style scoped>\n",
              "    .dataframe tbody tr th:only-of-type {\n",
              "        vertical-align: middle;\n",
              "    }\n",
              "\n",
              "    .dataframe tbody tr th {\n",
              "        vertical-align: top;\n",
              "    }\n",
              "\n",
              "    .dataframe thead th {\n",
              "        text-align: right;\n",
              "    }\n",
              "</style>\n",
              "<table border=\"1\" class=\"dataframe\">\n",
              "  <thead>\n",
              "    <tr style=\"text-align: right;\">\n",
              "      <th></th>\n",
              "      <th>Id</th>\n",
              "      <th>MSSubClass</th>\n",
              "      <th>MSZoning</th>\n",
              "      <th>LotFrontage</th>\n",
              "      <th>LotArea</th>\n",
              "      <th>Street</th>\n",
              "      <th>Alley</th>\n",
              "      <th>LotShape</th>\n",
              "      <th>LandContour</th>\n",
              "      <th>Utilities</th>\n",
              "      <th>LotConfig</th>\n",
              "      <th>LandSlope</th>\n",
              "      <th>Neighborhood</th>\n",
              "      <th>Condition1</th>\n",
              "      <th>Condition2</th>\n",
              "      <th>BldgType</th>\n",
              "      <th>HouseStyle</th>\n",
              "      <th>OverallQual</th>\n",
              "      <th>OverallCond</th>\n",
              "      <th>YearBuilt</th>\n",
              "      <th>YearRemodAdd</th>\n",
              "      <th>RoofStyle</th>\n",
              "      <th>RoofMatl</th>\n",
              "      <th>Exterior1st</th>\n",
              "      <th>Exterior2nd</th>\n",
              "      <th>MasVnrType</th>\n",
              "      <th>MasVnrArea</th>\n",
              "      <th>ExterQual</th>\n",
              "      <th>ExterCond</th>\n",
              "      <th>Foundation</th>\n",
              "      <th>BsmtQual</th>\n",
              "      <th>BsmtCond</th>\n",
              "      <th>BsmtExposure</th>\n",
              "      <th>BsmtFinType1</th>\n",
              "      <th>BsmtFinSF1</th>\n",
              "      <th>BsmtFinType2</th>\n",
              "      <th>BsmtFinSF2</th>\n",
              "      <th>BsmtUnfSF</th>\n",
              "      <th>TotalBsmtSF</th>\n",
              "      <th>Heating</th>\n",
              "      <th>...</th>\n",
              "      <th>CentralAir</th>\n",
              "      <th>Electrical</th>\n",
              "      <th>1stFlrSF</th>\n",
              "      <th>2ndFlrSF</th>\n",
              "      <th>LowQualFinSF</th>\n",
              "      <th>GrLivArea</th>\n",
              "      <th>BsmtFullBath</th>\n",
              "      <th>BsmtHalfBath</th>\n",
              "      <th>FullBath</th>\n",
              "      <th>HalfBath</th>\n",
              "      <th>BedroomAbvGr</th>\n",
              "      <th>KitchenAbvGr</th>\n",
              "      <th>KitchenQual</th>\n",
              "      <th>TotRmsAbvGrd</th>\n",
              "      <th>Functional</th>\n",
              "      <th>Fireplaces</th>\n",
              "      <th>FireplaceQu</th>\n",
              "      <th>GarageType</th>\n",
              "      <th>GarageYrBlt</th>\n",
              "      <th>GarageFinish</th>\n",
              "      <th>GarageCars</th>\n",
              "      <th>GarageArea</th>\n",
              "      <th>GarageQual</th>\n",
              "      <th>GarageCond</th>\n",
              "      <th>PavedDrive</th>\n",
              "      <th>WoodDeckSF</th>\n",
              "      <th>OpenPorchSF</th>\n",
              "      <th>EnclosedPorch</th>\n",
              "      <th>3SsnPorch</th>\n",
              "      <th>ScreenPorch</th>\n",
              "      <th>PoolArea</th>\n",
              "      <th>PoolQC</th>\n",
              "      <th>Fence</th>\n",
              "      <th>MiscFeature</th>\n",
              "      <th>MiscVal</th>\n",
              "      <th>MoSold</th>\n",
              "      <th>YrSold</th>\n",
              "      <th>SaleType</th>\n",
              "      <th>SaleCondition</th>\n",
              "      <th>SalePrice</th>\n",
              "    </tr>\n",
              "  </thead>\n",
              "  <tbody>\n",
              "    <tr>\n",
              "      <th>0</th>\n",
              "      <td>1</td>\n",
              "      <td>60</td>\n",
              "      <td>RL</td>\n",
              "      <td>65.0</td>\n",
              "      <td>8450</td>\n",
              "      <td>Pave</td>\n",
              "      <td>NaN</td>\n",
              "      <td>Reg</td>\n",
              "      <td>Lvl</td>\n",
              "      <td>AllPub</td>\n",
              "      <td>Inside</td>\n",
              "      <td>Gtl</td>\n",
              "      <td>CollgCr</td>\n",
              "      <td>Norm</td>\n",
              "      <td>Norm</td>\n",
              "      <td>1Fam</td>\n",
              "      <td>2Story</td>\n",
              "      <td>7</td>\n",
              "      <td>5</td>\n",
              "      <td>2003</td>\n",
              "      <td>2003</td>\n",
              "      <td>Gable</td>\n",
              "      <td>CompShg</td>\n",
              "      <td>VinylSd</td>\n",
              "      <td>VinylSd</td>\n",
              "      <td>BrkFace</td>\n",
              "      <td>196.0</td>\n",
              "      <td>Gd</td>\n",
              "      <td>TA</td>\n",
              "      <td>PConc</td>\n",
              "      <td>Gd</td>\n",
              "      <td>TA</td>\n",
              "      <td>No</td>\n",
              "      <td>GLQ</td>\n",
              "      <td>706</td>\n",
              "      <td>Unf</td>\n",
              "      <td>0</td>\n",
              "      <td>150</td>\n",
              "      <td>856</td>\n",
              "      <td>GasA</td>\n",
              "      <td>...</td>\n",
              "      <td>Y</td>\n",
              "      <td>SBrkr</td>\n",
              "      <td>856</td>\n",
              "      <td>854</td>\n",
              "      <td>0</td>\n",
              "      <td>1710</td>\n",
              "      <td>1</td>\n",
              "      <td>0</td>\n",
              "      <td>2</td>\n",
              "      <td>1</td>\n",
              "      <td>3</td>\n",
              "      <td>1</td>\n",
              "      <td>Gd</td>\n",
              "      <td>8</td>\n",
              "      <td>Typ</td>\n",
              "      <td>0</td>\n",
              "      <td>NaN</td>\n",
              "      <td>Attchd</td>\n",
              "      <td>2003.0</td>\n",
              "      <td>RFn</td>\n",
              "      <td>2</td>\n",
              "      <td>548</td>\n",
              "      <td>TA</td>\n",
              "      <td>TA</td>\n",
              "      <td>Y</td>\n",
              "      <td>0</td>\n",
              "      <td>61</td>\n",
              "      <td>0</td>\n",
              "      <td>0</td>\n",
              "      <td>0</td>\n",
              "      <td>0</td>\n",
              "      <td>NaN</td>\n",
              "      <td>NaN</td>\n",
              "      <td>NaN</td>\n",
              "      <td>0</td>\n",
              "      <td>2</td>\n",
              "      <td>2008</td>\n",
              "      <td>WD</td>\n",
              "      <td>Normal</td>\n",
              "      <td>208500</td>\n",
              "    </tr>\n",
              "    <tr>\n",
              "      <th>1</th>\n",
              "      <td>2</td>\n",
              "      <td>20</td>\n",
              "      <td>RL</td>\n",
              "      <td>80.0</td>\n",
              "      <td>9600</td>\n",
              "      <td>Pave</td>\n",
              "      <td>NaN</td>\n",
              "      <td>Reg</td>\n",
              "      <td>Lvl</td>\n",
              "      <td>AllPub</td>\n",
              "      <td>FR2</td>\n",
              "      <td>Gtl</td>\n",
              "      <td>Veenker</td>\n",
              "      <td>Feedr</td>\n",
              "      <td>Norm</td>\n",
              "      <td>1Fam</td>\n",
              "      <td>1Story</td>\n",
              "      <td>6</td>\n",
              "      <td>8</td>\n",
              "      <td>1976</td>\n",
              "      <td>1976</td>\n",
              "      <td>Gable</td>\n",
              "      <td>CompShg</td>\n",
              "      <td>MetalSd</td>\n",
              "      <td>MetalSd</td>\n",
              "      <td>None</td>\n",
              "      <td>0.0</td>\n",
              "      <td>TA</td>\n",
              "      <td>TA</td>\n",
              "      <td>CBlock</td>\n",
              "      <td>Gd</td>\n",
              "      <td>TA</td>\n",
              "      <td>Gd</td>\n",
              "      <td>ALQ</td>\n",
              "      <td>978</td>\n",
              "      <td>Unf</td>\n",
              "      <td>0</td>\n",
              "      <td>284</td>\n",
              "      <td>1262</td>\n",
              "      <td>GasA</td>\n",
              "      <td>...</td>\n",
              "      <td>Y</td>\n",
              "      <td>SBrkr</td>\n",
              "      <td>1262</td>\n",
              "      <td>0</td>\n",
              "      <td>0</td>\n",
              "      <td>1262</td>\n",
              "      <td>0</td>\n",
              "      <td>1</td>\n",
              "      <td>2</td>\n",
              "      <td>0</td>\n",
              "      <td>3</td>\n",
              "      <td>1</td>\n",
              "      <td>TA</td>\n",
              "      <td>6</td>\n",
              "      <td>Typ</td>\n",
              "      <td>1</td>\n",
              "      <td>TA</td>\n",
              "      <td>Attchd</td>\n",
              "      <td>1976.0</td>\n",
              "      <td>RFn</td>\n",
              "      <td>2</td>\n",
              "      <td>460</td>\n",
              "      <td>TA</td>\n",
              "      <td>TA</td>\n",
              "      <td>Y</td>\n",
              "      <td>298</td>\n",
              "      <td>0</td>\n",
              "      <td>0</td>\n",
              "      <td>0</td>\n",
              "      <td>0</td>\n",
              "      <td>0</td>\n",
              "      <td>NaN</td>\n",
              "      <td>NaN</td>\n",
              "      <td>NaN</td>\n",
              "      <td>0</td>\n",
              "      <td>5</td>\n",
              "      <td>2007</td>\n",
              "      <td>WD</td>\n",
              "      <td>Normal</td>\n",
              "      <td>181500</td>\n",
              "    </tr>\n",
              "    <tr>\n",
              "      <th>2</th>\n",
              "      <td>3</td>\n",
              "      <td>60</td>\n",
              "      <td>RL</td>\n",
              "      <td>68.0</td>\n",
              "      <td>11250</td>\n",
              "      <td>Pave</td>\n",
              "      <td>NaN</td>\n",
              "      <td>IR1</td>\n",
              "      <td>Lvl</td>\n",
              "      <td>AllPub</td>\n",
              "      <td>Inside</td>\n",
              "      <td>Gtl</td>\n",
              "      <td>CollgCr</td>\n",
              "      <td>Norm</td>\n",
              "      <td>Norm</td>\n",
              "      <td>1Fam</td>\n",
              "      <td>2Story</td>\n",
              "      <td>7</td>\n",
              "      <td>5</td>\n",
              "      <td>2001</td>\n",
              "      <td>2002</td>\n",
              "      <td>Gable</td>\n",
              "      <td>CompShg</td>\n",
              "      <td>VinylSd</td>\n",
              "      <td>VinylSd</td>\n",
              "      <td>BrkFace</td>\n",
              "      <td>162.0</td>\n",
              "      <td>Gd</td>\n",
              "      <td>TA</td>\n",
              "      <td>PConc</td>\n",
              "      <td>Gd</td>\n",
              "      <td>TA</td>\n",
              "      <td>Mn</td>\n",
              "      <td>GLQ</td>\n",
              "      <td>486</td>\n",
              "      <td>Unf</td>\n",
              "      <td>0</td>\n",
              "      <td>434</td>\n",
              "      <td>920</td>\n",
              "      <td>GasA</td>\n",
              "      <td>...</td>\n",
              "      <td>Y</td>\n",
              "      <td>SBrkr</td>\n",
              "      <td>920</td>\n",
              "      <td>866</td>\n",
              "      <td>0</td>\n",
              "      <td>1786</td>\n",
              "      <td>1</td>\n",
              "      <td>0</td>\n",
              "      <td>2</td>\n",
              "      <td>1</td>\n",
              "      <td>3</td>\n",
              "      <td>1</td>\n",
              "      <td>Gd</td>\n",
              "      <td>6</td>\n",
              "      <td>Typ</td>\n",
              "      <td>1</td>\n",
              "      <td>TA</td>\n",
              "      <td>Attchd</td>\n",
              "      <td>2001.0</td>\n",
              "      <td>RFn</td>\n",
              "      <td>2</td>\n",
              "      <td>608</td>\n",
              "      <td>TA</td>\n",
              "      <td>TA</td>\n",
              "      <td>Y</td>\n",
              "      <td>0</td>\n",
              "      <td>42</td>\n",
              "      <td>0</td>\n",
              "      <td>0</td>\n",
              "      <td>0</td>\n",
              "      <td>0</td>\n",
              "      <td>NaN</td>\n",
              "      <td>NaN</td>\n",
              "      <td>NaN</td>\n",
              "      <td>0</td>\n",
              "      <td>9</td>\n",
              "      <td>2008</td>\n",
              "      <td>WD</td>\n",
              "      <td>Normal</td>\n",
              "      <td>223500</td>\n",
              "    </tr>\n",
              "    <tr>\n",
              "      <th>3</th>\n",
              "      <td>4</td>\n",
              "      <td>70</td>\n",
              "      <td>RL</td>\n",
              "      <td>60.0</td>\n",
              "      <td>9550</td>\n",
              "      <td>Pave</td>\n",
              "      <td>NaN</td>\n",
              "      <td>IR1</td>\n",
              "      <td>Lvl</td>\n",
              "      <td>AllPub</td>\n",
              "      <td>Corner</td>\n",
              "      <td>Gtl</td>\n",
              "      <td>Crawfor</td>\n",
              "      <td>Norm</td>\n",
              "      <td>Norm</td>\n",
              "      <td>1Fam</td>\n",
              "      <td>2Story</td>\n",
              "      <td>7</td>\n",
              "      <td>5</td>\n",
              "      <td>1915</td>\n",
              "      <td>1970</td>\n",
              "      <td>Gable</td>\n",
              "      <td>CompShg</td>\n",
              "      <td>Wd Sdng</td>\n",
              "      <td>Wd Shng</td>\n",
              "      <td>None</td>\n",
              "      <td>0.0</td>\n",
              "      <td>TA</td>\n",
              "      <td>TA</td>\n",
              "      <td>BrkTil</td>\n",
              "      <td>TA</td>\n",
              "      <td>Gd</td>\n",
              "      <td>No</td>\n",
              "      <td>ALQ</td>\n",
              "      <td>216</td>\n",
              "      <td>Unf</td>\n",
              "      <td>0</td>\n",
              "      <td>540</td>\n",
              "      <td>756</td>\n",
              "      <td>GasA</td>\n",
              "      <td>...</td>\n",
              "      <td>Y</td>\n",
              "      <td>SBrkr</td>\n",
              "      <td>961</td>\n",
              "      <td>756</td>\n",
              "      <td>0</td>\n",
              "      <td>1717</td>\n",
              "      <td>1</td>\n",
              "      <td>0</td>\n",
              "      <td>1</td>\n",
              "      <td>0</td>\n",
              "      <td>3</td>\n",
              "      <td>1</td>\n",
              "      <td>Gd</td>\n",
              "      <td>7</td>\n",
              "      <td>Typ</td>\n",
              "      <td>1</td>\n",
              "      <td>Gd</td>\n",
              "      <td>Detchd</td>\n",
              "      <td>1998.0</td>\n",
              "      <td>Unf</td>\n",
              "      <td>3</td>\n",
              "      <td>642</td>\n",
              "      <td>TA</td>\n",
              "      <td>TA</td>\n",
              "      <td>Y</td>\n",
              "      <td>0</td>\n",
              "      <td>35</td>\n",
              "      <td>272</td>\n",
              "      <td>0</td>\n",
              "      <td>0</td>\n",
              "      <td>0</td>\n",
              "      <td>NaN</td>\n",
              "      <td>NaN</td>\n",
              "      <td>NaN</td>\n",
              "      <td>0</td>\n",
              "      <td>2</td>\n",
              "      <td>2006</td>\n",
              "      <td>WD</td>\n",
              "      <td>Abnorml</td>\n",
              "      <td>140000</td>\n",
              "    </tr>\n",
              "    <tr>\n",
              "      <th>4</th>\n",
              "      <td>5</td>\n",
              "      <td>60</td>\n",
              "      <td>RL</td>\n",
              "      <td>84.0</td>\n",
              "      <td>14260</td>\n",
              "      <td>Pave</td>\n",
              "      <td>NaN</td>\n",
              "      <td>IR1</td>\n",
              "      <td>Lvl</td>\n",
              "      <td>AllPub</td>\n",
              "      <td>FR2</td>\n",
              "      <td>Gtl</td>\n",
              "      <td>NoRidge</td>\n",
              "      <td>Norm</td>\n",
              "      <td>Norm</td>\n",
              "      <td>1Fam</td>\n",
              "      <td>2Story</td>\n",
              "      <td>8</td>\n",
              "      <td>5</td>\n",
              "      <td>2000</td>\n",
              "      <td>2000</td>\n",
              "      <td>Gable</td>\n",
              "      <td>CompShg</td>\n",
              "      <td>VinylSd</td>\n",
              "      <td>VinylSd</td>\n",
              "      <td>BrkFace</td>\n",
              "      <td>350.0</td>\n",
              "      <td>Gd</td>\n",
              "      <td>TA</td>\n",
              "      <td>PConc</td>\n",
              "      <td>Gd</td>\n",
              "      <td>TA</td>\n",
              "      <td>Av</td>\n",
              "      <td>GLQ</td>\n",
              "      <td>655</td>\n",
              "      <td>Unf</td>\n",
              "      <td>0</td>\n",
              "      <td>490</td>\n",
              "      <td>1145</td>\n",
              "      <td>GasA</td>\n",
              "      <td>...</td>\n",
              "      <td>Y</td>\n",
              "      <td>SBrkr</td>\n",
              "      <td>1145</td>\n",
              "      <td>1053</td>\n",
              "      <td>0</td>\n",
              "      <td>2198</td>\n",
              "      <td>1</td>\n",
              "      <td>0</td>\n",
              "      <td>2</td>\n",
              "      <td>1</td>\n",
              "      <td>4</td>\n",
              "      <td>1</td>\n",
              "      <td>Gd</td>\n",
              "      <td>9</td>\n",
              "      <td>Typ</td>\n",
              "      <td>1</td>\n",
              "      <td>TA</td>\n",
              "      <td>Attchd</td>\n",
              "      <td>2000.0</td>\n",
              "      <td>RFn</td>\n",
              "      <td>3</td>\n",
              "      <td>836</td>\n",
              "      <td>TA</td>\n",
              "      <td>TA</td>\n",
              "      <td>Y</td>\n",
              "      <td>192</td>\n",
              "      <td>84</td>\n",
              "      <td>0</td>\n",
              "      <td>0</td>\n",
              "      <td>0</td>\n",
              "      <td>0</td>\n",
              "      <td>NaN</td>\n",
              "      <td>NaN</td>\n",
              "      <td>NaN</td>\n",
              "      <td>0</td>\n",
              "      <td>12</td>\n",
              "      <td>2008</td>\n",
              "      <td>WD</td>\n",
              "      <td>Normal</td>\n",
              "      <td>250000</td>\n",
              "    </tr>\n",
              "  </tbody>\n",
              "</table>\n",
              "<p>5 rows × 81 columns</p>\n",
              "</div>"
            ],
            "text/plain": [
              "   Id  MSSubClass MSZoning  ...  SaleType  SaleCondition SalePrice\n",
              "0   1          60       RL  ...        WD         Normal    208500\n",
              "1   2          20       RL  ...        WD         Normal    181500\n",
              "2   3          60       RL  ...        WD         Normal    223500\n",
              "3   4          70       RL  ...        WD        Abnorml    140000\n",
              "4   5          60       RL  ...        WD         Normal    250000\n",
              "\n",
              "[5 rows x 81 columns]"
            ]
          },
          "metadata": {
            "tags": []
          },
          "execution_count": 171
        }
      ]
    },
    {
      "cell_type": "code",
      "metadata": {
        "colab": {
          "base_uri": "https://localhost:8080/"
        },
        "id": "S0ChLDb0jAKa",
        "outputId": "b1d78482-aba7-4f71-9e5a-1e4c32c6f3e7"
      },
      "source": [
        "#Inspecting the dataframe \r\n",
        "\r\n",
        "df.shape"
      ],
      "execution_count": null,
      "outputs": [
        {
          "output_type": "execute_result",
          "data": {
            "text/plain": [
              "(1460, 81)"
            ]
          },
          "metadata": {
            "tags": []
          },
          "execution_count": 172
        }
      ]
    },
    {
      "cell_type": "code",
      "metadata": {
        "colab": {
          "base_uri": "https://localhost:8080/"
        },
        "id": "oB0hZTMGjGIR",
        "outputId": "57737fb4-54bc-4b61-fca0-682686155058"
      },
      "source": [
        "#Checking the column-wise info of the dataframe\r\n",
        "\r\n",
        "\r\n",
        "print(df.info())"
      ],
      "execution_count": null,
      "outputs": [
        {
          "output_type": "stream",
          "text": [
            "<class 'pandas.core.frame.DataFrame'>\n",
            "RangeIndex: 1460 entries, 0 to 1459\n",
            "Data columns (total 81 columns):\n",
            " #   Column         Non-Null Count  Dtype  \n",
            "---  ------         --------------  -----  \n",
            " 0   Id             1460 non-null   int64  \n",
            " 1   MSSubClass     1460 non-null   int64  \n",
            " 2   MSZoning       1460 non-null   object \n",
            " 3   LotFrontage    1201 non-null   float64\n",
            " 4   LotArea        1460 non-null   int64  \n",
            " 5   Street         1460 non-null   object \n",
            " 6   Alley          91 non-null     object \n",
            " 7   LotShape       1460 non-null   object \n",
            " 8   LandContour    1460 non-null   object \n",
            " 9   Utilities      1460 non-null   object \n",
            " 10  LotConfig      1460 non-null   object \n",
            " 11  LandSlope      1460 non-null   object \n",
            " 12  Neighborhood   1460 non-null   object \n",
            " 13  Condition1     1460 non-null   object \n",
            " 14  Condition2     1460 non-null   object \n",
            " 15  BldgType       1460 non-null   object \n",
            " 16  HouseStyle     1460 non-null   object \n",
            " 17  OverallQual    1460 non-null   int64  \n",
            " 18  OverallCond    1460 non-null   int64  \n",
            " 19  YearBuilt      1460 non-null   int64  \n",
            " 20  YearRemodAdd   1460 non-null   int64  \n",
            " 21  RoofStyle      1460 non-null   object \n",
            " 22  RoofMatl       1460 non-null   object \n",
            " 23  Exterior1st    1460 non-null   object \n",
            " 24  Exterior2nd    1460 non-null   object \n",
            " 25  MasVnrType     1452 non-null   object \n",
            " 26  MasVnrArea     1452 non-null   float64\n",
            " 27  ExterQual      1460 non-null   object \n",
            " 28  ExterCond      1460 non-null   object \n",
            " 29  Foundation     1460 non-null   object \n",
            " 30  BsmtQual       1423 non-null   object \n",
            " 31  BsmtCond       1423 non-null   object \n",
            " 32  BsmtExposure   1422 non-null   object \n",
            " 33  BsmtFinType1   1423 non-null   object \n",
            " 34  BsmtFinSF1     1460 non-null   int64  \n",
            " 35  BsmtFinType2   1422 non-null   object \n",
            " 36  BsmtFinSF2     1460 non-null   int64  \n",
            " 37  BsmtUnfSF      1460 non-null   int64  \n",
            " 38  TotalBsmtSF    1460 non-null   int64  \n",
            " 39  Heating        1460 non-null   object \n",
            " 40  HeatingQC      1460 non-null   object \n",
            " 41  CentralAir     1460 non-null   object \n",
            " 42  Electrical     1459 non-null   object \n",
            " 43  1stFlrSF       1460 non-null   int64  \n",
            " 44  2ndFlrSF       1460 non-null   int64  \n",
            " 45  LowQualFinSF   1460 non-null   int64  \n",
            " 46  GrLivArea      1460 non-null   int64  \n",
            " 47  BsmtFullBath   1460 non-null   int64  \n",
            " 48  BsmtHalfBath   1460 non-null   int64  \n",
            " 49  FullBath       1460 non-null   int64  \n",
            " 50  HalfBath       1460 non-null   int64  \n",
            " 51  BedroomAbvGr   1460 non-null   int64  \n",
            " 52  KitchenAbvGr   1460 non-null   int64  \n",
            " 53  KitchenQual    1460 non-null   object \n",
            " 54  TotRmsAbvGrd   1460 non-null   int64  \n",
            " 55  Functional     1460 non-null   object \n",
            " 56  Fireplaces     1460 non-null   int64  \n",
            " 57  FireplaceQu    770 non-null    object \n",
            " 58  GarageType     1379 non-null   object \n",
            " 59  GarageYrBlt    1379 non-null   float64\n",
            " 60  GarageFinish   1379 non-null   object \n",
            " 61  GarageCars     1460 non-null   int64  \n",
            " 62  GarageArea     1460 non-null   int64  \n",
            " 63  GarageQual     1379 non-null   object \n",
            " 64  GarageCond     1379 non-null   object \n",
            " 65  PavedDrive     1460 non-null   object \n",
            " 66  WoodDeckSF     1460 non-null   int64  \n",
            " 67  OpenPorchSF    1460 non-null   int64  \n",
            " 68  EnclosedPorch  1460 non-null   int64  \n",
            " 69  3SsnPorch      1460 non-null   int64  \n",
            " 70  ScreenPorch    1460 non-null   int64  \n",
            " 71  PoolArea       1460 non-null   int64  \n",
            " 72  PoolQC         7 non-null      object \n",
            " 73  Fence          281 non-null    object \n",
            " 74  MiscFeature    54 non-null     object \n",
            " 75  MiscVal        1460 non-null   int64  \n",
            " 76  MoSold         1460 non-null   int64  \n",
            " 77  YrSold         1460 non-null   int64  \n",
            " 78  SaleType       1460 non-null   object \n",
            " 79  SaleCondition  1460 non-null   object \n",
            " 80  SalePrice      1460 non-null   int64  \n",
            "dtypes: float64(3), int64(35), object(43)\n",
            "memory usage: 924.0+ KB\n",
            "None\n"
          ],
          "name": "stdout"
        }
      ]
    },
    {
      "cell_type": "code",
      "metadata": {
        "colab": {
          "base_uri": "https://localhost:8080/",
          "height": 306
        },
        "id": "vE6fUkcGjUkR",
        "outputId": "0e20dccb-35b3-404d-8d7c-64c77339af09"
      },
      "source": [
        "#Checking for summary of numeric columns \r\n",
        "\r\n",
        "df.describe()"
      ],
      "execution_count": null,
      "outputs": [
        {
          "output_type": "execute_result",
          "data": {
            "text/html": [
              "<div>\n",
              "<style scoped>\n",
              "    .dataframe tbody tr th:only-of-type {\n",
              "        vertical-align: middle;\n",
              "    }\n",
              "\n",
              "    .dataframe tbody tr th {\n",
              "        vertical-align: top;\n",
              "    }\n",
              "\n",
              "    .dataframe thead th {\n",
              "        text-align: right;\n",
              "    }\n",
              "</style>\n",
              "<table border=\"1\" class=\"dataframe\">\n",
              "  <thead>\n",
              "    <tr style=\"text-align: right;\">\n",
              "      <th></th>\n",
              "      <th>Id</th>\n",
              "      <th>MSSubClass</th>\n",
              "      <th>LotFrontage</th>\n",
              "      <th>LotArea</th>\n",
              "      <th>OverallQual</th>\n",
              "      <th>OverallCond</th>\n",
              "      <th>YearBuilt</th>\n",
              "      <th>YearRemodAdd</th>\n",
              "      <th>MasVnrArea</th>\n",
              "      <th>BsmtFinSF1</th>\n",
              "      <th>BsmtFinSF2</th>\n",
              "      <th>BsmtUnfSF</th>\n",
              "      <th>TotalBsmtSF</th>\n",
              "      <th>1stFlrSF</th>\n",
              "      <th>2ndFlrSF</th>\n",
              "      <th>LowQualFinSF</th>\n",
              "      <th>GrLivArea</th>\n",
              "      <th>BsmtFullBath</th>\n",
              "      <th>BsmtHalfBath</th>\n",
              "      <th>FullBath</th>\n",
              "      <th>HalfBath</th>\n",
              "      <th>BedroomAbvGr</th>\n",
              "      <th>KitchenAbvGr</th>\n",
              "      <th>TotRmsAbvGrd</th>\n",
              "      <th>Fireplaces</th>\n",
              "      <th>GarageYrBlt</th>\n",
              "      <th>GarageCars</th>\n",
              "      <th>GarageArea</th>\n",
              "      <th>WoodDeckSF</th>\n",
              "      <th>OpenPorchSF</th>\n",
              "      <th>EnclosedPorch</th>\n",
              "      <th>3SsnPorch</th>\n",
              "      <th>ScreenPorch</th>\n",
              "      <th>PoolArea</th>\n",
              "      <th>MiscVal</th>\n",
              "      <th>MoSold</th>\n",
              "      <th>YrSold</th>\n",
              "      <th>SalePrice</th>\n",
              "    </tr>\n",
              "  </thead>\n",
              "  <tbody>\n",
              "    <tr>\n",
              "      <th>count</th>\n",
              "      <td>1460.000000</td>\n",
              "      <td>1460.000000</td>\n",
              "      <td>1201.000000</td>\n",
              "      <td>1460.000000</td>\n",
              "      <td>1460.000000</td>\n",
              "      <td>1460.000000</td>\n",
              "      <td>1460.000000</td>\n",
              "      <td>1460.000000</td>\n",
              "      <td>1452.000000</td>\n",
              "      <td>1460.000000</td>\n",
              "      <td>1460.000000</td>\n",
              "      <td>1460.000000</td>\n",
              "      <td>1460.000000</td>\n",
              "      <td>1460.000000</td>\n",
              "      <td>1460.000000</td>\n",
              "      <td>1460.000000</td>\n",
              "      <td>1460.000000</td>\n",
              "      <td>1460.000000</td>\n",
              "      <td>1460.000000</td>\n",
              "      <td>1460.000000</td>\n",
              "      <td>1460.000000</td>\n",
              "      <td>1460.000000</td>\n",
              "      <td>1460.000000</td>\n",
              "      <td>1460.000000</td>\n",
              "      <td>1460.000000</td>\n",
              "      <td>1379.000000</td>\n",
              "      <td>1460.000000</td>\n",
              "      <td>1460.000000</td>\n",
              "      <td>1460.000000</td>\n",
              "      <td>1460.000000</td>\n",
              "      <td>1460.000000</td>\n",
              "      <td>1460.000000</td>\n",
              "      <td>1460.000000</td>\n",
              "      <td>1460.000000</td>\n",
              "      <td>1460.000000</td>\n",
              "      <td>1460.000000</td>\n",
              "      <td>1460.000000</td>\n",
              "      <td>1460.000000</td>\n",
              "    </tr>\n",
              "    <tr>\n",
              "      <th>mean</th>\n",
              "      <td>730.500000</td>\n",
              "      <td>56.897260</td>\n",
              "      <td>70.049958</td>\n",
              "      <td>10516.828082</td>\n",
              "      <td>6.099315</td>\n",
              "      <td>5.575342</td>\n",
              "      <td>1971.267808</td>\n",
              "      <td>1984.865753</td>\n",
              "      <td>103.685262</td>\n",
              "      <td>443.639726</td>\n",
              "      <td>46.549315</td>\n",
              "      <td>567.240411</td>\n",
              "      <td>1057.429452</td>\n",
              "      <td>1162.626712</td>\n",
              "      <td>346.992466</td>\n",
              "      <td>5.844521</td>\n",
              "      <td>1515.463699</td>\n",
              "      <td>0.425342</td>\n",
              "      <td>0.057534</td>\n",
              "      <td>1.565068</td>\n",
              "      <td>0.382877</td>\n",
              "      <td>2.866438</td>\n",
              "      <td>1.046575</td>\n",
              "      <td>6.517808</td>\n",
              "      <td>0.613014</td>\n",
              "      <td>1978.506164</td>\n",
              "      <td>1.767123</td>\n",
              "      <td>472.980137</td>\n",
              "      <td>94.244521</td>\n",
              "      <td>46.660274</td>\n",
              "      <td>21.954110</td>\n",
              "      <td>3.409589</td>\n",
              "      <td>15.060959</td>\n",
              "      <td>2.758904</td>\n",
              "      <td>43.489041</td>\n",
              "      <td>6.321918</td>\n",
              "      <td>2007.815753</td>\n",
              "      <td>180921.195890</td>\n",
              "    </tr>\n",
              "    <tr>\n",
              "      <th>std</th>\n",
              "      <td>421.610009</td>\n",
              "      <td>42.300571</td>\n",
              "      <td>24.284752</td>\n",
              "      <td>9981.264932</td>\n",
              "      <td>1.382997</td>\n",
              "      <td>1.112799</td>\n",
              "      <td>30.202904</td>\n",
              "      <td>20.645407</td>\n",
              "      <td>181.066207</td>\n",
              "      <td>456.098091</td>\n",
              "      <td>161.319273</td>\n",
              "      <td>441.866955</td>\n",
              "      <td>438.705324</td>\n",
              "      <td>386.587738</td>\n",
              "      <td>436.528436</td>\n",
              "      <td>48.623081</td>\n",
              "      <td>525.480383</td>\n",
              "      <td>0.518911</td>\n",
              "      <td>0.238753</td>\n",
              "      <td>0.550916</td>\n",
              "      <td>0.502885</td>\n",
              "      <td>0.815778</td>\n",
              "      <td>0.220338</td>\n",
              "      <td>1.625393</td>\n",
              "      <td>0.644666</td>\n",
              "      <td>24.689725</td>\n",
              "      <td>0.747315</td>\n",
              "      <td>213.804841</td>\n",
              "      <td>125.338794</td>\n",
              "      <td>66.256028</td>\n",
              "      <td>61.119149</td>\n",
              "      <td>29.317331</td>\n",
              "      <td>55.757415</td>\n",
              "      <td>40.177307</td>\n",
              "      <td>496.123024</td>\n",
              "      <td>2.703626</td>\n",
              "      <td>1.328095</td>\n",
              "      <td>79442.502883</td>\n",
              "    </tr>\n",
              "    <tr>\n",
              "      <th>min</th>\n",
              "      <td>1.000000</td>\n",
              "      <td>20.000000</td>\n",
              "      <td>21.000000</td>\n",
              "      <td>1300.000000</td>\n",
              "      <td>1.000000</td>\n",
              "      <td>1.000000</td>\n",
              "      <td>1872.000000</td>\n",
              "      <td>1950.000000</td>\n",
              "      <td>0.000000</td>\n",
              "      <td>0.000000</td>\n",
              "      <td>0.000000</td>\n",
              "      <td>0.000000</td>\n",
              "      <td>0.000000</td>\n",
              "      <td>334.000000</td>\n",
              "      <td>0.000000</td>\n",
              "      <td>0.000000</td>\n",
              "      <td>334.000000</td>\n",
              "      <td>0.000000</td>\n",
              "      <td>0.000000</td>\n",
              "      <td>0.000000</td>\n",
              "      <td>0.000000</td>\n",
              "      <td>0.000000</td>\n",
              "      <td>0.000000</td>\n",
              "      <td>2.000000</td>\n",
              "      <td>0.000000</td>\n",
              "      <td>1900.000000</td>\n",
              "      <td>0.000000</td>\n",
              "      <td>0.000000</td>\n",
              "      <td>0.000000</td>\n",
              "      <td>0.000000</td>\n",
              "      <td>0.000000</td>\n",
              "      <td>0.000000</td>\n",
              "      <td>0.000000</td>\n",
              "      <td>0.000000</td>\n",
              "      <td>0.000000</td>\n",
              "      <td>1.000000</td>\n",
              "      <td>2006.000000</td>\n",
              "      <td>34900.000000</td>\n",
              "    </tr>\n",
              "    <tr>\n",
              "      <th>25%</th>\n",
              "      <td>365.750000</td>\n",
              "      <td>20.000000</td>\n",
              "      <td>59.000000</td>\n",
              "      <td>7553.500000</td>\n",
              "      <td>5.000000</td>\n",
              "      <td>5.000000</td>\n",
              "      <td>1954.000000</td>\n",
              "      <td>1967.000000</td>\n",
              "      <td>0.000000</td>\n",
              "      <td>0.000000</td>\n",
              "      <td>0.000000</td>\n",
              "      <td>223.000000</td>\n",
              "      <td>795.750000</td>\n",
              "      <td>882.000000</td>\n",
              "      <td>0.000000</td>\n",
              "      <td>0.000000</td>\n",
              "      <td>1129.500000</td>\n",
              "      <td>0.000000</td>\n",
              "      <td>0.000000</td>\n",
              "      <td>1.000000</td>\n",
              "      <td>0.000000</td>\n",
              "      <td>2.000000</td>\n",
              "      <td>1.000000</td>\n",
              "      <td>5.000000</td>\n",
              "      <td>0.000000</td>\n",
              "      <td>1961.000000</td>\n",
              "      <td>1.000000</td>\n",
              "      <td>334.500000</td>\n",
              "      <td>0.000000</td>\n",
              "      <td>0.000000</td>\n",
              "      <td>0.000000</td>\n",
              "      <td>0.000000</td>\n",
              "      <td>0.000000</td>\n",
              "      <td>0.000000</td>\n",
              "      <td>0.000000</td>\n",
              "      <td>5.000000</td>\n",
              "      <td>2007.000000</td>\n",
              "      <td>129975.000000</td>\n",
              "    </tr>\n",
              "    <tr>\n",
              "      <th>50%</th>\n",
              "      <td>730.500000</td>\n",
              "      <td>50.000000</td>\n",
              "      <td>69.000000</td>\n",
              "      <td>9478.500000</td>\n",
              "      <td>6.000000</td>\n",
              "      <td>5.000000</td>\n",
              "      <td>1973.000000</td>\n",
              "      <td>1994.000000</td>\n",
              "      <td>0.000000</td>\n",
              "      <td>383.500000</td>\n",
              "      <td>0.000000</td>\n",
              "      <td>477.500000</td>\n",
              "      <td>991.500000</td>\n",
              "      <td>1087.000000</td>\n",
              "      <td>0.000000</td>\n",
              "      <td>0.000000</td>\n",
              "      <td>1464.000000</td>\n",
              "      <td>0.000000</td>\n",
              "      <td>0.000000</td>\n",
              "      <td>2.000000</td>\n",
              "      <td>0.000000</td>\n",
              "      <td>3.000000</td>\n",
              "      <td>1.000000</td>\n",
              "      <td>6.000000</td>\n",
              "      <td>1.000000</td>\n",
              "      <td>1980.000000</td>\n",
              "      <td>2.000000</td>\n",
              "      <td>480.000000</td>\n",
              "      <td>0.000000</td>\n",
              "      <td>25.000000</td>\n",
              "      <td>0.000000</td>\n",
              "      <td>0.000000</td>\n",
              "      <td>0.000000</td>\n",
              "      <td>0.000000</td>\n",
              "      <td>0.000000</td>\n",
              "      <td>6.000000</td>\n",
              "      <td>2008.000000</td>\n",
              "      <td>163000.000000</td>\n",
              "    </tr>\n",
              "    <tr>\n",
              "      <th>75%</th>\n",
              "      <td>1095.250000</td>\n",
              "      <td>70.000000</td>\n",
              "      <td>80.000000</td>\n",
              "      <td>11601.500000</td>\n",
              "      <td>7.000000</td>\n",
              "      <td>6.000000</td>\n",
              "      <td>2000.000000</td>\n",
              "      <td>2004.000000</td>\n",
              "      <td>166.000000</td>\n",
              "      <td>712.250000</td>\n",
              "      <td>0.000000</td>\n",
              "      <td>808.000000</td>\n",
              "      <td>1298.250000</td>\n",
              "      <td>1391.250000</td>\n",
              "      <td>728.000000</td>\n",
              "      <td>0.000000</td>\n",
              "      <td>1776.750000</td>\n",
              "      <td>1.000000</td>\n",
              "      <td>0.000000</td>\n",
              "      <td>2.000000</td>\n",
              "      <td>1.000000</td>\n",
              "      <td>3.000000</td>\n",
              "      <td>1.000000</td>\n",
              "      <td>7.000000</td>\n",
              "      <td>1.000000</td>\n",
              "      <td>2002.000000</td>\n",
              "      <td>2.000000</td>\n",
              "      <td>576.000000</td>\n",
              "      <td>168.000000</td>\n",
              "      <td>68.000000</td>\n",
              "      <td>0.000000</td>\n",
              "      <td>0.000000</td>\n",
              "      <td>0.000000</td>\n",
              "      <td>0.000000</td>\n",
              "      <td>0.000000</td>\n",
              "      <td>8.000000</td>\n",
              "      <td>2009.000000</td>\n",
              "      <td>214000.000000</td>\n",
              "    </tr>\n",
              "    <tr>\n",
              "      <th>max</th>\n",
              "      <td>1460.000000</td>\n",
              "      <td>190.000000</td>\n",
              "      <td>313.000000</td>\n",
              "      <td>215245.000000</td>\n",
              "      <td>10.000000</td>\n",
              "      <td>9.000000</td>\n",
              "      <td>2010.000000</td>\n",
              "      <td>2010.000000</td>\n",
              "      <td>1600.000000</td>\n",
              "      <td>5644.000000</td>\n",
              "      <td>1474.000000</td>\n",
              "      <td>2336.000000</td>\n",
              "      <td>6110.000000</td>\n",
              "      <td>4692.000000</td>\n",
              "      <td>2065.000000</td>\n",
              "      <td>572.000000</td>\n",
              "      <td>5642.000000</td>\n",
              "      <td>3.000000</td>\n",
              "      <td>2.000000</td>\n",
              "      <td>3.000000</td>\n",
              "      <td>2.000000</td>\n",
              "      <td>8.000000</td>\n",
              "      <td>3.000000</td>\n",
              "      <td>14.000000</td>\n",
              "      <td>3.000000</td>\n",
              "      <td>2010.000000</td>\n",
              "      <td>4.000000</td>\n",
              "      <td>1418.000000</td>\n",
              "      <td>857.000000</td>\n",
              "      <td>547.000000</td>\n",
              "      <td>552.000000</td>\n",
              "      <td>508.000000</td>\n",
              "      <td>480.000000</td>\n",
              "      <td>738.000000</td>\n",
              "      <td>15500.000000</td>\n",
              "      <td>12.000000</td>\n",
              "      <td>2010.000000</td>\n",
              "      <td>755000.000000</td>\n",
              "    </tr>\n",
              "  </tbody>\n",
              "</table>\n",
              "</div>"
            ],
            "text/plain": [
              "                Id   MSSubClass  ...       YrSold      SalePrice\n",
              "count  1460.000000  1460.000000  ...  1460.000000    1460.000000\n",
              "mean    730.500000    56.897260  ...  2007.815753  180921.195890\n",
              "std     421.610009    42.300571  ...     1.328095   79442.502883\n",
              "min       1.000000    20.000000  ...  2006.000000   34900.000000\n",
              "25%     365.750000    20.000000  ...  2007.000000  129975.000000\n",
              "50%     730.500000    50.000000  ...  2008.000000  163000.000000\n",
              "75%    1095.250000    70.000000  ...  2009.000000  214000.000000\n",
              "max    1460.000000   190.000000  ...  2010.000000  755000.000000\n",
              "\n",
              "[8 rows x 38 columns]"
            ]
          },
          "metadata": {
            "tags": []
          },
          "execution_count": 174
        }
      ]
    },
    {
      "cell_type": "code",
      "metadata": {
        "colab": {
          "base_uri": "https://localhost:8080/",
          "height": 1000
        },
        "id": "wp9HBFO6jauc",
        "outputId": "9bdb1775-c56c-47c4-e4ca-f41c2276e279"
      },
      "source": [
        "# Checking for percentage of missing values in every column\r\n",
        "\r\n",
        "\r\n",
        "missed = pd.DataFrame()\r\n",
        "missed['column'] = df.columns\r\n",
        "\r\n",
        "missed['percent'] = [round(100* df[col].isnull().sum() / len(df), 2) for col in df.columns]\r\n",
        "missed = missed[missed['percent']>0].sort_values('percent')\r\n",
        "\r\n",
        "fig = px.bar(\r\n",
        "    missed, \r\n",
        "    x='percent',\r\n",
        "    y=\"column\", \r\n",
        "    orientation='h', \r\n",
        "    title='Missed values percent for every column', \r\n",
        "    height=1700, \r\n",
        "    width=800\r\n",
        ")\r\n",
        "\r\n",
        "fig.show()"
      ],
      "execution_count": null,
      "outputs": [
        {
          "output_type": "display_data",
          "data": {
            "text/html": [
              "<html>\n",
              "<head><meta charset=\"utf-8\" /></head>\n",
              "<body>\n",
              "    <div>\n",
              "            <script src=\"https://cdnjs.cloudflare.com/ajax/libs/mathjax/2.7.5/MathJax.js?config=TeX-AMS-MML_SVG\"></script><script type=\"text/javascript\">if (window.MathJax) {MathJax.Hub.Config({SVG: {font: \"STIX-Web\"}});}</script>\n",
              "                <script type=\"text/javascript\">window.PlotlyConfig = {MathJaxConfig: 'local'};</script>\n",
              "        <script src=\"https://cdn.plot.ly/plotly-latest.min.js\"></script>    \n",
              "            <div id=\"8b54560a-95d5-4197-8d9e-d7c01c36aea2\" class=\"plotly-graph-div\" style=\"height:1700px; width:800px;\"></div>\n",
              "            <script type=\"text/javascript\">\n",
              "                \n",
              "                    window.PLOTLYENV=window.PLOTLYENV || {};\n",
              "                    \n",
              "                if (document.getElementById(\"8b54560a-95d5-4197-8d9e-d7c01c36aea2\")) {\n",
              "                    Plotly.newPlot(\n",
              "                        '8b54560a-95d5-4197-8d9e-d7c01c36aea2',\n",
              "                        [{\"alignmentgroup\": \"True\", \"hoverlabel\": {\"namelength\": 0}, \"hovertemplate\": \"percent=%{x}<br>column=%{y}\", \"legendgroup\": \"\", \"marker\": {\"color\": \"#636efa\"}, \"name\": \"\", \"offsetgroup\": \"\", \"orientation\": \"h\", \"showlegend\": false, \"textposition\": \"auto\", \"type\": \"bar\", \"x\": [0.07, 0.55, 0.55, 2.53, 2.53, 2.53, 2.6, 2.6, 5.55, 5.55, 5.55, 5.55, 5.55, 17.74, 47.26, 80.75, 93.77, 96.3, 99.52], \"xaxis\": \"x\", \"y\": [\"Electrical\", \"MasVnrType\", \"MasVnrArea\", \"BsmtQual\", \"BsmtCond\", \"BsmtFinType1\", \"BsmtExposure\", \"BsmtFinType2\", \"GarageCond\", \"GarageQual\", \"GarageFinish\", \"GarageType\", \"GarageYrBlt\", \"LotFrontage\", \"FireplaceQu\", \"Fence\", \"Alley\", \"MiscFeature\", \"PoolQC\"], \"yaxis\": \"y\"}],\n",
              "                        {\"barmode\": \"relative\", \"height\": 1700, \"legend\": {\"tracegroupgap\": 0}, \"template\": {\"data\": {\"bar\": [{\"error_x\": {\"color\": \"#2a3f5f\"}, \"error_y\": {\"color\": \"#2a3f5f\"}, \"marker\": {\"line\": {\"color\": \"#E5ECF6\", \"width\": 0.5}}, \"type\": \"bar\"}], \"barpolar\": [{\"marker\": {\"line\": {\"color\": \"#E5ECF6\", \"width\": 0.5}}, \"type\": \"barpolar\"}], \"carpet\": [{\"aaxis\": {\"endlinecolor\": \"#2a3f5f\", \"gridcolor\": \"white\", \"linecolor\": \"white\", \"minorgridcolor\": \"white\", \"startlinecolor\": \"#2a3f5f\"}, \"baxis\": {\"endlinecolor\": \"#2a3f5f\", \"gridcolor\": \"white\", \"linecolor\": \"white\", \"minorgridcolor\": \"white\", \"startlinecolor\": \"#2a3f5f\"}, \"type\": \"carpet\"}], \"choropleth\": [{\"colorbar\": {\"outlinewidth\": 0, \"ticks\": \"\"}, \"type\": \"choropleth\"}], \"contour\": [{\"colorbar\": {\"outlinewidth\": 0, \"ticks\": \"\"}, \"colorscale\": [[0.0, \"#0d0887\"], [0.1111111111111111, \"#46039f\"], [0.2222222222222222, \"#7201a8\"], [0.3333333333333333, \"#9c179e\"], [0.4444444444444444, \"#bd3786\"], [0.5555555555555556, \"#d8576b\"], [0.6666666666666666, \"#ed7953\"], [0.7777777777777778, \"#fb9f3a\"], [0.8888888888888888, \"#fdca26\"], [1.0, \"#f0f921\"]], \"type\": \"contour\"}], \"contourcarpet\": [{\"colorbar\": {\"outlinewidth\": 0, \"ticks\": \"\"}, \"type\": \"contourcarpet\"}], \"heatmap\": [{\"colorbar\": {\"outlinewidth\": 0, \"ticks\": \"\"}, \"colorscale\": [[0.0, \"#0d0887\"], [0.1111111111111111, \"#46039f\"], [0.2222222222222222, \"#7201a8\"], [0.3333333333333333, \"#9c179e\"], [0.4444444444444444, \"#bd3786\"], [0.5555555555555556, \"#d8576b\"], [0.6666666666666666, \"#ed7953\"], [0.7777777777777778, \"#fb9f3a\"], [0.8888888888888888, \"#fdca26\"], [1.0, \"#f0f921\"]], \"type\": \"heatmap\"}], \"heatmapgl\": [{\"colorbar\": {\"outlinewidth\": 0, \"ticks\": \"\"}, \"colorscale\": [[0.0, \"#0d0887\"], [0.1111111111111111, \"#46039f\"], [0.2222222222222222, \"#7201a8\"], [0.3333333333333333, \"#9c179e\"], [0.4444444444444444, \"#bd3786\"], [0.5555555555555556, \"#d8576b\"], [0.6666666666666666, \"#ed7953\"], [0.7777777777777778, \"#fb9f3a\"], [0.8888888888888888, \"#fdca26\"], [1.0, \"#f0f921\"]], \"type\": \"heatmapgl\"}], \"histogram\": [{\"marker\": {\"colorbar\": {\"outlinewidth\": 0, \"ticks\": \"\"}}, \"type\": \"histogram\"}], \"histogram2d\": [{\"colorbar\": {\"outlinewidth\": 0, \"ticks\": \"\"}, \"colorscale\": [[0.0, \"#0d0887\"], [0.1111111111111111, \"#46039f\"], [0.2222222222222222, \"#7201a8\"], [0.3333333333333333, \"#9c179e\"], [0.4444444444444444, \"#bd3786\"], [0.5555555555555556, \"#d8576b\"], [0.6666666666666666, \"#ed7953\"], [0.7777777777777778, \"#fb9f3a\"], [0.8888888888888888, \"#fdca26\"], [1.0, \"#f0f921\"]], \"type\": \"histogram2d\"}], \"histogram2dcontour\": [{\"colorbar\": {\"outlinewidth\": 0, \"ticks\": \"\"}, \"colorscale\": [[0.0, \"#0d0887\"], [0.1111111111111111, \"#46039f\"], [0.2222222222222222, \"#7201a8\"], [0.3333333333333333, \"#9c179e\"], [0.4444444444444444, \"#bd3786\"], [0.5555555555555556, \"#d8576b\"], [0.6666666666666666, \"#ed7953\"], [0.7777777777777778, \"#fb9f3a\"], [0.8888888888888888, \"#fdca26\"], [1.0, \"#f0f921\"]], \"type\": \"histogram2dcontour\"}], \"mesh3d\": [{\"colorbar\": {\"outlinewidth\": 0, \"ticks\": \"\"}, \"type\": \"mesh3d\"}], \"parcoords\": [{\"line\": {\"colorbar\": {\"outlinewidth\": 0, \"ticks\": \"\"}}, \"type\": \"parcoords\"}], \"pie\": [{\"automargin\": true, \"type\": \"pie\"}], \"scatter\": [{\"marker\": {\"colorbar\": {\"outlinewidth\": 0, \"ticks\": \"\"}}, \"type\": \"scatter\"}], \"scatter3d\": [{\"line\": {\"colorbar\": {\"outlinewidth\": 0, \"ticks\": \"\"}}, \"marker\": {\"colorbar\": {\"outlinewidth\": 0, \"ticks\": \"\"}}, \"type\": \"scatter3d\"}], \"scattercarpet\": [{\"marker\": {\"colorbar\": {\"outlinewidth\": 0, \"ticks\": \"\"}}, \"type\": \"scattercarpet\"}], \"scattergeo\": [{\"marker\": {\"colorbar\": {\"outlinewidth\": 0, \"ticks\": \"\"}}, \"type\": \"scattergeo\"}], \"scattergl\": [{\"marker\": {\"colorbar\": {\"outlinewidth\": 0, \"ticks\": \"\"}}, \"type\": \"scattergl\"}], \"scattermapbox\": [{\"marker\": {\"colorbar\": {\"outlinewidth\": 0, \"ticks\": \"\"}}, \"type\": \"scattermapbox\"}], \"scatterpolar\": [{\"marker\": {\"colorbar\": {\"outlinewidth\": 0, \"ticks\": \"\"}}, \"type\": \"scatterpolar\"}], \"scatterpolargl\": [{\"marker\": {\"colorbar\": {\"outlinewidth\": 0, \"ticks\": \"\"}}, \"type\": \"scatterpolargl\"}], \"scatterternary\": [{\"marker\": {\"colorbar\": {\"outlinewidth\": 0, \"ticks\": \"\"}}, \"type\": \"scatterternary\"}], \"surface\": [{\"colorbar\": {\"outlinewidth\": 0, \"ticks\": \"\"}, \"colorscale\": [[0.0, \"#0d0887\"], [0.1111111111111111, \"#46039f\"], [0.2222222222222222, \"#7201a8\"], [0.3333333333333333, \"#9c179e\"], [0.4444444444444444, \"#bd3786\"], [0.5555555555555556, \"#d8576b\"], [0.6666666666666666, \"#ed7953\"], [0.7777777777777778, \"#fb9f3a\"], [0.8888888888888888, \"#fdca26\"], [1.0, \"#f0f921\"]], \"type\": \"surface\"}], \"table\": [{\"cells\": {\"fill\": {\"color\": \"#EBF0F8\"}, \"line\": {\"color\": \"white\"}}, \"header\": {\"fill\": {\"color\": \"#C8D4E3\"}, \"line\": {\"color\": \"white\"}}, \"type\": \"table\"}]}, \"layout\": {\"annotationdefaults\": {\"arrowcolor\": \"#2a3f5f\", \"arrowhead\": 0, \"arrowwidth\": 1}, \"coloraxis\": {\"colorbar\": {\"outlinewidth\": 0, \"ticks\": \"\"}}, \"colorscale\": {\"diverging\": [[0, \"#8e0152\"], [0.1, \"#c51b7d\"], [0.2, \"#de77ae\"], [0.3, \"#f1b6da\"], [0.4, \"#fde0ef\"], [0.5, \"#f7f7f7\"], [0.6, \"#e6f5d0\"], [0.7, \"#b8e186\"], [0.8, \"#7fbc41\"], [0.9, \"#4d9221\"], [1, \"#276419\"]], \"sequential\": [[0.0, \"#0d0887\"], [0.1111111111111111, \"#46039f\"], [0.2222222222222222, \"#7201a8\"], [0.3333333333333333, \"#9c179e\"], [0.4444444444444444, \"#bd3786\"], [0.5555555555555556, \"#d8576b\"], [0.6666666666666666, \"#ed7953\"], [0.7777777777777778, \"#fb9f3a\"], [0.8888888888888888, \"#fdca26\"], [1.0, \"#f0f921\"]], \"sequentialminus\": [[0.0, \"#0d0887\"], [0.1111111111111111, \"#46039f\"], [0.2222222222222222, \"#7201a8\"], [0.3333333333333333, \"#9c179e\"], [0.4444444444444444, \"#bd3786\"], [0.5555555555555556, \"#d8576b\"], [0.6666666666666666, \"#ed7953\"], [0.7777777777777778, \"#fb9f3a\"], [0.8888888888888888, \"#fdca26\"], [1.0, \"#f0f921\"]]}, \"colorway\": [\"#636efa\", \"#EF553B\", \"#00cc96\", \"#ab63fa\", \"#FFA15A\", \"#19d3f3\", \"#FF6692\", \"#B6E880\", \"#FF97FF\", \"#FECB52\"], \"font\": {\"color\": \"#2a3f5f\"}, \"geo\": {\"bgcolor\": \"white\", \"lakecolor\": \"white\", \"landcolor\": \"#E5ECF6\", \"showlakes\": true, \"showland\": true, \"subunitcolor\": \"white\"}, \"hoverlabel\": {\"align\": \"left\"}, \"hovermode\": \"closest\", \"mapbox\": {\"style\": \"light\"}, \"paper_bgcolor\": \"white\", \"plot_bgcolor\": \"#E5ECF6\", \"polar\": {\"angularaxis\": {\"gridcolor\": \"white\", \"linecolor\": \"white\", \"ticks\": \"\"}, \"bgcolor\": \"#E5ECF6\", \"radialaxis\": {\"gridcolor\": \"white\", \"linecolor\": \"white\", \"ticks\": \"\"}}, \"scene\": {\"xaxis\": {\"backgroundcolor\": \"#E5ECF6\", \"gridcolor\": \"white\", \"gridwidth\": 2, \"linecolor\": \"white\", \"showbackground\": true, \"ticks\": \"\", \"zerolinecolor\": \"white\"}, \"yaxis\": {\"backgroundcolor\": \"#E5ECF6\", \"gridcolor\": \"white\", \"gridwidth\": 2, \"linecolor\": \"white\", \"showbackground\": true, \"ticks\": \"\", \"zerolinecolor\": \"white\"}, \"zaxis\": {\"backgroundcolor\": \"#E5ECF6\", \"gridcolor\": \"white\", \"gridwidth\": 2, \"linecolor\": \"white\", \"showbackground\": true, \"ticks\": \"\", \"zerolinecolor\": \"white\"}}, \"shapedefaults\": {\"line\": {\"color\": \"#2a3f5f\"}}, \"ternary\": {\"aaxis\": {\"gridcolor\": \"white\", \"linecolor\": \"white\", \"ticks\": \"\"}, \"baxis\": {\"gridcolor\": \"white\", \"linecolor\": \"white\", \"ticks\": \"\"}, \"bgcolor\": \"#E5ECF6\", \"caxis\": {\"gridcolor\": \"white\", \"linecolor\": \"white\", \"ticks\": \"\"}}, \"title\": {\"x\": 0.05}, \"xaxis\": {\"automargin\": true, \"gridcolor\": \"white\", \"linecolor\": \"white\", \"ticks\": \"\", \"title\": {\"standoff\": 15}, \"zerolinecolor\": \"white\", \"zerolinewidth\": 2}, \"yaxis\": {\"automargin\": true, \"gridcolor\": \"white\", \"linecolor\": \"white\", \"ticks\": \"\", \"title\": {\"standoff\": 15}, \"zerolinecolor\": \"white\", \"zerolinewidth\": 2}}}, \"title\": {\"text\": \"Missed values percent for every column\"}, \"width\": 800, \"xaxis\": {\"anchor\": \"y\", \"domain\": [0.0, 1.0], \"title\": {\"text\": \"percent\"}}, \"yaxis\": {\"anchor\": \"x\", \"domain\": [0.0, 1.0], \"title\": {\"text\": \"column\"}}},\n",
              "                        {\"responsive\": true}\n",
              "                    ).then(function(){\n",
              "                            \n",
              "var gd = document.getElementById('8b54560a-95d5-4197-8d9e-d7c01c36aea2');\n",
              "var x = new MutationObserver(function (mutations, observer) {{\n",
              "        var display = window.getComputedStyle(gd).display;\n",
              "        if (!display || display === 'none') {{\n",
              "            console.log([gd, 'removed!']);\n",
              "            Plotly.purge(gd);\n",
              "            observer.disconnect();\n",
              "        }}\n",
              "}});\n",
              "\n",
              "// Listen for the removal of the full notebook cells\n",
              "var notebookContainer = gd.closest('#notebook-container');\n",
              "if (notebookContainer) {{\n",
              "    x.observe(notebookContainer, {childList: true});\n",
              "}}\n",
              "\n",
              "// Listen for the clearing of the current output cell\n",
              "var outputEl = gd.closest('.output');\n",
              "if (outputEl) {{\n",
              "    x.observe(outputEl, {childList: true});\n",
              "}}\n",
              "\n",
              "                        })\n",
              "                };\n",
              "                \n",
              "            </script>\n",
              "        </div>\n",
              "</body>\n",
              "</html>"
            ]
          },
          "metadata": {
            "tags": []
          }
        }
      ]
    },
    {
      "cell_type": "markdown",
      "metadata": {
        "id": "9FyB-ohG4GqQ"
      },
      "source": [
        "2. Data Cleaning "
      ]
    },
    {
      "cell_type": "code",
      "metadata": {
        "id": "x2S9WDAS4KFx"
      },
      "source": [
        "# Id is just an identifier with no predictive power and hence we can delete it\r\n",
        "df.drop('Id', axis = 1, inplace = True)"
      ],
      "execution_count": null,
      "outputs": []
    },
    {
      "cell_type": "code",
      "metadata": {
        "id": "twxdJELP4R4a"
      },
      "source": [
        "# Alley, PoolQC, Fence, and MiscFeature columns are with very high number of null values and hence we can drop the columns\r\n",
        "df = df.drop(['Alley', 'PoolQC', 'Fence', 'MiscFeature','FireplaceQu'], axis = 1)"
      ],
      "execution_count": null,
      "outputs": []
    },
    {
      "cell_type": "code",
      "metadata": {
        "colab": {
          "base_uri": "https://localhost:8080/",
          "height": 398
        },
        "id": "9Od83MVe4jtn",
        "outputId": "f2d73cf3-e23a-4503-efa2-960f46948e54"
      },
      "source": [
        "# Checking for outliers \r\n",
        "\r\n",
        "plt.figure(figsize=(25, 15))\r\n",
        "plt.subplot(2,3,1)\r\n",
        "sns.distplot(df['LotFrontage'])\r\n",
        "plt.subplot(2,3,2)\r\n",
        "sns.distplot(df['MasVnrArea'])\r\n",
        "plt.subplot(2,3,3)\r\n",
        "sns.distplot(df['GarageYrBlt'])\r\n"
      ],
      "execution_count": null,
      "outputs": [
        {
          "output_type": "execute_result",
          "data": {
            "text/plain": [
              "<matplotlib.axes._subplots.AxesSubplot at 0x7fb181584990>"
            ]
          },
          "metadata": {
            "tags": []
          },
          "execution_count": 178
        },
        {
          "output_type": "display_data",
          "data": {
            "image/png": "[encoded data removed]",
            "text/plain": [
              "<Figure size 1800x1080 with 3 Axes>"
            ]
          },
          "metadata": {
            "tags": [],
            "needs_background": "light"
          }
        }
      ]
    },
    {
      "cell_type": "markdown",
      "metadata": {
        "id": "2M-nDGnH51fm"
      },
      "source": [
        "* Can see outliers in LotFrontage and MasVnrArea and hence we can impute them by median \r\n",
        "\r\n",
        "* There seems to be no outlier in GarageYrBit and hence we can impute using mean"
      ]
    },
    {
      "cell_type": "code",
      "metadata": {
        "id": "n6Rwsb7K5wkf"
      },
      "source": [
        "# Imputing missing values\r\n",
        "\r\n",
        "df['LotFrontage']= df.LotFrontage.fillna(df.LotFrontage.median()) \r\n",
        "df['MasVnrArea']= df.MasVnrArea.fillna(df.MasVnrArea.median())   \r\n",
        "df['GarageYrBlt']= df.GarageYrBlt.fillna(df.GarageYrBlt.mean())  "
      ],
      "execution_count": null,
      "outputs": []
    },
    {
      "cell_type": "code",
      "metadata": {
        "colab": {
          "base_uri": "https://localhost:8080/",
          "height": 771
        },
        "id": "Mmhsk6Vf6gmA",
        "outputId": "41f726dd-8564-4635-b58a-a21aa4522f3f"
      },
      "source": [
        "#Checking for missing values in variables\r\n",
        "\r\n",
        "plt.figure(figsize=(25, 15))\r\n",
        "plt.subplot(2,3,1)\r\n",
        "sns.countplot(x = 'GarageCond', data = df)\r\n",
        "plt.subplot(2,3,2)\r\n",
        "sns.countplot(x = 'GarageFinish',  data = df)\r\n",
        "plt.subplot(2,3,3)\r\n",
        "sns.countplot(x = 'GarageQual', data = df)\r\n",
        "plt.subplot(2,3,4)\r\n",
        "sns.countplot(x = 'GarageType', data = df)\r\n",
        "plt.subplot(2,3,5)\r\n",
        "sns.countplot(x = 'GarageFinish',  data = df)\r\n",
        "plt.subplot(2,3,6)\r\n",
        "sns.countplot(x = 'MasVnrType', data = df)\r\n",
        "plt.show()"
      ],
      "execution_count": null,
      "outputs": [
        {
          "output_type": "display_data",
          "data": {
            "image/png": "[encoded data removed]",
            "text/plain": [
              "<Figure size 1800x1080 with 6 Axes>"
            ]
          },
          "metadata": {
            "tags": [],
            "needs_background": "light"
          }
        }
      ]
    },
    {
      "cell_type": "markdown",
      "metadata": {
        "id": "GvCqSJF17FQ1"
      },
      "source": [
        "* When the houses does not have a Garage in such situations we are replacing them with No Garage instead of nan"
      ]
    },
    {
      "cell_type": "code",
      "metadata": {
        "id": "Bvmg9NIh67vu"
      },
      "source": [
        "df['GarageType'] = df['GarageType'].replace(np.nan, 'No Garage')\r\n",
        "df['GarageFinish'] = df['GarageFinish'].replace(np.nan, 'No Garage')\r\n",
        "df['GarageCond'] = df['GarageCond'].replace(np.nan, 'No Garage')\r\n",
        "df['GarageQual'] = df['GarageQual'].replace(np.nan, 'No Garage')"
      ],
      "execution_count": null,
      "outputs": []
    },
    {
      "cell_type": "markdown",
      "metadata": {
        "id": "L0ass59x7xXN"
      },
      "source": [
        "* Replacing MasVnrType and Electrical with top values in their fields"
      ]
    },
    {
      "cell_type": "code",
      "metadata": {
        "id": "0aADIwnB7ggH"
      },
      "source": [
        "df['MasVnrType'] = df['MasVnrType'].replace(np.nan, 'None') \r\n",
        "df['Electrical'] = df['Electrical'].replace(np.nan, 'SBrkr') "
      ],
      "execution_count": null,
      "outputs": []
    },
    {
      "cell_type": "code",
      "metadata": {
        "colab": {
          "base_uri": "https://localhost:8080/",
          "height": 774
        },
        "id": "0uGP9NQd8Pn8",
        "outputId": "6cd9807c-689c-456a-8af5-67315950b51b"
      },
      "source": [
        "#Checking for missing values in variables\r\n",
        "\r\n",
        "plt.figure(figsize=(25, 15))\r\n",
        "plt.subplot(2,3,1)\r\n",
        "sns.countplot(x = 'BsmtExposure', data = df)\r\n",
        "plt.subplot(2,3,2)\r\n",
        "sns.countplot(x = 'BsmtFinType2',  data = df)\r\n",
        "plt.subplot(2,3,3)\r\n",
        "sns.countplot(x = 'BsmtQual', data = df)\r\n",
        "plt.subplot(2,3,4)\r\n",
        "sns.countplot(x = 'BsmtFinType1', data = df)\r\n",
        "plt.subplot(2,3,5)\r\n",
        "sns.countplot(x = 'BsmtCond', data = df)\r\n",
        "\r\n",
        "plt.show()"
      ],
      "execution_count": null,
      "outputs": [
        {
          "output_type": "display_data",
          "data": {
            "image/png": "[encoded data removed]",
            "text/plain": [
              "<Figure size 1800x1080 with 5 Axes>"
            ]
          },
          "metadata": {
            "tags": [],
            "needs_background": "light"
          }
        }
      ]
    },
    {
      "cell_type": "markdown",
      "metadata": {
        "id": "Dz5sxm218KkJ"
      },
      "source": [
        "* When the houses does not have a Basement in such situations we are replacing them with No Basement instead of nan "
      ]
    },
    {
      "cell_type": "code",
      "metadata": {
        "id": "Xn9Q23JQ8Ekt"
      },
      "source": [
        "df['BsmtExposure'] = df['BsmtExposure'].replace(np.nan, 'No Basement')\r\n",
        "df['BsmtFinType2'] = df['BsmtFinType2'].replace(np.nan, 'No Basement')\r\n",
        "df['BsmtCond'] = df['BsmtCond'].replace(np.nan, 'No Basement')\r\n",
        "df['BsmtQual'] = df['BsmtQual'].replace(np.nan, 'No Basement')\r\n",
        "df['BsmtFinType1'] = df['BsmtFinType1'].replace(np.nan, 'No Basement')\r\n"
      ],
      "execution_count": null,
      "outputs": []
    },
    {
      "cell_type": "code",
      "metadata": {
        "colab": {
          "base_uri": "https://localhost:8080/",
          "height": 553
        },
        "id": "1WuJurQn-FtP",
        "outputId": "18bc87e2-d5ed-4060-8adb-cfce211a6f8c"
      },
      "source": [
        "#Unique values in 'FireplaceQu'\r\n",
        "df['FireplaceQu'].value_counts()"
      ],
      "execution_count": null,
      "outputs": [
        {
          "output_type": "error",
          "ename": "KeyError",
          "evalue": "ignored",
          "traceback": [
            "\u001b[0;31m---------------------------------------------------------------------------\u001b[0m",
            "\u001b[0;31mKeyError\u001b[0m                                  Traceback (most recent call last)",
            "\u001b[0;32m/usr/local/lib/python3.7/dist-packages/pandas/core/indexes/base.py\u001b[0m in \u001b[0;36mget_loc\u001b[0;34m(self, key, method, tolerance)\u001b[0m\n\u001b[1;32m   2897\u001b[0m             \u001b[0;32mtry\u001b[0m\u001b[0;34m:\u001b[0m\u001b[0;34m\u001b[0m\u001b[0;34m\u001b[0m\u001b[0m\n\u001b[0;32m-> 2898\u001b[0;31m                 \u001b[0;32mreturn\u001b[0m \u001b[0mself\u001b[0m\u001b[0;34m.\u001b[0m\u001b[0m_engine\u001b[0m\u001b[0;34m.\u001b[0m\u001b[0mget_loc\u001b[0m\u001b[0;34m(\u001b[0m\u001b[0mcasted_key\u001b[0m\u001b[0;34m)\u001b[0m\u001b[0;34m\u001b[0m\u001b[0;34m\u001b[0m\u001b[0m\n\u001b[0m\u001b[1;32m   2899\u001b[0m             \u001b[0;32mexcept\u001b[0m \u001b[0mKeyError\u001b[0m \u001b[0;32mas\u001b[0m \u001b[0merr\u001b[0m\u001b[0;34m:\u001b[0m\u001b[0;34m\u001b[0m\u001b[0;34m\u001b[0m\u001b[0m\n",
            "\u001b[0;32mpandas/_libs/index.pyx\u001b[0m in \u001b[0;36mpandas._libs.index.IndexEngine.get_loc\u001b[0;34m()\u001b[0m\n",
            "\u001b[0;32mpandas/_libs/index.pyx\u001b[0m in \u001b[0;36mpandas._libs.index.IndexEngine.get_loc\u001b[0;34m()\u001b[0m\n",
            "\u001b[0;32mpandas/_libs/hashtable_class_helper.pxi\u001b[0m in \u001b[0;36mpandas._libs.hashtable.PyObjectHashTable.get_item\u001b[0;34m()\u001b[0m\n",
            "\u001b[0;32mpandas/_libs/hashtable_class_helper.pxi\u001b[0m in \u001b[0;36mpandas._libs.hashtable.PyObjectHashTable.get_item\u001b[0;34m()\u001b[0m\n",
            "\u001b[0;31mKeyError\u001b[0m: 'FireplaceQu'",
            "\nThe above exception was the direct cause of the following exception:\n",
            "\u001b[0;31mKeyError\u001b[0m                                  Traceback (most recent call last)",
            "\u001b[0;32m<ipython-input-185-f21ad90b11f6>\u001b[0m in \u001b[0;36m<module>\u001b[0;34m()\u001b[0m\n\u001b[1;32m      1\u001b[0m \u001b[0;31m#Unique values in 'FireplaceQu'\u001b[0m\u001b[0;34m\u001b[0m\u001b[0;34m\u001b[0m\u001b[0;34m\u001b[0m\u001b[0m\n\u001b[0;32m----> 2\u001b[0;31m \u001b[0mdf\u001b[0m\u001b[0;34m[\u001b[0m\u001b[0;34m'FireplaceQu'\u001b[0m\u001b[0;34m]\u001b[0m\u001b[0;34m.\u001b[0m\u001b[0mvalue_counts\u001b[0m\u001b[0;34m(\u001b[0m\u001b[0;34m)\u001b[0m\u001b[0;34m\u001b[0m\u001b[0;34m\u001b[0m\u001b[0m\n\u001b[0m",
            "\u001b[0;32m/usr/local/lib/python3.7/dist-packages/pandas/core/frame.py\u001b[0m in \u001b[0;36m__getitem__\u001b[0;34m(self, key)\u001b[0m\n\u001b[1;32m   2904\u001b[0m             \u001b[0;32mif\u001b[0m \u001b[0mself\u001b[0m\u001b[0;34m.\u001b[0m\u001b[0mcolumns\u001b[0m\u001b[0;34m.\u001b[0m\u001b[0mnlevels\u001b[0m \u001b[0;34m>\u001b[0m \u001b[0;36m1\u001b[0m\u001b[0;34m:\u001b[0m\u001b[0;34m\u001b[0m\u001b[0;34m\u001b[0m\u001b[0m\n\u001b[1;32m   2905\u001b[0m                 \u001b[0;32mreturn\u001b[0m \u001b[0mself\u001b[0m\u001b[0;34m.\u001b[0m\u001b[0m_getitem_multilevel\u001b[0m\u001b[0;34m(\u001b[0m\u001b[0mkey\u001b[0m\u001b[0;34m)\u001b[0m\u001b[0;34m\u001b[0m\u001b[0;34m\u001b[0m\u001b[0m\n\u001b[0;32m-> 2906\u001b[0;31m             \u001b[0mindexer\u001b[0m \u001b[0;34m=\u001b[0m \u001b[0mself\u001b[0m\u001b[0;34m.\u001b[0m\u001b[0mcolumns\u001b[0m\u001b[0;34m.\u001b[0m\u001b[0mget_loc\u001b[0m\u001b[0;34m(\u001b[0m\u001b[0mkey\u001b[0m\u001b[0;34m)\u001b[0m\u001b[0;34m\u001b[0m\u001b[0;34m\u001b[0m\u001b[0m\n\u001b[0m\u001b[1;32m   2907\u001b[0m             \u001b[0;32mif\u001b[0m \u001b[0mis_integer\u001b[0m\u001b[0;34m(\u001b[0m\u001b[0mindexer\u001b[0m\u001b[0;34m)\u001b[0m\u001b[0;34m:\u001b[0m\u001b[0;34m\u001b[0m\u001b[0;34m\u001b[0m\u001b[0m\n\u001b[1;32m   2908\u001b[0m                 \u001b[0mindexer\u001b[0m \u001b[0;34m=\u001b[0m \u001b[0;34m[\u001b[0m\u001b[0mindexer\u001b[0m\u001b[0;34m]\u001b[0m\u001b[0;34m\u001b[0m\u001b[0;34m\u001b[0m\u001b[0m\n",
            "\u001b[0;32m/usr/local/lib/python3.7/dist-packages/pandas/core/indexes/base.py\u001b[0m in \u001b[0;36mget_loc\u001b[0;34m(self, key, method, tolerance)\u001b[0m\n\u001b[1;32m   2898\u001b[0m                 \u001b[0;32mreturn\u001b[0m \u001b[0mself\u001b[0m\u001b[0;34m.\u001b[0m\u001b[0m_engine\u001b[0m\u001b[0;34m.\u001b[0m\u001b[0mget_loc\u001b[0m\u001b[0;34m(\u001b[0m\u001b[0mcasted_key\u001b[0m\u001b[0;34m)\u001b[0m\u001b[0;34m\u001b[0m\u001b[0;34m\u001b[0m\u001b[0m\n\u001b[1;32m   2899\u001b[0m             \u001b[0;32mexcept\u001b[0m \u001b[0mKeyError\u001b[0m \u001b[0;32mas\u001b[0m \u001b[0merr\u001b[0m\u001b[0;34m:\u001b[0m\u001b[0;34m\u001b[0m\u001b[0;34m\u001b[0m\u001b[0m\n\u001b[0;32m-> 2900\u001b[0;31m                 \u001b[0;32mraise\u001b[0m \u001b[0mKeyError\u001b[0m\u001b[0;34m(\u001b[0m\u001b[0mkey\u001b[0m\u001b[0;34m)\u001b[0m \u001b[0;32mfrom\u001b[0m \u001b[0merr\u001b[0m\u001b[0;34m\u001b[0m\u001b[0;34m\u001b[0m\u001b[0m\n\u001b[0m\u001b[1;32m   2901\u001b[0m \u001b[0;34m\u001b[0m\u001b[0m\n\u001b[1;32m   2902\u001b[0m         \u001b[0;32mif\u001b[0m \u001b[0mtolerance\u001b[0m \u001b[0;32mis\u001b[0m \u001b[0;32mnot\u001b[0m \u001b[0;32mNone\u001b[0m\u001b[0;34m:\u001b[0m\u001b[0;34m\u001b[0m\u001b[0;34m\u001b[0m\u001b[0m\n",
            "\u001b[0;31mKeyError\u001b[0m: 'FireplaceQu'"
          ]
        }
      ]
    },
    {
      "cell_type": "code",
      "metadata": {
        "id": "c3nu3R1P-62p"
      },
      "source": [
        "#Filling the NANs in 'FireplaceQu' with the most frequent value 'No Fireplace'\r\n",
        "df['FireplaceQu'].fillna('No Fireplace', inplace=True)"
      ],
      "execution_count": null,
      "outputs": []
    },
    {
      "cell_type": "code",
      "metadata": {
        "colab": {
          "base_uri": "https://localhost:8080/"
        },
        "id": "NGnrx44s_ToL",
        "outputId": "9f87728a-60b1-40fe-f8d5-71812399f3c8"
      },
      "source": [
        "#Checking for Null Values\r\n",
        "df.isnull().sum() "
      ],
      "execution_count": null,
      "outputs": [
        {
          "output_type": "execute_result",
          "data": {
            "text/plain": [
              "MSSubClass       0\n",
              "MSZoning         0\n",
              "LotFrontage      0\n",
              "LotArea          0\n",
              "Street           0\n",
              "                ..\n",
              "MoSold           0\n",
              "YrSold           0\n",
              "SaleType         0\n",
              "SaleCondition    0\n",
              "SalePrice        0\n",
              "Length: 75, dtype: int64"
            ]
          },
          "metadata": {
            "tags": []
          },
          "execution_count": 186
        }
      ]
    },
    {
      "cell_type": "markdown",
      "metadata": {
        "id": "wRvUbs9yM3bu"
      },
      "source": [
        "3. Data Preparation "
      ]
    },
    {
      "cell_type": "code",
      "metadata": {
        "id": "ioYUlaMIAV-Y"
      },
      "source": [
        "#changing num to categorical so as to form these as dummy variables \r\n",
        "df['MSSubClass']=df['MSSubClass'].replace({20:'1-STORY 1946 & NEWER ALL STYLES',30:'1-STORY 1945 & OLDER',40:'1-STORY W/FINISHED ATTIC ALL AGES',\r\n",
        "        45:'1-1/2 STORY - UNFINISHED ALL AGES',\r\n",
        "        50:'1-1/2 STORY FINISHED ALL AGES',\r\n",
        "        60:'2-STORY 1946 & NEWER',\r\n",
        "        70:'2-STORY 1945 & OLDER',\r\n",
        "        75:'2-1/2 STORY ALL AGES',\r\n",
        "        80:'SPLIT OR MULTI-LEVEL',\r\n",
        "        85:'SPLIT FOYER',\r\n",
        "        90:'DUPLEX - ALL STYLES AND AGES',\r\n",
        "       120:'1-STORY PUD (Planned Unit Development) - 1946 & NEWER',\r\n",
        "       150:'1-1/2 STORY PUD - ALL AGES',\r\n",
        "       160:'2-STORY PUD - 1946 & NEWER',\r\n",
        "       180:'PUD - MULTILEVEL - INCL SPLIT LEV/FOYER',\r\n",
        "       190:'2 FAMILY CONVERSION - ALL STYLES AND AGES'})\r\n",
        "\r\n",
        "df['OverallQual']=df['OverallQual'].replace({ 10:'Very Excellent',\r\n",
        "       9:'Excellent',\r\n",
        "       8:'Very Good',\r\n",
        "       7:'Good',\r\n",
        "       6:'Above Average',\r\n",
        "       5:'Average',\r\n",
        "       4:'Below Average',\r\n",
        "       3:'Fair',\r\n",
        "       2:'Poor',\r\n",
        "       1:'Very Poor'})\r\n",
        "df['OverallCond']=df['OverallCond'].replace({ 10:'Very Excellent',\r\n",
        "       9:'Excellent',\r\n",
        "       8:'Very Good',\r\n",
        "       7:'Good',\r\n",
        "       6:'Above Average',\r\n",
        "       5:'Average',\r\n",
        "       4:'Below Average',\r\n",
        "       3:'Fair',\r\n",
        "       2:'Poor',\r\n",
        "       1:'Very Poor'})"
      ],
      "execution_count": null,
      "outputs": []
    },
    {
      "cell_type": "markdown",
      "metadata": {
        "id": "lWGPTAtfNWnL"
      },
      "source": [
        "* Checking for dependant variables "
      ]
    },
    {
      "cell_type": "code",
      "metadata": {
        "colab": {
          "base_uri": "https://localhost:8080/",
          "height": 307
        },
        "id": "-DybzW1SNPRg",
        "outputId": "b94bc606-0f2c-4dd8-c48f-e6d17ea135fe"
      },
      "source": [
        "sns.distplot(df['SalePrice']) "
      ],
      "execution_count": null,
      "outputs": [
        {
          "output_type": "execute_result",
          "data": {
            "text/plain": [
              "<matplotlib.axes._subplots.AxesSubplot at 0x7fb17e4d2b50>"
            ]
          },
          "metadata": {
            "tags": []
          },
          "execution_count": 188
        },
        {
          "output_type": "display_data",
          "data": {
            "image/png": "[encoded data removed]",
            "text/plain": [
              "<Figure size 432x288 with 1 Axes>"
            ]
          },
          "metadata": {
            "tags": [],
            "needs_background": "light"
          }
        }
      ]
    },
    {
      "cell_type": "markdown",
      "metadata": {
        "id": "UyM3FSjiNhhs"
      },
      "source": [
        "It's skewed and checking for it's skewness"
      ]
    },
    {
      "cell_type": "code",
      "metadata": {
        "colab": {
          "base_uri": "https://localhost:8080/"
        },
        "id": "K5pow99wNfwG",
        "outputId": "7ffba89d-697d-4b89-a027-5b4b851b5845"
      },
      "source": [
        "print(\"Skewness: %f\" % df['SalePrice'].skew())"
      ],
      "execution_count": null,
      "outputs": [
        {
          "output_type": "stream",
          "text": [
            "Skewness: 1.882876\n"
          ],
          "name": "stdout"
        }
      ]
    },
    {
      "cell_type": "code",
      "metadata": {
        "id": "37Hd6dVNNt_f"
      },
      "source": [
        "#tranforming to form normal disribution\r\n",
        "\r\n",
        "df['SalePrice']=np.log(df.SalePrice) "
      ],
      "execution_count": null,
      "outputs": []
    },
    {
      "cell_type": "code",
      "metadata": {
        "colab": {
          "base_uri": "https://localhost:8080/",
          "height": 296
        },
        "id": "jGZUtsoAN61U",
        "outputId": "307d752b-f02e-400f-ae94-c98d49379edd"
      },
      "source": [
        "sns.distplot(df['SalePrice']) "
      ],
      "execution_count": null,
      "outputs": [
        {
          "output_type": "execute_result",
          "data": {
            "text/plain": [
              "<matplotlib.axes._subplots.AxesSubplot at 0x7fb17df81f90>"
            ]
          },
          "metadata": {
            "tags": []
          },
          "execution_count": 191
        },
        {
          "output_type": "display_data",
          "data": {
            "image/png": "[encoded data removed]",
            "text/plain": [
              "<Figure size 432x288 with 1 Axes>"
            ]
          },
          "metadata": {
            "tags": [],
            "needs_background": "light"
          }
        }
      ]
    },
    {
      "cell_type": "markdown",
      "metadata": {
        "id": "BGwYslbKOCVL"
      },
      "source": [
        "It is normally distributed"
      ]
    },
    {
      "cell_type": "markdown",
      "metadata": {
        "id": "98cFnQhcOSy6"
      },
      "source": [
        "EDA "
      ]
    },
    {
      "cell_type": "markdown",
      "metadata": {
        "id": "RSvd83teOrkU"
      },
      "source": [
        "* As there are many categorical columns , I have chosen some sets among them for EDA "
      ]
    },
    {
      "cell_type": "code",
      "metadata": {
        "colab": {
          "base_uri": "https://localhost:8080/",
          "height": 1000
        },
        "id": "5opWO6zSO7i9",
        "outputId": "669f6ed7-aa62-4b6a-9ec7-cdafadfbc318"
      },
      "source": [
        "plt.figure(figsize=(25, 15))\r\n",
        "plt.subplot(2,3,1)\r\n",
        "sns.countplot(x = 'KitchenQual',  data = df)\r\n",
        "plt.subplot(2,3,2)\r\n",
        "sns.countplot(x = 'Functional', data = df)\r\n",
        "plt.subplot(2,3,3)\r\n",
        "sns.countplot(x = 'OverallQual', data = df)\r\n",
        "plt.xticks(rotation=90)\r\n",
        "plt.subplot(2,3,4)\r\n",
        "sns.countplot(x = 'OverallCond', data = df)\r\n",
        "plt.xticks(rotation=90)\r\n",
        "\r\n",
        "plt.subplot(2,3,5)\r\n",
        "sns.countplot(x = 'MSSubClass',  data = df)\r\n",
        "plt.xticks(rotation=90)\r\n",
        "\r\n",
        "\r\n",
        "plt.show()"
      ],
      "execution_count": null,
      "outputs": [
        {
          "output_type": "display_data",
          "data": {
            "image/png": "[encoded data removed]",
            "text/plain": [
              "<Figure size 1800x1080 with 5 Axes>"
            ]
          },
          "metadata": {
            "tags": [],
            "needs_background": "light"
          }
        }
      ]
    },
    {
      "cell_type": "code",
      "metadata": {
        "id": "8MolpWy6Qw14"
      },
      "source": [
        "# Dropping highly skewed column \r\n",
        "df.drop(['Functional'],axis=1,inplace=True)"
      ],
      "execution_count": null,
      "outputs": []
    },
    {
      "cell_type": "code",
      "metadata": {
        "colab": {
          "base_uri": "https://localhost:8080/",
          "height": 1000
        },
        "id": "GwSyfDuCOcKY",
        "outputId": "9f727095-8240-43c0-843a-2fbdc6b8ed07"
      },
      "source": [
        "plt.figure(figsize=(25, 15))\r\n",
        "plt.subplot(2,2,1)\r\n",
        "sns.boxplot(x ='KitchenQual', y ='SalePrice', data = df)\r\n",
        "plt.subplot(2,2,2)\r\n",
        "sns.boxplot(x = 'OverallQual', y = 'SalePrice', data = df)\r\n",
        "plt.xticks(rotation=90)\r\n",
        "\r\n",
        "plt.subplot(2,2,3)\r\n",
        "sns.boxplot(x = 'OverallCond', y = 'SalePrice', data = df)\r\n",
        "plt.xticks(rotation=90)\r\n",
        "\r\n",
        "plt.subplot(2,2,4)\r\n",
        "sns.boxplot(x = 'MSSubClass', y = 'SalePrice', data = df)\r\n",
        "plt.xticks(rotation=90)\r\n",
        "\r\n",
        "plt.show()"
      ],
      "execution_count": null,
      "outputs": [
        {
          "output_type": "display_data",
          "data": {
            "image/png": "[encoded data removed]",
            "text/plain": [
              "<Figure size 1800x1080 with 4 Axes>"
            ]
          },
          "metadata": {
            "tags": [],
            "needs_background": "light"
          }
        }
      ]
    },
    {
      "cell_type": "code",
      "metadata": {
        "colab": {
          "base_uri": "https://localhost:8080/",
          "height": 771
        },
        "id": "2UzpXjIXQ6Ks",
        "outputId": "71dbe87d-2675-4179-872c-9c6e2177ea8c"
      },
      "source": [
        "plt.figure(figsize=(25, 15))\r\n",
        "plt.subplot(2,3,1)\r\n",
        "sns.countplot(x = 'GarageType',  data = df)\r\n",
        "plt.subplot(2,3,2)\r\n",
        "sns.countplot(x = 'GarageFinish', data = df)\r\n",
        "plt.subplot(2,3,3)\r\n",
        "sns.countplot(x = 'GarageQual', data = df)\r\n",
        "plt.subplot(2,3,4)\r\n",
        "sns.countplot(x = 'GarageCond', data = df)\r\n",
        "plt.subplot(2,3,5)\r\n",
        "sns.countplot(x = 'SaleType',  data = df)\r\n",
        "plt.subplot(2,3,6)\r\n",
        "sns.countplot(x = 'SaleCondition', data = df)\r\n",
        "plt.show()"
      ],
      "execution_count": null,
      "outputs": [
        {
          "output_type": "display_data",
          "data": {
            "image/png": "[encoded data removed]",
            "text/plain": [
              "<Figure size 1800x1080 with 6 Axes>"
            ]
          },
          "metadata": {
            "tags": [],
            "needs_background": "light"
          }
        }
      ]
    },
    {
      "cell_type": "markdown",
      "metadata": {
        "id": "PBhg41BGRNDm"
      },
      "source": [
        "* We can observe that GarageQual , GaragaeCond and SaleType are highly skewed and hence dropping them"
      ]
    },
    {
      "cell_type": "code",
      "metadata": {
        "id": "bBQuw2f_RPbh"
      },
      "source": [
        "df.drop(['GarageQual','GarageCond','SaleType'],axis=1,inplace=True)"
      ],
      "execution_count": null,
      "outputs": []
    },
    {
      "cell_type": "markdown",
      "metadata": {
        "id": "R8kqHkj9RxSB"
      },
      "source": [
        "* As some of the values in GarageType and SaleCondition are very less we can replace them with Others"
      ]
    },
    {
      "cell_type": "code",
      "metadata": {
        "id": "bINChkKsRbnJ"
      },
      "source": [
        "df['GarageType'] = df['GarageType'].replace(['Basment','CarPort','2Types'],'Others')\r\n",
        "df['SaleCondition'] = df['SaleCondition'].replace(['Family','Alloca','AdjLand'],'Others')"
      ],
      "execution_count": null,
      "outputs": []
    },
    {
      "cell_type": "code",
      "metadata": {
        "colab": {
          "base_uri": "https://localhost:8080/",
          "height": 789
        },
        "id": "dBRWGKZqR73S",
        "outputId": "18871e2b-9ef0-4a36-9846-59c4c601ca0e"
      },
      "source": [
        "plt.figure(figsize=(25, 15))\r\n",
        "plt.subplot(1,2,1)\r\n",
        "sns.boxplot(x = 'GarageType', y ='SalePrice', data = df)\r\n",
        "plt.subplot(1,2,2)\r\n",
        "sns.boxplot(x = 'GarageFinish', y = 'SalePrice', data = df)"
      ],
      "execution_count": null,
      "outputs": [
        {
          "output_type": "execute_result",
          "data": {
            "text/plain": [
              "<matplotlib.axes._subplots.AxesSubplot at 0x7fb17dde1d50>"
            ]
          },
          "metadata": {
            "tags": []
          },
          "execution_count": 198
        },
        {
          "output_type": "display_data",
          "data": {
            "image/png": "[encoded data removed]",
            "text/plain": [
              "<Figure size 1800x1080 with 2 Axes>"
            ]
          },
          "metadata": {
            "tags": [],
            "needs_background": "light"
          }
        }
      ]
    },
    {
      "cell_type": "markdown",
      "metadata": {
        "id": "1K3wIRIGSO2R"
      },
      "source": [
        "* We observe that price of built in garage and finished garage are maximum"
      ]
    },
    {
      "cell_type": "code",
      "metadata": {
        "colab": {
          "base_uri": "https://localhost:8080/",
          "height": 771
        },
        "id": "VSIGyhh9SDz3",
        "outputId": "fd6de066-34fc-4282-8ae5-8cf757d1cc3b"
      },
      "source": [
        "plt.figure(figsize=(25, 15))\r\n",
        "plt.subplot(2,3,1)\r\n",
        "sns.countplot(x = 'ExterQual',  data = df)\r\n",
        "plt.subplot(2,3,2)\r\n",
        "sns.countplot(x = 'ExterCond', data = df)\r\n",
        "plt.subplot(2,3,3)\r\n",
        "sns.countplot(x = 'Foundation', data = df)\r\n",
        "plt.subplot(2,3,4)\r\n",
        "sns.countplot(x = 'Heating', data = df)\r\n",
        "plt.subplot(2,3,5)\r\n",
        "sns.countplot(x = 'HeatingQC',  data = df)\r\n",
        "plt.subplot(2,3,6)\r\n",
        "sns.countplot(x = 'CentralAir', data = df)\r\n",
        "plt.show()"
      ],
      "execution_count": null,
      "outputs": [
        {
          "output_type": "display_data",
          "data": {
            "image/png": "[encoded data removed]",
            "text/plain": [
              "<Figure size 1800x1080 with 6 Axes>"
            ]
          },
          "metadata": {
            "tags": [],
            "needs_background": "light"
          }
        }
      ]
    },
    {
      "cell_type": "markdown",
      "metadata": {
        "id": "tqexWqHtT3IM"
      },
      "source": [
        "* We observe that Heating , CentralAir and ExterCond are skewed so would be dropping these variables"
      ]
    },
    {
      "cell_type": "code",
      "metadata": {
        "id": "GJvrSNqKT2rG"
      },
      "source": [
        "df.drop(['CentralAir','Heating','ExterCond'],axis=1,inplace=True)"
      ],
      "execution_count": null,
      "outputs": []
    },
    {
      "cell_type": "markdown",
      "metadata": {
        "id": "GM6BLfvYUQLR"
      },
      "source": [
        "* As some of the values in Foundation is very less we can replace them with Others"
      ]
    },
    {
      "cell_type": "code",
      "metadata": {
        "id": "2FJhib4AUU4X"
      },
      "source": [
        "df['Foundation'] = df['Foundation'].replace(['Slab','Stone','Wood'],'Others')\r\n"
      ],
      "execution_count": null,
      "outputs": []
    },
    {
      "cell_type": "code",
      "metadata": {
        "colab": {
          "base_uri": "https://localhost:8080/",
          "height": 789
        },
        "id": "aVsNodCxUXt4",
        "outputId": "b99b4044-6a66-4c9e-8c00-7ce4720a3ff9"
      },
      "source": [
        "plt.figure(figsize=(25, 15))\r\n",
        "plt.subplot(1,3,1)\r\n",
        "sns.boxplot(x = 'ExterQual', y ='SalePrice', data = df)\r\n",
        "plt.subplot(1,3,2)\r\n",
        "sns.boxplot(x = 'Foundation', y = 'SalePrice', data = df)\r\n",
        "plt.subplot(1,3,3)\r\n",
        "sns.boxplot(x = 'HeatingQC', y = 'SalePrice', data = df)"
      ],
      "execution_count": null,
      "outputs": [
        {
          "output_type": "execute_result",
          "data": {
            "text/plain": [
              "<matplotlib.axes._subplots.AxesSubplot at 0x7fb17e1e2e10>"
            ]
          },
          "metadata": {
            "tags": []
          },
          "execution_count": 202
        },
        {
          "output_type": "display_data",
          "data": {
            "image/png": "[encoded data removed]",
            "text/plain": [
              "<Figure size 1800x1080 with 3 Axes>"
            ]
          },
          "metadata": {
            "tags": [],
            "needs_background": "light"
          }
        }
      ]
    },
    {
      "cell_type": "markdown",
      "metadata": {
        "id": "QmQMlpSaUxEI"
      },
      "source": [
        "* Price of Poured Concrete Foundation is the maximum "
      ]
    },
    {
      "cell_type": "code",
      "metadata": {
        "colab": {
          "base_uri": "https://localhost:8080/",
          "height": 808
        },
        "id": "IQfd-e5wUsOy",
        "outputId": "2f14be6b-f68d-40c5-9a93-e5d6e578847f"
      },
      "source": [
        "plt.figure(figsize=(25, 15))\r\n",
        "plt.subplot(2,3,1)\r\n",
        "sns.countplot(x = 'HouseStyle',  data = df)\r\n",
        "plt.subplot(2,3,2)\r\n",
        "sns.countplot(x = 'RoofStyle', data = df)\r\n",
        "plt.subplot(2,3,3)\r\n",
        "sns.countplot(x = 'RoofMatl', data = df)\r\n",
        "plt.xticks(rotation=90)\r\n",
        "plt.subplot(2,3,4)\r\n",
        "sns.countplot(x = 'Exterior1st', data = df)\r\n",
        "plt.xticks(rotation=90)\r\n",
        "plt.subplot(2,3,5)\r\n",
        "sns.countplot(x = 'Exterior2nd',  data = df)\r\n",
        "plt.xticks(rotation=90)\r\n",
        "plt.subplot(2,3,6)\r\n",
        "sns.countplot(x = 'MasVnrType', data = df)\r\n",
        "plt.show()\r\n"
      ],
      "execution_count": null,
      "outputs": [
        {
          "output_type": "display_data",
          "data": {
            "image/png": "[encoded data removed]",
            "text/plain": [
              "<Figure size 1800x1080 with 6 Axes>"
            ]
          },
          "metadata": {
            "tags": [],
            "needs_background": "light"
          }
        }
      ]
    },
    {
      "cell_type": "markdown",
      "metadata": {
        "id": "BpcirQAvVU-U"
      },
      "source": [
        "* We observe that RoofMatl is skewed and hence dropping it "
      ]
    },
    {
      "cell_type": "code",
      "metadata": {
        "id": "R5sia9ymVF8Z"
      },
      "source": [
        " df.drop(['RoofMatl'],axis=1,inplace=True)"
      ],
      "execution_count": null,
      "outputs": []
    },
    {
      "cell_type": "markdown",
      "metadata": {
        "id": "G_z6iMD2VjgB"
      },
      "source": [
        "* We observe that HouseStyle , RoofStyle , Exterior1st , Exterior2nd have some values which are less in number and replacing them with Others"
      ]
    },
    {
      "cell_type": "code",
      "metadata": {
        "id": "ksXe9KIcVgKq"
      },
      "source": [
        "df['HouseStyle'] = df['HouseStyle'].replace(['SFoyer','1.5Unf','2.5Unf','2.5Fin'],'Others')\r\n",
        "df['RoofStyle'] = df['RoofStyle'].replace(['Shed','Mansard','Gambrel','Flat'],'Others')\r\n",
        "df['Exterior1st'] = df['Exterior1st'].replace(['AsphShn','ImStucc','CBlock','Stone','BrkComm','AsbShng','Stucco','WdShing'],'Others')\r\n",
        "df['Exterior2nd'] = df['Exterior2nd'].replace(['Other','AsphShn','ImStucc','CBlock','Stone','BrkComm','AsbShng','Stucco','BrkFace'],'Others')"
      ],
      "execution_count": null,
      "outputs": []
    },
    {
      "cell_type": "code",
      "metadata": {
        "colab": {
          "base_uri": "https://localhost:8080/",
          "height": 804
        },
        "id": "nnCbdPUwV8__",
        "outputId": "0e1fa322-22a2-44b5-9ccb-1d9cf05a748b"
      },
      "source": [
        "plt.figure(figsize=(25, 15))\r\n",
        "plt.subplot(2,3,1)\r\n",
        "sns.boxplot(x = 'HouseStyle', y ='SalePrice', data = df)\r\n",
        "plt.subplot(2,3,2)\r\n",
        "sns.boxplot(x = 'RoofStyle', y = 'SalePrice', data = df)\r\n",
        "plt.subplot(2,3,3)\r\n",
        "sns.boxplot(x = 'MasVnrType', y = 'SalePrice', data = df)\r\n",
        "plt.subplot(2,3,4)\r\n",
        "sns.boxplot(x = 'Exterior1st', y = 'SalePrice', data = df)\r\n",
        "plt.xticks(rotation=90)\r\n",
        "plt.subplot(2,3,5)\r\n",
        "sns.boxplot(x = 'Exterior2nd', y = 'SalePrice', data = df)\r\n",
        "plt.xticks(rotation=90)\r\n",
        "plt.show()"
      ],
      "execution_count": null,
      "outputs": [
        {
          "output_type": "display_data",
          "data": {
            "image/png": "[encoded data removed]",
            "text/plain": [
              "<Figure size 1800x1080 with 5 Axes>"
            ]
          },
          "metadata": {
            "tags": [],
            "needs_background": "light"
          }
        }
      ]
    },
    {
      "cell_type": "code",
      "metadata": {
        "colab": {
          "base_uri": "https://localhost:8080/",
          "height": 771
        },
        "id": "vkQ3GwSdWHsN",
        "outputId": "7c30ecb6-7f70-4834-c8c0-25661ac2e40c"
      },
      "source": [
        "plt.figure(figsize=(25, 15))\r\n",
        "plt.subplot(2,3,1)\r\n",
        "sns.countplot(x = 'Utilities',  data = df)\r\n",
        "plt.subplot(2,3,2)\r\n",
        "sns.countplot(x = 'Street', data = df)\r\n",
        "plt.subplot(2,3,3)\r\n",
        "sns.countplot(x = 'Neighborhood', data = df)\r\n",
        "plt.xticks(rotation=90)\r\n",
        "plt.subplot(2,3,4)\r\n",
        "sns.countplot(x = 'Condition1', data = df)\r\n",
        "plt.subplot(2,3,5)\r\n",
        "sns.countplot(x = 'Condition2',  data = df)\r\n",
        "plt.subplot(2,3,6)\r\n",
        "sns.countplot(x = 'BldgType', data = df)\r\n",
        "plt.show()"
      ],
      "execution_count": null,
      "outputs": [
        {
          "output_type": "display_data",
          "data": {
            "image/png": "[encoded data removed]",
            "text/plain": [
              "<Figure size 1800x1080 with 6 Axes>"
            ]
          },
          "metadata": {
            "tags": [],
            "needs_background": "light"
          }
        }
      ]
    },
    {
      "cell_type": "markdown",
      "metadata": {
        "id": "bMRDUm3RW9HQ"
      },
      "source": [
        "* We observe that Utilities , Street , Condition1 , Condition2 are highly skewed and hence removing it."
      ]
    },
    {
      "cell_type": "code",
      "metadata": {
        "id": "ZEJSBNscWtx2"
      },
      "source": [
        "df.drop(['Utilities','Street','Condition1','Condition2'],axis=1,inplace=True)"
      ],
      "execution_count": null,
      "outputs": []
    },
    {
      "cell_type": "code",
      "metadata": {
        "colab": {
          "base_uri": "https://localhost:8080/",
          "height": 771
        },
        "id": "w7FJkI-8XPAN",
        "outputId": "2958d9cc-fa53-414e-d730-a0934726b37d"
      },
      "source": [
        "plt.figure(figsize=(25, 15))\r\n",
        "plt.subplot(2,3,1)\r\n",
        "sns.countplot(x = 'LandContour',  data = df)\r\n",
        "plt.subplot(2,3,2)\r\n",
        "sns.countplot(x = 'LandSlope', data = df)\r\n",
        "plt.subplot(2,3,3)\r\n",
        "sns.countplot(x = 'LotShape', data = df)\r\n",
        "plt.subplot(2,3,4)\r\n",
        "sns.countplot(x = 'Electrical', data = df)\r\n",
        "plt.subplot(2,3,5)\r\n",
        "sns.countplot(x = 'MSZoning',  data = df)\r\n",
        "plt.subplot(2,3,6)\r\n",
        "sns.countplot(x = 'LotConfig', data = df)\r\n",
        "plt.show()"
      ],
      "execution_count": null,
      "outputs": [
        {
          "output_type": "display_data",
          "data": {
            "image/png": "[encoded data removed]",
            "text/plain": [
              "<Figure size 1800x1080 with 6 Axes>"
            ]
          },
          "metadata": {
            "tags": [],
            "needs_background": "light"
          }
        }
      ]
    },
    {
      "cell_type": "markdown",
      "metadata": {
        "id": "SIGbwT6MXwPv"
      },
      "source": [
        "* We observe that LandSlope , LandContour , Electrical are highly skewed and hence removing it "
      ]
    },
    {
      "cell_type": "code",
      "metadata": {
        "id": "qsc_rgsKXhrF"
      },
      "source": [
        "df.drop(['LandSlope','LandContour','Electrical'],axis=1,inplace=True)\r\n"
      ],
      "execution_count": null,
      "outputs": []
    },
    {
      "cell_type": "markdown",
      "metadata": {
        "id": "BA9IbgLlX9mN"
      },
      "source": [
        "* In MSZoning converting the values which are less in number are converted to Others"
      ]
    },
    {
      "cell_type": "code",
      "metadata": {
        "id": "VNGR2rGDXyNh"
      },
      "source": [
        "df['MSZoning'] = df['MSZoning'].replace(['RH','C (all)'],'Others')\r\n"
      ],
      "execution_count": null,
      "outputs": []
    },
    {
      "cell_type": "code",
      "metadata": {
        "colab": {
          "base_uri": "https://localhost:8080/",
          "height": 777
        },
        "id": "Jn5XkjcKYEY5",
        "outputId": "c9f6f6ca-94e4-4b05-aa71-df9ada186bf0"
      },
      "source": [
        "plt.figure(figsize=(25, 15))\r\n",
        "plt.subplot(2,3,1)\r\n",
        "sns.countplot(x = 'BsmtQual',  data = df)\r\n",
        "plt.subplot(2,3,2)\r\n",
        "sns.countplot(x = 'BsmtCond', data = df)\r\n",
        "plt.subplot(2,3,3)\r\n",
        "sns.countplot(x = 'BsmtExposure', data = df)\r\n",
        "plt.subplot(2,3,4)\r\n",
        "sns.countplot(x = 'BsmtFinType1', data = df)\r\n",
        "plt.subplot(2,3,5)\r\n",
        "sns.countplot(x = 'BsmtFinType2',  data = df)\r\n",
        "plt.subplot(2,3,6)\r\n",
        "sns.countplot(x = 'PavedDrive', data = df)\r\n",
        "plt.show()"
      ],
      "execution_count": null,
      "outputs": [
        {
          "output_type": "display_data",
          "data": {
            "image/png": "[encoded data removed]",
            "text/plain": [
              "<Figure size 1800x1080 with 6 Axes>"
            ]
          },
          "metadata": {
            "tags": [],
            "needs_background": "light"
          }
        }
      ]
    },
    {
      "cell_type": "markdown",
      "metadata": {
        "id": "ebUvAEw0ZCZi"
      },
      "source": [
        "* Removing the skewed columns"
      ]
    },
    {
      "cell_type": "code",
      "metadata": {
        "id": "ZworizQZYy8C"
      },
      "source": [
        "df.drop(['BsmtFinType2','PavedDrive','BsmtCond'],axis=1,inplace=True)\r\n"
      ],
      "execution_count": null,
      "outputs": []
    },
    {
      "cell_type": "markdown",
      "metadata": {
        "id": "44rMMpTyZTjC"
      },
      "source": [
        "* Feature Engineering"
      ]
    },
    {
      "cell_type": "code",
      "metadata": {
        "id": "gnceyRYJZR9K"
      },
      "source": [
        "df['YearSinceRemodel'] = 2010 - ((df['YearRemodAdd'] - df['YearBuilt']) + df['YearBuilt'])"
      ],
      "execution_count": null,
      "outputs": []
    },
    {
      "cell_type": "markdown",
      "metadata": {
        "id": "U57218vpZw1T"
      },
      "source": [
        "* Splitting into Numerical and Categorical Columns"
      ]
    },
    {
      "cell_type": "code",
      "metadata": {
        "colab": {
          "base_uri": "https://localhost:8080/"
        },
        "id": "YkukHNGBZH1Y",
        "outputId": "b03fd4a6-f444-4b23-b17c-4b0e07399870"
      },
      "source": [
        "numerical = df.select_dtypes(include=['int64','float64'])\r\n",
        "numerical.columns"
      ],
      "execution_count": null,
      "outputs": [
        {
          "output_type": "execute_result",
          "data": {
            "text/plain": [
              "Index(['LotFrontage', 'LotArea', 'YearBuilt', 'YearRemodAdd', 'MasVnrArea',\n",
              "       'BsmtFinSF1', 'BsmtFinSF2', 'BsmtUnfSF', 'TotalBsmtSF', '1stFlrSF',\n",
              "       '2ndFlrSF', 'LowQualFinSF', 'GrLivArea', 'BsmtFullBath', 'BsmtHalfBath',\n",
              "       'FullBath', 'HalfBath', 'BedroomAbvGr', 'KitchenAbvGr', 'TotRmsAbvGrd',\n",
              "       'Fireplaces', 'GarageYrBlt', 'GarageCars', 'GarageArea', 'WoodDeckSF',\n",
              "       'OpenPorchSF', 'EnclosedPorch', '3SsnPorch', 'ScreenPorch', 'PoolArea',\n",
              "       'MiscVal', 'MoSold', 'YrSold', 'SalePrice', 'YearSinceRemodel'],\n",
              "      dtype='object')"
            ]
          },
          "metadata": {
            "tags": []
          },
          "execution_count": 215
        }
      ]
    },
    {
      "cell_type": "code",
      "metadata": {
        "colab": {
          "base_uri": "https://localhost:8080/"
        },
        "id": "5mF-SjxXaoHi",
        "outputId": "e27e0c61-dd7f-45df-ff13-3b8820d38112"
      },
      "source": [
        "categorical = df.select_dtypes(include=['object'])\r\n",
        "categorical.columns"
      ],
      "execution_count": null,
      "outputs": [
        {
          "output_type": "execute_result",
          "data": {
            "text/plain": [
              "Index(['MSSubClass', 'MSZoning', 'LotShape', 'LotConfig', 'Neighborhood',\n",
              "       'BldgType', 'HouseStyle', 'OverallQual', 'OverallCond', 'RoofStyle',\n",
              "       'Exterior1st', 'Exterior2nd', 'MasVnrType', 'ExterQual', 'Foundation',\n",
              "       'BsmtQual', 'BsmtExposure', 'BsmtFinType1', 'HeatingQC', 'KitchenQual',\n",
              "       'GarageType', 'GarageFinish', 'SaleCondition'],\n",
              "      dtype='object')"
            ]
          },
          "metadata": {
            "tags": []
          },
          "execution_count": 216
        }
      ]
    },
    {
      "cell_type": "code",
      "metadata": {
        "colab": {
          "base_uri": "https://localhost:8080/"
        },
        "id": "dZXE8zfNa0f_",
        "outputId": "9d26aa61-63f9-4889-bed8-2d55eb26dd3c"
      },
      "source": [
        "cat = pd.get_dummies(categorical,drop_first=True) \r\n",
        "\r\n",
        "cat.shape"
      ],
      "execution_count": null,
      "outputs": [
        {
          "output_type": "execute_result",
          "data": {
            "text/plain": [
              "(1460, 130)"
            ]
          },
          "metadata": {
            "tags": []
          },
          "execution_count": 217
        }
      ]
    },
    {
      "cell_type": "code",
      "metadata": {
        "id": "KSoda7XubD-y"
      },
      "source": [
        "df_concat = pd.concat([df, cat], axis=1)\r\n"
      ],
      "execution_count": null,
      "outputs": []
    },
    {
      "cell_type": "markdown",
      "metadata": {
        "id": "ulamHNIfbaWQ"
      },
      "source": [
        "* Removing columns as dummy variables already formed"
      ]
    },
    {
      "cell_type": "code",
      "metadata": {
        "id": "dTttNh8kbMr8"
      },
      "source": [
        "df_concat.drop(['MSZoning', 'LotShape', 'LotConfig', 'Neighborhood', 'BldgType',\r\n",
        "       'HouseStyle', 'RoofStyle', 'Exterior1st', 'Exterior2nd', 'MasVnrType',\r\n",
        "       'ExterQual', 'Foundation', 'BsmtQual', 'BsmtExposure', 'BsmtFinType1',\r\n",
        "       'HeatingQC', 'KitchenQual', 'GarageType', 'GarageFinish',\r\n",
        "       'SaleCondition','OverallCond','MSSubClass','OverallQual'],axis=1,inplace=True) "
      ],
      "execution_count": null,
      "outputs": []
    },
    {
      "cell_type": "code",
      "metadata": {
        "id": "dDG9DdBBk7SG"
      },
      "source": [
        "df_concat.drop(['YearBuilt','YearRemodAdd','GarageYrBlt','YrSold'],axis=1,inplace=True)"
      ],
      "execution_count": null,
      "outputs": []
    },
    {
      "cell_type": "markdown",
      "metadata": {
        "id": "CSDR122bcjnZ"
      },
      "source": [
        "* Putting feature variable to X\r\n"
      ]
    },
    {
      "cell_type": "code",
      "metadata": {
        "colab": {
          "base_uri": "https://localhost:8080/",
          "height": 329
        },
        "id": "DNKOp7vNcJWm",
        "outputId": "a57905df-409d-40e0-ceda-20a87ec6fc88"
      },
      "source": [
        "X = df_concat.drop(['SalePrice'], axis=1)\r\n",
        "\r\n",
        "X.head()"
      ],
      "execution_count": null,
      "outputs": [
        {
          "output_type": "execute_result",
          "data": {
            "text/html": [
              "<div>\n",
              "<style scoped>\n",
              "    .dataframe tbody tr th:only-of-type {\n",
              "        vertical-align: middle;\n",
              "    }\n",
              "\n",
              "    .dataframe tbody tr th {\n",
              "        vertical-align: top;\n",
              "    }\n",
              "\n",
              "    .dataframe thead th {\n",
              "        text-align: right;\n",
              "    }\n",
              "</style>\n",
              "<table border=\"1\" class=\"dataframe\">\n",
              "  <thead>\n",
              "    <tr style=\"text-align: right;\">\n",
              "      <th></th>\n",
              "      <th>LotFrontage</th>\n",
              "      <th>LotArea</th>\n",
              "      <th>MasVnrArea</th>\n",
              "      <th>BsmtFinSF1</th>\n",
              "      <th>BsmtFinSF2</th>\n",
              "      <th>BsmtUnfSF</th>\n",
              "      <th>TotalBsmtSF</th>\n",
              "      <th>1stFlrSF</th>\n",
              "      <th>2ndFlrSF</th>\n",
              "      <th>LowQualFinSF</th>\n",
              "      <th>GrLivArea</th>\n",
              "      <th>BsmtFullBath</th>\n",
              "      <th>BsmtHalfBath</th>\n",
              "      <th>FullBath</th>\n",
              "      <th>HalfBath</th>\n",
              "      <th>BedroomAbvGr</th>\n",
              "      <th>KitchenAbvGr</th>\n",
              "      <th>TotRmsAbvGrd</th>\n",
              "      <th>Fireplaces</th>\n",
              "      <th>GarageCars</th>\n",
              "      <th>GarageArea</th>\n",
              "      <th>WoodDeckSF</th>\n",
              "      <th>OpenPorchSF</th>\n",
              "      <th>EnclosedPorch</th>\n",
              "      <th>3SsnPorch</th>\n",
              "      <th>ScreenPorch</th>\n",
              "      <th>PoolArea</th>\n",
              "      <th>MiscVal</th>\n",
              "      <th>MoSold</th>\n",
              "      <th>YearSinceRemodel</th>\n",
              "      <th>MSSubClass_1-1/2 STORY FINISHED ALL AGES</th>\n",
              "      <th>MSSubClass_1-STORY 1945 &amp; OLDER</th>\n",
              "      <th>MSSubClass_1-STORY 1946 &amp; NEWER ALL STYLES</th>\n",
              "      <th>MSSubClass_1-STORY PUD (Planned Unit Development) - 1946 &amp; NEWER</th>\n",
              "      <th>MSSubClass_1-STORY W/FINISHED ATTIC ALL AGES</th>\n",
              "      <th>MSSubClass_2 FAMILY CONVERSION - ALL STYLES AND AGES</th>\n",
              "      <th>MSSubClass_2-1/2 STORY ALL AGES</th>\n",
              "      <th>MSSubClass_2-STORY 1945 &amp; OLDER</th>\n",
              "      <th>MSSubClass_2-STORY 1946 &amp; NEWER</th>\n",
              "      <th>MSSubClass_2-STORY PUD - 1946 &amp; NEWER</th>\n",
              "      <th>...</th>\n",
              "      <th>MasVnrType_BrkFace</th>\n",
              "      <th>MasVnrType_None</th>\n",
              "      <th>MasVnrType_Stone</th>\n",
              "      <th>ExterQual_Fa</th>\n",
              "      <th>ExterQual_Gd</th>\n",
              "      <th>ExterQual_TA</th>\n",
              "      <th>Foundation_CBlock</th>\n",
              "      <th>Foundation_Others</th>\n",
              "      <th>Foundation_PConc</th>\n",
              "      <th>BsmtQual_Fa</th>\n",
              "      <th>BsmtQual_Gd</th>\n",
              "      <th>BsmtQual_No Basement</th>\n",
              "      <th>BsmtQual_TA</th>\n",
              "      <th>BsmtExposure_Gd</th>\n",
              "      <th>BsmtExposure_Mn</th>\n",
              "      <th>BsmtExposure_No</th>\n",
              "      <th>BsmtExposure_No Basement</th>\n",
              "      <th>BsmtFinType1_BLQ</th>\n",
              "      <th>BsmtFinType1_GLQ</th>\n",
              "      <th>BsmtFinType1_LwQ</th>\n",
              "      <th>BsmtFinType1_No Basement</th>\n",
              "      <th>BsmtFinType1_Rec</th>\n",
              "      <th>BsmtFinType1_Unf</th>\n",
              "      <th>HeatingQC_Fa</th>\n",
              "      <th>HeatingQC_Gd</th>\n",
              "      <th>HeatingQC_Po</th>\n",
              "      <th>HeatingQC_TA</th>\n",
              "      <th>KitchenQual_Fa</th>\n",
              "      <th>KitchenQual_Gd</th>\n",
              "      <th>KitchenQual_TA</th>\n",
              "      <th>GarageType_BuiltIn</th>\n",
              "      <th>GarageType_Detchd</th>\n",
              "      <th>GarageType_No Garage</th>\n",
              "      <th>GarageType_Others</th>\n",
              "      <th>GarageFinish_No Garage</th>\n",
              "      <th>GarageFinish_RFn</th>\n",
              "      <th>GarageFinish_Unf</th>\n",
              "      <th>SaleCondition_Normal</th>\n",
              "      <th>SaleCondition_Others</th>\n",
              "      <th>SaleCondition_Partial</th>\n",
              "    </tr>\n",
              "  </thead>\n",
              "  <tbody>\n",
              "    <tr>\n",
              "      <th>0</th>\n",
              "      <td>65.0</td>\n",
              "      <td>8450</td>\n",
              "      <td>196.0</td>\n",
              "      <td>706</td>\n",
              "      <td>0</td>\n",
              "      <td>150</td>\n",
              "      <td>856</td>\n",
              "      <td>856</td>\n",
              "      <td>854</td>\n",
              "      <td>0</td>\n",
              "      <td>1710</td>\n",
              "      <td>1</td>\n",
              "      <td>0</td>\n",
              "      <td>2</td>\n",
              "      <td>1</td>\n",
              "      <td>3</td>\n",
              "      <td>1</td>\n",
              "      <td>8</td>\n",
              "      <td>0</td>\n",
              "      <td>2</td>\n",
              "      <td>548</td>\n",
              "      <td>0</td>\n",
              "      <td>61</td>\n",
              "      <td>0</td>\n",
              "      <td>0</td>\n",
              "      <td>0</td>\n",
              "      <td>0</td>\n",
              "      <td>0</td>\n",
              "      <td>2</td>\n",
              "      <td>7</td>\n",
              "      <td>0</td>\n",
              "      <td>0</td>\n",
              "      <td>0</td>\n",
              "      <td>0</td>\n",
              "      <td>0</td>\n",
              "      <td>0</td>\n",
              "      <td>0</td>\n",
              "      <td>0</td>\n",
              "      <td>1</td>\n",
              "      <td>0</td>\n",
              "      <td>...</td>\n",
              "      <td>1</td>\n",
              "      <td>0</td>\n",
              "      <td>0</td>\n",
              "      <td>0</td>\n",
              "      <td>1</td>\n",
              "      <td>0</td>\n",
              "      <td>0</td>\n",
              "      <td>0</td>\n",
              "      <td>1</td>\n",
              "      <td>0</td>\n",
              "      <td>1</td>\n",
              "      <td>0</td>\n",
              "      <td>0</td>\n",
              "      <td>0</td>\n",
              "      <td>0</td>\n",
              "      <td>1</td>\n",
              "      <td>0</td>\n",
              "      <td>0</td>\n",
              "      <td>1</td>\n",
              "      <td>0</td>\n",
              "      <td>0</td>\n",
              "      <td>0</td>\n",
              "      <td>0</td>\n",
              "      <td>0</td>\n",
              "      <td>0</td>\n",
              "      <td>0</td>\n",
              "      <td>0</td>\n",
              "      <td>0</td>\n",
              "      <td>1</td>\n",
              "      <td>0</td>\n",
              "      <td>0</td>\n",
              "      <td>0</td>\n",
              "      <td>0</td>\n",
              "      <td>0</td>\n",
              "      <td>0</td>\n",
              "      <td>1</td>\n",
              "      <td>0</td>\n",
              "      <td>1</td>\n",
              "      <td>0</td>\n",
              "      <td>0</td>\n",
              "    </tr>\n",
              "    <tr>\n",
              "      <th>1</th>\n",
              "      <td>80.0</td>\n",
              "      <td>9600</td>\n",
              "      <td>0.0</td>\n",
              "      <td>978</td>\n",
              "      <td>0</td>\n",
              "      <td>284</td>\n",
              "      <td>1262</td>\n",
              "      <td>1262</td>\n",
              "      <td>0</td>\n",
              "      <td>0</td>\n",
              "      <td>1262</td>\n",
              "      <td>0</td>\n",
              "      <td>1</td>\n",
              "      <td>2</td>\n",
              "      <td>0</td>\n",
              "      <td>3</td>\n",
              "      <td>1</td>\n",
              "      <td>6</td>\n",
              "      <td>1</td>\n",
              "      <td>2</td>\n",
              "      <td>460</td>\n",
              "      <td>298</td>\n",
              "      <td>0</td>\n",
              "      <td>0</td>\n",
              "      <td>0</td>\n",
              "      <td>0</td>\n",
              "      <td>0</td>\n",
              "      <td>0</td>\n",
              "      <td>5</td>\n",
              "      <td>34</td>\n",
              "      <td>0</td>\n",
              "      <td>0</td>\n",
              "      <td>1</td>\n",
              "      <td>0</td>\n",
              "      <td>0</td>\n",
              "      <td>0</td>\n",
              "      <td>0</td>\n",
              "      <td>0</td>\n",
              "      <td>0</td>\n",
              "      <td>0</td>\n",
              "      <td>...</td>\n",
              "      <td>0</td>\n",
              "      <td>1</td>\n",
              "      <td>0</td>\n",
              "      <td>0</td>\n",
              "      <td>0</td>\n",
              "      <td>1</td>\n",
              "      <td>1</td>\n",
              "      <td>0</td>\n",
              "      <td>0</td>\n",
              "      <td>0</td>\n",
              "      <td>1</td>\n",
              "      <td>0</td>\n",
              "      <td>0</td>\n",
              "      <td>1</td>\n",
              "      <td>0</td>\n",
              "      <td>0</td>\n",
              "      <td>0</td>\n",
              "      <td>0</td>\n",
              "      <td>0</td>\n",
              "      <td>0</td>\n",
              "      <td>0</td>\n",
              "      <td>0</td>\n",
              "      <td>0</td>\n",
              "      <td>0</td>\n",
              "      <td>0</td>\n",
              "      <td>0</td>\n",
              "      <td>0</td>\n",
              "      <td>0</td>\n",
              "      <td>0</td>\n",
              "      <td>1</td>\n",
              "      <td>0</td>\n",
              "      <td>0</td>\n",
              "      <td>0</td>\n",
              "      <td>0</td>\n",
              "      <td>0</td>\n",
              "      <td>1</td>\n",
              "      <td>0</td>\n",
              "      <td>1</td>\n",
              "      <td>0</td>\n",
              "      <td>0</td>\n",
              "    </tr>\n",
              "    <tr>\n",
              "      <th>2</th>\n",
              "      <td>68.0</td>\n",
              "      <td>11250</td>\n",
              "      <td>162.0</td>\n",
              "      <td>486</td>\n",
              "      <td>0</td>\n",
              "      <td>434</td>\n",
              "      <td>920</td>\n",
              "      <td>920</td>\n",
              "      <td>866</td>\n",
              "      <td>0</td>\n",
              "      <td>1786</td>\n",
              "      <td>1</td>\n",
              "      <td>0</td>\n",
              "      <td>2</td>\n",
              "      <td>1</td>\n",
              "      <td>3</td>\n",
              "      <td>1</td>\n",
              "      <td>6</td>\n",
              "      <td>1</td>\n",
              "      <td>2</td>\n",
              "      <td>608</td>\n",
              "      <td>0</td>\n",
              "      <td>42</td>\n",
              "      <td>0</td>\n",
              "      <td>0</td>\n",
              "      <td>0</td>\n",
              "      <td>0</td>\n",
              "      <td>0</td>\n",
              "      <td>9</td>\n",
              "      <td>8</td>\n",
              "      <td>0</td>\n",
              "      <td>0</td>\n",
              "      <td>0</td>\n",
              "      <td>0</td>\n",
              "      <td>0</td>\n",
              "      <td>0</td>\n",
              "      <td>0</td>\n",
              "      <td>0</td>\n",
              "      <td>1</td>\n",
              "      <td>0</td>\n",
              "      <td>...</td>\n",
              "      <td>1</td>\n",
              "      <td>0</td>\n",
              "      <td>0</td>\n",
              "      <td>0</td>\n",
              "      <td>1</td>\n",
              "      <td>0</td>\n",
              "      <td>0</td>\n",
              "      <td>0</td>\n",
              "      <td>1</td>\n",
              "      <td>0</td>\n",
              "      <td>1</td>\n",
              "      <td>0</td>\n",
              "      <td>0</td>\n",
              "      <td>0</td>\n",
              "      <td>1</td>\n",
              "      <td>0</td>\n",
              "      <td>0</td>\n",
              "      <td>0</td>\n",
              "      <td>1</td>\n",
              "      <td>0</td>\n",
              "      <td>0</td>\n",
              "      <td>0</td>\n",
              "      <td>0</td>\n",
              "      <td>0</td>\n",
              "      <td>0</td>\n",
              "      <td>0</td>\n",
              "      <td>0</td>\n",
              "      <td>0</td>\n",
              "      <td>1</td>\n",
              "      <td>0</td>\n",
              "      <td>0</td>\n",
              "      <td>0</td>\n",
              "      <td>0</td>\n",
              "      <td>0</td>\n",
              "      <td>0</td>\n",
              "      <td>1</td>\n",
              "      <td>0</td>\n",
              "      <td>1</td>\n",
              "      <td>0</td>\n",
              "      <td>0</td>\n",
              "    </tr>\n",
              "    <tr>\n",
              "      <th>3</th>\n",
              "      <td>60.0</td>\n",
              "      <td>9550</td>\n",
              "      <td>0.0</td>\n",
              "      <td>216</td>\n",
              "      <td>0</td>\n",
              "      <td>540</td>\n",
              "      <td>756</td>\n",
              "      <td>961</td>\n",
              "      <td>756</td>\n",
              "      <td>0</td>\n",
              "      <td>1717</td>\n",
              "      <td>1</td>\n",
              "      <td>0</td>\n",
              "      <td>1</td>\n",
              "      <td>0</td>\n",
              "      <td>3</td>\n",
              "      <td>1</td>\n",
              "      <td>7</td>\n",
              "      <td>1</td>\n",
              "      <td>3</td>\n",
              "      <td>642</td>\n",
              "      <td>0</td>\n",
              "      <td>35</td>\n",
              "      <td>272</td>\n",
              "      <td>0</td>\n",
              "      <td>0</td>\n",
              "      <td>0</td>\n",
              "      <td>0</td>\n",
              "      <td>2</td>\n",
              "      <td>40</td>\n",
              "      <td>0</td>\n",
              "      <td>0</td>\n",
              "      <td>0</td>\n",
              "      <td>0</td>\n",
              "      <td>0</td>\n",
              "      <td>0</td>\n",
              "      <td>0</td>\n",
              "      <td>1</td>\n",
              "      <td>0</td>\n",
              "      <td>0</td>\n",
              "      <td>...</td>\n",
              "      <td>0</td>\n",
              "      <td>1</td>\n",
              "      <td>0</td>\n",
              "      <td>0</td>\n",
              "      <td>0</td>\n",
              "      <td>1</td>\n",
              "      <td>0</td>\n",
              "      <td>0</td>\n",
              "      <td>0</td>\n",
              "      <td>0</td>\n",
              "      <td>0</td>\n",
              "      <td>0</td>\n",
              "      <td>1</td>\n",
              "      <td>0</td>\n",
              "      <td>0</td>\n",
              "      <td>1</td>\n",
              "      <td>0</td>\n",
              "      <td>0</td>\n",
              "      <td>0</td>\n",
              "      <td>0</td>\n",
              "      <td>0</td>\n",
              "      <td>0</td>\n",
              "      <td>0</td>\n",
              "      <td>0</td>\n",
              "      <td>1</td>\n",
              "      <td>0</td>\n",
              "      <td>0</td>\n",
              "      <td>0</td>\n",
              "      <td>1</td>\n",
              "      <td>0</td>\n",
              "      <td>0</td>\n",
              "      <td>1</td>\n",
              "      <td>0</td>\n",
              "      <td>0</td>\n",
              "      <td>0</td>\n",
              "      <td>0</td>\n",
              "      <td>1</td>\n",
              "      <td>0</td>\n",
              "      <td>0</td>\n",
              "      <td>0</td>\n",
              "    </tr>\n",
              "    <tr>\n",
              "      <th>4</th>\n",
              "      <td>84.0</td>\n",
              "      <td>14260</td>\n",
              "      <td>350.0</td>\n",
              "      <td>655</td>\n",
              "      <td>0</td>\n",
              "      <td>490</td>\n",
              "      <td>1145</td>\n",
              "      <td>1145</td>\n",
              "      <td>1053</td>\n",
              "      <td>0</td>\n",
              "      <td>2198</td>\n",
              "      <td>1</td>\n",
              "      <td>0</td>\n",
              "      <td>2</td>\n",
              "      <td>1</td>\n",
              "      <td>4</td>\n",
              "      <td>1</td>\n",
              "      <td>9</td>\n",
              "      <td>1</td>\n",
              "      <td>3</td>\n",
              "      <td>836</td>\n",
              "      <td>192</td>\n",
              "      <td>84</td>\n",
              "      <td>0</td>\n",
              "      <td>0</td>\n",
              "      <td>0</td>\n",
              "      <td>0</td>\n",
              "      <td>0</td>\n",
              "      <td>12</td>\n",
              "      <td>10</td>\n",
              "      <td>0</td>\n",
              "      <td>0</td>\n",
              "      <td>0</td>\n",
              "      <td>0</td>\n",
              "      <td>0</td>\n",
              "      <td>0</td>\n",
              "      <td>0</td>\n",
              "      <td>0</td>\n",
              "      <td>1</td>\n",
              "      <td>0</td>\n",
              "      <td>...</td>\n",
              "      <td>1</td>\n",
              "      <td>0</td>\n",
              "      <td>0</td>\n",
              "      <td>0</td>\n",
              "      <td>1</td>\n",
              "      <td>0</td>\n",
              "      <td>0</td>\n",
              "      <td>0</td>\n",
              "      <td>1</td>\n",
              "      <td>0</td>\n",
              "      <td>1</td>\n",
              "      <td>0</td>\n",
              "      <td>0</td>\n",
              "      <td>0</td>\n",
              "      <td>0</td>\n",
              "      <td>0</td>\n",
              "      <td>0</td>\n",
              "      <td>0</td>\n",
              "      <td>1</td>\n",
              "      <td>0</td>\n",
              "      <td>0</td>\n",
              "      <td>0</td>\n",
              "      <td>0</td>\n",
              "      <td>0</td>\n",
              "      <td>0</td>\n",
              "      <td>0</td>\n",
              "      <td>0</td>\n",
              "      <td>0</td>\n",
              "      <td>1</td>\n",
              "      <td>0</td>\n",
              "      <td>0</td>\n",
              "      <td>0</td>\n",
              "      <td>0</td>\n",
              "      <td>0</td>\n",
              "      <td>0</td>\n",
              "      <td>1</td>\n",
              "      <td>0</td>\n",
              "      <td>1</td>\n",
              "      <td>0</td>\n",
              "      <td>0</td>\n",
              "    </tr>\n",
              "  </tbody>\n",
              "</table>\n",
              "<p>5 rows × 160 columns</p>\n",
              "</div>"
            ],
            "text/plain": [
              "   LotFrontage  LotArea  ...  SaleCondition_Others  SaleCondition_Partial\n",
              "0         65.0     8450  ...                     0                      0\n",
              "1         80.0     9600  ...                     0                      0\n",
              "2         68.0    11250  ...                     0                      0\n",
              "3         60.0     9550  ...                     0                      0\n",
              "4         84.0    14260  ...                     0                      0\n",
              "\n",
              "[5 rows x 160 columns]"
            ]
          },
          "metadata": {
            "tags": []
          },
          "execution_count": 223
        }
      ]
    },
    {
      "cell_type": "code",
      "metadata": {
        "colab": {
          "base_uri": "https://localhost:8080/"
        },
        "id": "5DuxlarWcs7Z",
        "outputId": "403b0b09-48c8-4485-e5e2-13be5bd482d0"
      },
      "source": [
        "# Putting response variable to y\r\n",
        "y = df_concat['SalePrice']\r\n",
        "\r\n",
        "y.head()"
      ],
      "execution_count": null,
      "outputs": [
        {
          "output_type": "execute_result",
          "data": {
            "text/plain": [
              "0    12.247694\n",
              "1    12.109011\n",
              "2    12.317167\n",
              "3    11.849398\n",
              "4    12.429216\n",
              "Name: SalePrice, dtype: float64"
            ]
          },
          "metadata": {
            "tags": []
          },
          "execution_count": 224
        }
      ]
    },
    {
      "cell_type": "markdown",
      "metadata": {
        "id": "UEoxpGoElKjk"
      },
      "source": [
        "* Test Train Split"
      ]
    },
    {
      "cell_type": "code",
      "metadata": {
        "id": "lUJEFqsodBvw"
      },
      "source": [
        "\r\n",
        "X_train, X_test, y_train, y_test = train_test_split(X, y, \r\n",
        "                                                    train_size=0.7,\r\n",
        "                                                    test_size = 0.3, random_state=100)"
      ],
      "execution_count": null,
      "outputs": []
    },
    {
      "cell_type": "markdown",
      "metadata": {
        "id": "voEPeIM3lTrV"
      },
      "source": [
        "* Scaling the model"
      ]
    },
    {
      "cell_type": "code",
      "metadata": {
        "colab": {
          "base_uri": "https://localhost:8080/",
          "height": 329
        },
        "id": "OmwdNg8flLnj",
        "outputId": "715a2316-bb48-4e5d-d027-ec4422954e4f"
      },
      "source": [
        "\r\n",
        "scaler = StandardScaler()\r\n",
        "\r\n",
        "X_train[['LotFrontage', 'LotArea','MasVnrArea', 'BsmtFinSF1', 'BsmtFinSF2', 'BsmtUnfSF', 'TotalBsmtSF',\r\n",
        "       '1stFlrSF', '2ndFlrSF', 'LowQualFinSF', 'GrLivArea', 'BsmtFullBath',\r\n",
        "       'BsmtHalfBath', 'FullBath', 'HalfBath', 'BedroomAbvGr', 'KitchenAbvGr',\r\n",
        "       'TotRmsAbvGrd', 'Fireplaces','GarageCars', 'GarageArea',\r\n",
        "       'WoodDeckSF', 'OpenPorchSF', 'EnclosedPorch', '3SsnPorch',\r\n",
        "       'ScreenPorch', 'PoolArea', 'MiscVal']] = scaler.fit_transform(X_train[['LotFrontage', 'LotArea','MasVnrArea', 'BsmtFinSF1', 'BsmtFinSF2', 'BsmtUnfSF', 'TotalBsmtSF',\r\n",
        "       '1stFlrSF', '2ndFlrSF', 'LowQualFinSF', 'GrLivArea', 'BsmtFullBath',\r\n",
        "       'BsmtHalfBath', 'FullBath', 'HalfBath', 'BedroomAbvGr', 'KitchenAbvGr',\r\n",
        "       'TotRmsAbvGrd', 'Fireplaces','GarageCars', 'GarageArea',\r\n",
        "       'WoodDeckSF', 'OpenPorchSF', 'EnclosedPorch', '3SsnPorch',\r\n",
        "       'ScreenPorch', 'PoolArea', 'MiscVal']])\r\n",
        "\r\n",
        "X_train.head()"
      ],
      "execution_count": null,
      "outputs": [
        {
          "output_type": "execute_result",
          "data": {
            "text/html": [
              "<div>\n",
              "<style scoped>\n",
              "    .dataframe tbody tr th:only-of-type {\n",
              "        vertical-align: middle;\n",
              "    }\n",
              "\n",
              "    .dataframe tbody tr th {\n",
              "        vertical-align: top;\n",
              "    }\n",
              "\n",
              "    .dataframe thead th {\n",
              "        text-align: right;\n",
              "    }\n",
              "</style>\n",
              "<table border=\"1\" class=\"dataframe\">\n",
              "  <thead>\n",
              "    <tr style=\"text-align: right;\">\n",
              "      <th></th>\n",
              "      <th>LotFrontage</th>\n",
              "      <th>LotArea</th>\n",
              "      <th>MasVnrArea</th>\n",
              "      <th>BsmtFinSF1</th>\n",
              "      <th>BsmtFinSF2</th>\n",
              "      <th>BsmtUnfSF</th>\n",
              "      <th>TotalBsmtSF</th>\n",
              "      <th>1stFlrSF</th>\n",
              "      <th>2ndFlrSF</th>\n",
              "      <th>LowQualFinSF</th>\n",
              "      <th>GrLivArea</th>\n",
              "      <th>BsmtFullBath</th>\n",
              "      <th>BsmtHalfBath</th>\n",
              "      <th>FullBath</th>\n",
              "      <th>HalfBath</th>\n",
              "      <th>BedroomAbvGr</th>\n",
              "      <th>KitchenAbvGr</th>\n",
              "      <th>TotRmsAbvGrd</th>\n",
              "      <th>Fireplaces</th>\n",
              "      <th>GarageCars</th>\n",
              "      <th>GarageArea</th>\n",
              "      <th>WoodDeckSF</th>\n",
              "      <th>OpenPorchSF</th>\n",
              "      <th>EnclosedPorch</th>\n",
              "      <th>3SsnPorch</th>\n",
              "      <th>ScreenPorch</th>\n",
              "      <th>PoolArea</th>\n",
              "      <th>MiscVal</th>\n",
              "      <th>MoSold</th>\n",
              "      <th>YearSinceRemodel</th>\n",
              "      <th>MSSubClass_1-1/2 STORY FINISHED ALL AGES</th>\n",
              "      <th>MSSubClass_1-STORY 1945 &amp; OLDER</th>\n",
              "      <th>MSSubClass_1-STORY 1946 &amp; NEWER ALL STYLES</th>\n",
              "      <th>MSSubClass_1-STORY PUD (Planned Unit Development) - 1946 &amp; NEWER</th>\n",
              "      <th>MSSubClass_1-STORY W/FINISHED ATTIC ALL AGES</th>\n",
              "      <th>MSSubClass_2 FAMILY CONVERSION - ALL STYLES AND AGES</th>\n",
              "      <th>MSSubClass_2-1/2 STORY ALL AGES</th>\n",
              "      <th>MSSubClass_2-STORY 1945 &amp; OLDER</th>\n",
              "      <th>MSSubClass_2-STORY 1946 &amp; NEWER</th>\n",
              "      <th>MSSubClass_2-STORY PUD - 1946 &amp; NEWER</th>\n",
              "      <th>...</th>\n",
              "      <th>MasVnrType_BrkFace</th>\n",
              "      <th>MasVnrType_None</th>\n",
              "      <th>MasVnrType_Stone</th>\n",
              "      <th>ExterQual_Fa</th>\n",
              "      <th>ExterQual_Gd</th>\n",
              "      <th>ExterQual_TA</th>\n",
              "      <th>Foundation_CBlock</th>\n",
              "      <th>Foundation_Others</th>\n",
              "      <th>Foundation_PConc</th>\n",
              "      <th>BsmtQual_Fa</th>\n",
              "      <th>BsmtQual_Gd</th>\n",
              "      <th>BsmtQual_No Basement</th>\n",
              "      <th>BsmtQual_TA</th>\n",
              "      <th>BsmtExposure_Gd</th>\n",
              "      <th>BsmtExposure_Mn</th>\n",
              "      <th>BsmtExposure_No</th>\n",
              "      <th>BsmtExposure_No Basement</th>\n",
              "      <th>BsmtFinType1_BLQ</th>\n",
              "      <th>BsmtFinType1_GLQ</th>\n",
              "      <th>BsmtFinType1_LwQ</th>\n",
              "      <th>BsmtFinType1_No Basement</th>\n",
              "      <th>BsmtFinType1_Rec</th>\n",
              "      <th>BsmtFinType1_Unf</th>\n",
              "      <th>HeatingQC_Fa</th>\n",
              "      <th>HeatingQC_Gd</th>\n",
              "      <th>HeatingQC_Po</th>\n",
              "      <th>HeatingQC_TA</th>\n",
              "      <th>KitchenQual_Fa</th>\n",
              "      <th>KitchenQual_Gd</th>\n",
              "      <th>KitchenQual_TA</th>\n",
              "      <th>GarageType_BuiltIn</th>\n",
              "      <th>GarageType_Detchd</th>\n",
              "      <th>GarageType_No Garage</th>\n",
              "      <th>GarageType_Others</th>\n",
              "      <th>GarageFinish_No Garage</th>\n",
              "      <th>GarageFinish_RFn</th>\n",
              "      <th>GarageFinish_Unf</th>\n",
              "      <th>SaleCondition_Normal</th>\n",
              "      <th>SaleCondition_Others</th>\n",
              "      <th>SaleCondition_Partial</th>\n",
              "    </tr>\n",
              "  </thead>\n",
              "  <tbody>\n",
              "    <tr>\n",
              "      <th>210</th>\n",
              "      <td>-0.115302</td>\n",
              "      <td>-0.473765</td>\n",
              "      <td>-0.558025</td>\n",
              "      <td>0.043512</td>\n",
              "      <td>-0.293313</td>\n",
              "      <td>-0.374367</td>\n",
              "      <td>-0.430911</td>\n",
              "      <td>-0.765065</td>\n",
              "      <td>-0.787597</td>\n",
              "      <td>-0.124502</td>\n",
              "      <td>-1.228053</td>\n",
              "      <td>1.066863</td>\n",
              "      <td>-0.247791</td>\n",
              "      <td>-1.026085</td>\n",
              "      <td>-0.751723</td>\n",
              "      <td>-1.042717</td>\n",
              "      <td>-0.234155</td>\n",
              "      <td>-0.935650</td>\n",
              "      <td>-0.925422</td>\n",
              "      <td>-2.366798</td>\n",
              "      <td>-2.217786</td>\n",
              "      <td>-0.743160</td>\n",
              "      <td>-0.709347</td>\n",
              "      <td>1.150231</td>\n",
              "      <td>-0.121922</td>\n",
              "      <td>-0.275126</td>\n",
              "      <td>-0.062302</td>\n",
              "      <td>-0.084263</td>\n",
              "      <td>4</td>\n",
              "      <td>60</td>\n",
              "      <td>0</td>\n",
              "      <td>1</td>\n",
              "      <td>0</td>\n",
              "      <td>0</td>\n",
              "      <td>0</td>\n",
              "      <td>0</td>\n",
              "      <td>0</td>\n",
              "      <td>0</td>\n",
              "      <td>0</td>\n",
              "      <td>0</td>\n",
              "      <td>...</td>\n",
              "      <td>0</td>\n",
              "      <td>1</td>\n",
              "      <td>0</td>\n",
              "      <td>0</td>\n",
              "      <td>0</td>\n",
              "      <td>1</td>\n",
              "      <td>1</td>\n",
              "      <td>0</td>\n",
              "      <td>0</td>\n",
              "      <td>0</td>\n",
              "      <td>0</td>\n",
              "      <td>0</td>\n",
              "      <td>1</td>\n",
              "      <td>0</td>\n",
              "      <td>0</td>\n",
              "      <td>1</td>\n",
              "      <td>0</td>\n",
              "      <td>0</td>\n",
              "      <td>0</td>\n",
              "      <td>0</td>\n",
              "      <td>0</td>\n",
              "      <td>1</td>\n",
              "      <td>0</td>\n",
              "      <td>0</td>\n",
              "      <td>0</td>\n",
              "      <td>0</td>\n",
              "      <td>1</td>\n",
              "      <td>0</td>\n",
              "      <td>0</td>\n",
              "      <td>1</td>\n",
              "      <td>0</td>\n",
              "      <td>0</td>\n",
              "      <td>1</td>\n",
              "      <td>0</td>\n",
              "      <td>1</td>\n",
              "      <td>0</td>\n",
              "      <td>0</td>\n",
              "      <td>1</td>\n",
              "      <td>0</td>\n",
              "      <td>0</td>\n",
              "    </tr>\n",
              "    <tr>\n",
              "      <th>318</th>\n",
              "      <td>0.926898</td>\n",
              "      <td>-0.056845</td>\n",
              "      <td>0.809137</td>\n",
              "      <td>1.160345</td>\n",
              "      <td>-0.293313</td>\n",
              "      <td>-0.454644</td>\n",
              "      <td>0.621579</td>\n",
              "      <td>0.511914</td>\n",
              "      <td>2.140556</td>\n",
              "      <td>-0.124502</td>\n",
              "      <td>2.123103</td>\n",
              "      <td>1.066863</td>\n",
              "      <td>-0.247791</td>\n",
              "      <td>0.786428</td>\n",
              "      <td>1.246998</td>\n",
              "      <td>1.396261</td>\n",
              "      <td>-0.234155</td>\n",
              "      <td>1.556976</td>\n",
              "      <td>0.623522</td>\n",
              "      <td>1.645101</td>\n",
              "      <td>0.867506</td>\n",
              "      <td>1.989482</td>\n",
              "      <td>0.197980</td>\n",
              "      <td>1.910043</td>\n",
              "      <td>-0.121922</td>\n",
              "      <td>-0.275126</td>\n",
              "      <td>-0.062302</td>\n",
              "      <td>-0.084263</td>\n",
              "      <td>4</td>\n",
              "      <td>17</td>\n",
              "      <td>0</td>\n",
              "      <td>0</td>\n",
              "      <td>0</td>\n",
              "      <td>0</td>\n",
              "      <td>0</td>\n",
              "      <td>0</td>\n",
              "      <td>0</td>\n",
              "      <td>0</td>\n",
              "      <td>1</td>\n",
              "      <td>0</td>\n",
              "      <td>...</td>\n",
              "      <td>1</td>\n",
              "      <td>0</td>\n",
              "      <td>0</td>\n",
              "      <td>0</td>\n",
              "      <td>1</td>\n",
              "      <td>0</td>\n",
              "      <td>0</td>\n",
              "      <td>0</td>\n",
              "      <td>1</td>\n",
              "      <td>0</td>\n",
              "      <td>1</td>\n",
              "      <td>0</td>\n",
              "      <td>0</td>\n",
              "      <td>1</td>\n",
              "      <td>0</td>\n",
              "      <td>0</td>\n",
              "      <td>0</td>\n",
              "      <td>0</td>\n",
              "      <td>1</td>\n",
              "      <td>0</td>\n",
              "      <td>0</td>\n",
              "      <td>0</td>\n",
              "      <td>0</td>\n",
              "      <td>0</td>\n",
              "      <td>0</td>\n",
              "      <td>0</td>\n",
              "      <td>0</td>\n",
              "      <td>0</td>\n",
              "      <td>1</td>\n",
              "      <td>0</td>\n",
              "      <td>0</td>\n",
              "      <td>0</td>\n",
              "      <td>0</td>\n",
              "      <td>0</td>\n",
              "      <td>0</td>\n",
              "      <td>1</td>\n",
              "      <td>0</td>\n",
              "      <td>1</td>\n",
              "      <td>0</td>\n",
              "      <td>0</td>\n",
              "    </tr>\n",
              "    <tr>\n",
              "      <th>239</th>\n",
              "      <td>-0.794998</td>\n",
              "      <td>-0.169324</td>\n",
              "      <td>-0.558025</td>\n",
              "      <td>-0.761296</td>\n",
              "      <td>-0.293313</td>\n",
              "      <td>0.171964</td>\n",
              "      <td>-0.712011</td>\n",
              "      <td>-0.930972</td>\n",
              "      <td>0.795996</td>\n",
              "      <td>-0.124502</td>\n",
              "      <td>-0.056465</td>\n",
              "      <td>-0.837450</td>\n",
              "      <td>-0.247791</td>\n",
              "      <td>-1.026085</td>\n",
              "      <td>1.246998</td>\n",
              "      <td>0.176772</td>\n",
              "      <td>-0.234155</td>\n",
              "      <td>0.310663</td>\n",
              "      <td>0.623522</td>\n",
              "      <td>-1.029498</td>\n",
              "      <td>-1.183084</td>\n",
              "      <td>-0.743160</td>\n",
              "      <td>1.407748</td>\n",
              "      <td>-0.369395</td>\n",
              "      <td>-0.121922</td>\n",
              "      <td>-0.275126</td>\n",
              "      <td>-0.062302</td>\n",
              "      <td>-0.084263</td>\n",
              "      <td>4</td>\n",
              "      <td>60</td>\n",
              "      <td>1</td>\n",
              "      <td>0</td>\n",
              "      <td>0</td>\n",
              "      <td>0</td>\n",
              "      <td>0</td>\n",
              "      <td>0</td>\n",
              "      <td>0</td>\n",
              "      <td>0</td>\n",
              "      <td>0</td>\n",
              "      <td>0</td>\n",
              "      <td>...</td>\n",
              "      <td>0</td>\n",
              "      <td>1</td>\n",
              "      <td>0</td>\n",
              "      <td>0</td>\n",
              "      <td>0</td>\n",
              "      <td>1</td>\n",
              "      <td>1</td>\n",
              "      <td>0</td>\n",
              "      <td>0</td>\n",
              "      <td>0</td>\n",
              "      <td>0</td>\n",
              "      <td>0</td>\n",
              "      <td>1</td>\n",
              "      <td>0</td>\n",
              "      <td>0</td>\n",
              "      <td>1</td>\n",
              "      <td>0</td>\n",
              "      <td>0</td>\n",
              "      <td>0</td>\n",
              "      <td>1</td>\n",
              "      <td>0</td>\n",
              "      <td>0</td>\n",
              "      <td>0</td>\n",
              "      <td>0</td>\n",
              "      <td>0</td>\n",
              "      <td>0</td>\n",
              "      <td>1</td>\n",
              "      <td>0</td>\n",
              "      <td>0</td>\n",
              "      <td>1</td>\n",
              "      <td>0</td>\n",
              "      <td>1</td>\n",
              "      <td>0</td>\n",
              "      <td>0</td>\n",
              "      <td>0</td>\n",
              "      <td>0</td>\n",
              "      <td>1</td>\n",
              "      <td>1</td>\n",
              "      <td>0</td>\n",
              "      <td>0</td>\n",
              "    </tr>\n",
              "    <tr>\n",
              "      <th>986</th>\n",
              "      <td>-0.477806</td>\n",
              "      <td>-0.502297</td>\n",
              "      <td>-0.558025</td>\n",
              "      <td>-0.963574</td>\n",
              "      <td>-0.293313</td>\n",
              "      <td>-0.175904</td>\n",
              "      <td>-1.256778</td>\n",
              "      <td>-0.420683</td>\n",
              "      <td>0.669584</td>\n",
              "      <td>-0.124502</td>\n",
              "      <td>0.221858</td>\n",
              "      <td>-0.837450</td>\n",
              "      <td>-0.247791</td>\n",
              "      <td>-1.026085</td>\n",
              "      <td>-0.751723</td>\n",
              "      <td>-1.042717</td>\n",
              "      <td>-0.234155</td>\n",
              "      <td>-0.935650</td>\n",
              "      <td>-0.925422</td>\n",
              "      <td>-1.029498</td>\n",
              "      <td>-1.018473</td>\n",
              "      <td>2.423490</td>\n",
              "      <td>-0.709347</td>\n",
              "      <td>-0.369395</td>\n",
              "      <td>-0.121922</td>\n",
              "      <td>-0.275126</td>\n",
              "      <td>-0.062302</td>\n",
              "      <td>-0.084263</td>\n",
              "      <td>6</td>\n",
              "      <td>7</td>\n",
              "      <td>1</td>\n",
              "      <td>0</td>\n",
              "      <td>0</td>\n",
              "      <td>0</td>\n",
              "      <td>0</td>\n",
              "      <td>0</td>\n",
              "      <td>0</td>\n",
              "      <td>0</td>\n",
              "      <td>0</td>\n",
              "      <td>0</td>\n",
              "      <td>...</td>\n",
              "      <td>0</td>\n",
              "      <td>1</td>\n",
              "      <td>0</td>\n",
              "      <td>0</td>\n",
              "      <td>0</td>\n",
              "      <td>1</td>\n",
              "      <td>1</td>\n",
              "      <td>0</td>\n",
              "      <td>0</td>\n",
              "      <td>0</td>\n",
              "      <td>0</td>\n",
              "      <td>0</td>\n",
              "      <td>1</td>\n",
              "      <td>0</td>\n",
              "      <td>0</td>\n",
              "      <td>1</td>\n",
              "      <td>0</td>\n",
              "      <td>0</td>\n",
              "      <td>0</td>\n",
              "      <td>0</td>\n",
              "      <td>0</td>\n",
              "      <td>0</td>\n",
              "      <td>1</td>\n",
              "      <td>0</td>\n",
              "      <td>1</td>\n",
              "      <td>0</td>\n",
              "      <td>0</td>\n",
              "      <td>0</td>\n",
              "      <td>1</td>\n",
              "      <td>0</td>\n",
              "      <td>0</td>\n",
              "      <td>0</td>\n",
              "      <td>0</td>\n",
              "      <td>0</td>\n",
              "      <td>0</td>\n",
              "      <td>0</td>\n",
              "      <td>1</td>\n",
              "      <td>1</td>\n",
              "      <td>0</td>\n",
              "      <td>0</td>\n",
              "    </tr>\n",
              "    <tr>\n",
              "      <th>1416</th>\n",
              "      <td>-0.432493</td>\n",
              "      <td>0.082905</td>\n",
              "      <td>-0.558025</td>\n",
              "      <td>-0.963574</td>\n",
              "      <td>-0.293313</td>\n",
              "      <td>0.475233</td>\n",
              "      <td>-0.620490</td>\n",
              "      <td>0.195183</td>\n",
              "      <td>1.611926</td>\n",
              "      <td>-0.124502</td>\n",
              "      <td>1.453624</td>\n",
              "      <td>-0.837450</td>\n",
              "      <td>-0.247791</td>\n",
              "      <td>0.786428</td>\n",
              "      <td>-0.751723</td>\n",
              "      <td>1.396261</td>\n",
              "      <td>4.112612</td>\n",
              "      <td>2.803289</td>\n",
              "      <td>-0.925422</td>\n",
              "      <td>0.307802</td>\n",
              "      <td>0.416000</td>\n",
              "      <td>-0.743160</td>\n",
              "      <td>-0.709347</td>\n",
              "      <td>1.435160</td>\n",
              "      <td>-0.121922</td>\n",
              "      <td>-0.275126</td>\n",
              "      <td>-0.062302</td>\n",
              "      <td>-0.084263</td>\n",
              "      <td>4</td>\n",
              "      <td>60</td>\n",
              "      <td>0</td>\n",
              "      <td>0</td>\n",
              "      <td>0</td>\n",
              "      <td>0</td>\n",
              "      <td>0</td>\n",
              "      <td>1</td>\n",
              "      <td>0</td>\n",
              "      <td>0</td>\n",
              "      <td>0</td>\n",
              "      <td>0</td>\n",
              "      <td>...</td>\n",
              "      <td>0</td>\n",
              "      <td>1</td>\n",
              "      <td>0</td>\n",
              "      <td>0</td>\n",
              "      <td>0</td>\n",
              "      <td>1</td>\n",
              "      <td>0</td>\n",
              "      <td>0</td>\n",
              "      <td>1</td>\n",
              "      <td>0</td>\n",
              "      <td>0</td>\n",
              "      <td>0</td>\n",
              "      <td>1</td>\n",
              "      <td>0</td>\n",
              "      <td>0</td>\n",
              "      <td>1</td>\n",
              "      <td>0</td>\n",
              "      <td>0</td>\n",
              "      <td>0</td>\n",
              "      <td>0</td>\n",
              "      <td>0</td>\n",
              "      <td>0</td>\n",
              "      <td>1</td>\n",
              "      <td>0</td>\n",
              "      <td>1</td>\n",
              "      <td>0</td>\n",
              "      <td>0</td>\n",
              "      <td>0</td>\n",
              "      <td>0</td>\n",
              "      <td>1</td>\n",
              "      <td>0</td>\n",
              "      <td>1</td>\n",
              "      <td>0</td>\n",
              "      <td>0</td>\n",
              "      <td>0</td>\n",
              "      <td>0</td>\n",
              "      <td>1</td>\n",
              "      <td>1</td>\n",
              "      <td>0</td>\n",
              "      <td>0</td>\n",
              "    </tr>\n",
              "  </tbody>\n",
              "</table>\n",
              "<p>5 rows × 160 columns</p>\n",
              "</div>"
            ],
            "text/plain": [
              "      LotFrontage   LotArea  ...  SaleCondition_Others  SaleCondition_Partial\n",
              "210     -0.115302 -0.473765  ...                     0                      0\n",
              "318      0.926898 -0.056845  ...                     0                      0\n",
              "239     -0.794998 -0.169324  ...                     0                      0\n",
              "986     -0.477806 -0.502297  ...                     0                      0\n",
              "1416    -0.432493  0.082905  ...                     0                      0\n",
              "\n",
              "[5 rows x 160 columns]"
            ]
          },
          "metadata": {
            "tags": []
          },
          "execution_count": 226
        }
      ]
    },
    {
      "cell_type": "code",
      "metadata": {
        "id": "kfNKz9a3lUsn"
      },
      "source": [
        "X_train, X_test, y_train, y_test = train_test_split(X, y, \r\n",
        "                                                    train_size=0.7,\r\n",
        "                                                    test_size = 0.3, random_state=100)"
      ],
      "execution_count": null,
      "outputs": []
    },
    {
      "cell_type": "markdown",
      "metadata": {
        "id": "nu69rslvljoQ"
      },
      "source": [
        "4. Model Building and Evaluation"
      ]
    },
    {
      "cell_type": "markdown",
      "metadata": {
        "id": "7nkHi8FXmRb7"
      },
      "source": [
        "* Ridge"
      ]
    },
    {
      "cell_type": "code",
      "metadata": {
        "colab": {
          "base_uri": "https://localhost:8080/"
        },
        "id": "O04mvZBPleqW",
        "outputId": "13d8ce94-39ca-4c6e-dfb1-61e82da7317d"
      },
      "source": [
        "params = {'alpha': [0.00004,0.0001, 0.001, 0.01, 0.1, 10,100,1000]}\r\n",
        "ridge = Ridge()\r\n",
        "folds = 5\r\n",
        "model_cv = GridSearchCV(estimator = ridge, \r\n",
        "                        param_grid = params, \r\n",
        "                        scoring= 'r2', \r\n",
        "                        cv = folds, \r\n",
        "                        return_train_score=True,\r\n",
        "                        verbose = 1)            \r\n",
        "model_cv.fit(X_train, y_train)"
      ],
      "execution_count": null,
      "outputs": [
        {
          "output_type": "stream",
          "text": [
            "Fitting 5 folds for each of 8 candidates, totalling 40 fits\n"
          ],
          "name": "stdout"
        },
        {
          "output_type": "stream",
          "text": [
            "[Parallel(n_jobs=1)]: Using backend SequentialBackend with 1 concurrent workers.\n",
            "[Parallel(n_jobs=1)]: Done  40 out of  40 | elapsed:    0.9s finished\n"
          ],
          "name": "stderr"
        },
        {
          "output_type": "execute_result",
          "data": {
            "text/plain": [
              "GridSearchCV(cv=5, error_score=nan,\n",
              "             estimator=Ridge(alpha=1.0, copy_X=True, fit_intercept=True,\n",
              "                             max_iter=None, normalize=False, random_state=None,\n",
              "                             solver='auto', tol=0.001),\n",
              "             iid='deprecated', n_jobs=None,\n",
              "             param_grid={'alpha': [4e-05, 0.0001, 0.001, 0.01, 0.1, 10, 100,\n",
              "                                   1000]},\n",
              "             pre_dispatch='2*n_jobs', refit=True, return_train_score=True,\n",
              "             scoring='r2', verbose=1)"
            ]
          },
          "metadata": {
            "tags": []
          },
          "execution_count": 228
        }
      ]
    },
    {
      "cell_type": "code",
      "metadata": {
        "id": "LgWvITOQmk3B"
      },
      "source": [
        "cv_results = pd.DataFrame(model_cv.cv_results_)\r\n",
        "cv_results = cv_results[cv_results['param_alpha']<=100]"
      ],
      "execution_count": null,
      "outputs": []
    },
    {
      "cell_type": "markdown",
      "metadata": {
        "id": "Jv8y-Aromq8r"
      },
      "source": [
        "* plotting mean test and train scores with alpha \r\n"
      ]
    },
    {
      "cell_type": "code",
      "metadata": {
        "colab": {
          "base_uri": "https://localhost:8080/",
          "height": 295
        },
        "id": "2iQJWVLimbIf",
        "outputId": "bca7b218-c0de-43e2-ed93-cfdd49eb4c14"
      },
      "source": [
        "cv_results['param_alpha'] = cv_results['param_alpha'].astype('int32')\r\n",
        "plt.plot(cv_results['param_alpha'], cv_results['mean_train_score'])\r\n",
        "plt.plot(cv_results['param_alpha'], cv_results['mean_test_score'])\r\n",
        "plt.xlabel('alpha')\r\n",
        "plt.ylabel('r2')\r\n",
        "plt.title(\"r2 and alpha\")\r\n",
        "plt.legend(['train score', 'test score'], loc='upper left')\r\n",
        "plt.show()"
      ],
      "execution_count": null,
      "outputs": [
        {
          "output_type": "display_data",
          "data": {
            "image/png": "[encoded data removed]",
            "text/plain": [
              "<Figure size 432x288 with 1 Axes>"
            ]
          },
          "metadata": {
            "tags": [],
            "needs_background": "light"
          }
        }
      ]
    },
    {
      "cell_type": "code",
      "metadata": {
        "colab": {
          "base_uri": "https://localhost:8080/"
        },
        "id": "LKJ4jc66mjJn",
        "outputId": "1578a771-ea04-4390-aace-c1a12e1dcf6a"
      },
      "source": [
        "alpha = 10\r\n",
        "ridge = Ridge(alpha=alpha)\r\n",
        "\r\n",
        "ridge.fit(X_train, y_train)\r\n",
        "ridge.coef_"
      ],
      "execution_count": null,
      "outputs": [
        {
          "output_type": "execute_result",
          "data": {
            "text/plain": [
              "array([-4.74809780e-04,  1.59466646e-06,  6.17112057e-06,  3.73538856e-06,\n",
              "        1.15081461e-05,  1.82053079e-05,  3.34488343e-05,  7.92009099e-05,\n",
              "        1.09011752e-04, -7.70408566e-05,  1.11171801e-04,  4.25420135e-02,\n",
              "        1.51319614e-02,  5.09516505e-02,  3.69272171e-02,  9.07794039e-03,\n",
              "       -8.12648652e-02,  8.30696546e-03,  3.96097675e-02,  5.34751466e-02,\n",
              "        3.43279188e-05,  9.90267283e-05, -5.47707192e-05,  1.22380757e-04,\n",
              "        1.94886076e-04,  2.27453067e-04, -4.04142867e-04, -3.68907754e-06,\n",
              "        5.21312292e-04, -1.59513446e-03,  1.22746032e-02, -8.43053932e-02,\n",
              "        4.98263439e-02,  5.96932189e-03,  1.37128949e-04, -1.20780328e-02,\n",
              "        2.35023365e-02,  2.51877006e-02, -1.48351396e-05, -4.06689958e-02,\n",
              "        1.48370219e-02, -2.89980792e-02,  2.13765700e-02,  9.23512984e-03,\n",
              "       -7.75969900e-02,  1.25978119e-02, -2.93034632e-02,  2.18691748e-02,\n",
              "       -4.94699235e-02,  7.41424037e-03,  3.66405387e-02, -3.24003086e-02,\n",
              "       -1.39715714e-02, -3.40987853e-03, -2.21542138e-03, -1.30144969e-02,\n",
              "        2.02737767e-02,  4.27356892e-02, -8.85281265e-04,  9.35120161e-02,\n",
              "       -9.14209485e-02, -6.78467558e-03, -8.40306219e-02, -6.36592396e-02,\n",
              "       -1.60183781e-02, -1.82066419e-02, -1.00614266e-02, -9.67857532e-03,\n",
              "        7.22098712e-02,  9.86574851e-02, -6.61731473e-02, -6.75645642e-03,\n",
              "       -4.77875309e-02,  2.73991571e-03,  9.19726093e-02,  5.78194024e-02,\n",
              "       -5.18807921e-03,  3.61514663e-02, -1.20780328e-02,  1.48370219e-02,\n",
              "       -5.19113158e-02, -1.48893178e-02,  1.40048572e-02, -2.32453361e-02,\n",
              "        7.33801706e-03,  1.09928742e-02, -3.15493896e-02, -6.00417951e-02,\n",
              "        1.42911781e-01, -6.63346983e-02,  4.16254214e-02, -8.21094119e-02,\n",
              "        3.56470931e-02,  1.05491212e-01, -2.83123663e-02, -3.18523601e-02,\n",
              "       -5.44717727e-02,  4.34477119e-02, -1.42546915e-01,  3.13188597e-02,\n",
              "       -1.02620212e-02,  2.27712519e-02, -2.83123663e-02,  1.11607023e-02,\n",
              "        9.25979871e-03, -1.97435860e-02, -1.68695983e-02, -1.89318631e-02,\n",
              "       -4.79460403e-02, -1.22587718e-02, -3.70670579e-03, -3.20612400e-02,\n",
              "       -2.35633836e-03,  4.50933034e-03,  2.00561209e-02,  4.14534962e-03,\n",
              "        7.07504083e-03,  1.45635671e-02,  2.01380947e-03, -1.67513222e-02,\n",
              "        1.92531202e-02,  1.31141743e-02,  3.31184072e-03, -6.22358692e-02,\n",
              "        1.38032485e-02, -1.13311044e-02,  1.40480971e-02,  1.33391233e-02,\n",
              "        3.69727444e-02, -4.98114586e-02, -5.23316950e-02, -5.09581250e-02,\n",
              "       -5.24397250e-02,  5.55000342e-02, -1.17934223e-02, -2.23271383e-02,\n",
              "       -5.05201903e-02, -3.54599087e-03,  2.34175152e-02, -2.04470628e-02,\n",
              "       -5.09581250e-02, -1.49471453e-02, -4.61158104e-02, -1.64604276e-02,\n",
              "       -7.12140612e-03, -1.69451195e-02, -1.92164117e-02, -6.86534590e-02,\n",
              "       -4.16327070e-02, -5.17445046e-02, -2.15798656e-02, -2.79515197e-02,\n",
              "       -2.60682423e-02, -5.51267138e-02, -2.60682423e-02, -1.24984092e-02,\n",
              "       -3.33359237e-02,  4.32971428e-02,  1.22267613e-02,  5.88483272e-02])"
            ]
          },
          "metadata": {
            "tags": []
          },
          "execution_count": 232
        }
      ]
    },
    {
      "cell_type": "code",
      "metadata": {
        "colab": {
          "base_uri": "https://localhost:8080/"
        },
        "id": "0A40Zs1gm6X8",
        "outputId": "6ed75882-c052-4dc8-c4f1-ef9d74eb688f"
      },
      "source": [
        "print(ridge.score(X_train,y_train))"
      ],
      "execution_count": null,
      "outputs": [
        {
          "output_type": "stream",
          "text": [
            "0.9092068605070027\n"
          ],
          "name": "stdout"
        }
      ]
    },
    {
      "cell_type": "code",
      "metadata": {
        "colab": {
          "base_uri": "https://localhost:8080/"
        },
        "id": "QVY1tBTOnBig",
        "outputId": "553f02a9-432f-44e2-b70c-2b375ce36fb9"
      },
      "source": [
        "print(ridge.score(X_test,y_test))"
      ],
      "execution_count": null,
      "outputs": [
        {
          "output_type": "stream",
          "text": [
            "0.8744204967072811\n"
          ],
          "name": "stdout"
        }
      ]
    },
    {
      "cell_type": "markdown",
      "metadata": {
        "id": "YN0jiyTOnGH0"
      },
      "source": [
        "* Model Parameters"
      ]
    },
    {
      "cell_type": "code",
      "metadata": {
        "colab": {
          "base_uri": "https://localhost:8080/"
        },
        "id": "daE9rmNxnFKY",
        "outputId": "1ab3957c-8375-4b9f-8f9f-b64e624f02b8"
      },
      "source": [
        "model_parameters = list(sorted(ridge.coef_))\r\n",
        "model_parameters.insert(0, ridge.intercept_)\r\n",
        "model_parameters = [round(x, 3) for x in model_parameters]\r\n",
        "cols = X.columns\r\n",
        "cols = cols.insert(0, \"constant\")\r\n",
        "list(zip(cols, model_parameters))"
      ],
      "execution_count": null,
      "outputs": [
        {
          "output_type": "execute_result",
          "data": {
            "text/plain": [
              "[('constant', 11.541),\n",
              " ('LotFrontage', -0.143),\n",
              " ('LotArea', -0.091),\n",
              " ('MasVnrArea', -0.084),\n",
              " ('BsmtFinSF1', -0.084),\n",
              " ('BsmtFinSF2', -0.082),\n",
              " ('BsmtUnfSF', -0.081),\n",
              " ('TotalBsmtSF', -0.078),\n",
              " ('1stFlrSF', -0.069),\n",
              " ('2ndFlrSF', -0.066),\n",
              " ('LowQualFinSF', -0.066),\n",
              " ('GrLivArea', -0.064),\n",
              " ('BsmtFullBath', -0.062),\n",
              " ('BsmtHalfBath', -0.06),\n",
              " ('FullBath', -0.055),\n",
              " ('HalfBath', -0.054),\n",
              " ('BedroomAbvGr', -0.052),\n",
              " ('KitchenAbvGr', -0.052),\n",
              " ('TotRmsAbvGrd', -0.052),\n",
              " ('Fireplaces', -0.052),\n",
              " ('GarageCars', -0.051),\n",
              " ('GarageArea', -0.051),\n",
              " ('WoodDeckSF', -0.051),\n",
              " ('OpenPorchSF', -0.05),\n",
              " ('EnclosedPorch', -0.049),\n",
              " ('3SsnPorch', -0.048),\n",
              " ('ScreenPorch', -0.048),\n",
              " ('PoolArea', -0.046),\n",
              " ('MiscVal', -0.042),\n",
              " ('MoSold', -0.041),\n",
              " ('YearSinceRemodel', -0.033),\n",
              " ('MSSubClass_1-1/2 STORY FINISHED ALL AGES', -0.032),\n",
              " ('MSSubClass_1-STORY 1945 & OLDER', -0.032),\n",
              " ('MSSubClass_1-STORY 1946 & NEWER ALL STYLES', -0.032),\n",
              " ('MSSubClass_1-STORY PUD (Planned Unit Development) - 1946 & NEWER', -0.032),\n",
              " ('MSSubClass_1-STORY W/FINISHED ATTIC ALL AGES', -0.029),\n",
              " ('MSSubClass_2 FAMILY CONVERSION - ALL STYLES AND AGES', -0.029),\n",
              " ('MSSubClass_2-1/2 STORY ALL AGES', -0.028),\n",
              " ('MSSubClass_2-STORY 1945 & OLDER', -0.028),\n",
              " ('MSSubClass_2-STORY 1946 & NEWER', -0.028),\n",
              " ('MSSubClass_2-STORY PUD - 1946 & NEWER', -0.026),\n",
              " ('MSSubClass_DUPLEX - ALL STYLES AND AGES', -0.026),\n",
              " ('MSSubClass_PUD - MULTILEVEL - INCL SPLIT LEV/FOYER', -0.023),\n",
              " ('MSSubClass_SPLIT FOYER', -0.022),\n",
              " ('MSSubClass_SPLIT OR MULTI-LEVEL', -0.022),\n",
              " ('MSZoning_Others', -0.02),\n",
              " ('MSZoning_RL', -0.02),\n",
              " ('MSZoning_RM', -0.019),\n",
              " ('LotShape_IR2', -0.019),\n",
              " ('LotShape_IR3', -0.018),\n",
              " ('LotShape_Reg', -0.017),\n",
              " ('LotConfig_CulDSac', -0.017),\n",
              " ('LotConfig_FR2', -0.017),\n",
              " ('LotConfig_FR3', -0.016),\n",
              " ('LotConfig_Inside', -0.016),\n",
              " ('Neighborhood_Blueste', -0.015),\n",
              " ('Neighborhood_BrDale', -0.015),\n",
              " ('Neighborhood_BrkSide', -0.014),\n",
              " ('Neighborhood_ClearCr', -0.013),\n",
              " ('Neighborhood_CollgCr', -0.012),\n",
              " ('Neighborhood_Crawfor', -0.012),\n",
              " ('Neighborhood_Edwards', -0.012),\n",
              " ('Neighborhood_Gilbert', -0.012),\n",
              " ('Neighborhood_IDOTRR', -0.012),\n",
              " ('Neighborhood_MeadowV', -0.011),\n",
              " ('Neighborhood_Mitchel', -0.01),\n",
              " ('Neighborhood_NAmes', -0.01),\n",
              " ('Neighborhood_NPkVill', -0.01),\n",
              " ('Neighborhood_NWAmes', -0.007),\n",
              " ('Neighborhood_NoRidge', -0.007),\n",
              " ('Neighborhood_NridgHt', -0.007),\n",
              " ('Neighborhood_OldTown', -0.005),\n",
              " ('Neighborhood_SWISU', -0.004),\n",
              " ('Neighborhood_Sawyer', -0.004),\n",
              " ('Neighborhood_SawyerW', -0.003),\n",
              " ('Neighborhood_Somerst', -0.002),\n",
              " ('Neighborhood_StoneBr', -0.002),\n",
              " ('Neighborhood_Timber', -0.002),\n",
              " ('Neighborhood_Veenker', -0.001),\n",
              " ('BldgType_2fmCon', -0.0),\n",
              " ('BldgType_Duplex', -0.0),\n",
              " ('BldgType_Twnhs', -0.0),\n",
              " ('BldgType_TwnhsE', -0.0),\n",
              " ('HouseStyle_1Story', -0.0),\n",
              " ('HouseStyle_2Story', -0.0),\n",
              " ('HouseStyle_Others', 0.0),\n",
              " ('HouseStyle_SLvl', 0.0),\n",
              " ('OverallQual_Average', 0.0),\n",
              " ('OverallQual_Below Average', 0.0),\n",
              " ('OverallQual_Excellent', 0.0),\n",
              " ('OverallQual_Fair', 0.0),\n",
              " ('OverallQual_Good', 0.0),\n",
              " ('OverallQual_Poor', 0.0),\n",
              " ('OverallQual_Very Excellent', 0.0),\n",
              " ('OverallQual_Very Good', 0.0),\n",
              " ('OverallQual_Very Poor', 0.0),\n",
              " ('OverallCond_Average', 0.0),\n",
              " ('OverallCond_Below Average', 0.0),\n",
              " ('OverallCond_Excellent', 0.0),\n",
              " ('OverallCond_Fair', 0.0),\n",
              " ('OverallCond_Good', 0.001),\n",
              " ('OverallCond_Poor', 0.002),\n",
              " ('OverallCond_Very Good', 0.003),\n",
              " ('OverallCond_Very Poor', 0.003),\n",
              " ('RoofStyle_Hip', 0.004),\n",
              " ('RoofStyle_Others', 0.005),\n",
              " ('Exterior1st_CemntBd', 0.006),\n",
              " ('Exterior1st_HdBoard', 0.007),\n",
              " ('Exterior1st_MetalSd', 0.007),\n",
              " ('Exterior1st_Others', 0.007),\n",
              " ('Exterior1st_Plywood', 0.008),\n",
              " ('Exterior1st_VinylSd', 0.009),\n",
              " ('Exterior1st_Wd Sdng', 0.009),\n",
              " ('Exterior2nd_CmentBd', 0.009),\n",
              " ('Exterior2nd_HdBoard', 0.011),\n",
              " ('Exterior2nd_MetalSd', 0.011),\n",
              " ('Exterior2nd_Others', 0.012),\n",
              " ('Exterior2nd_Plywood', 0.012),\n",
              " ('Exterior2nd_VinylSd', 0.013),\n",
              " ('Exterior2nd_Wd Sdng', 0.013),\n",
              " ('Exterior2nd_Wd Shng', 0.013),\n",
              " ('MasVnrType_BrkFace', 0.014),\n",
              " ('MasVnrType_None', 0.014),\n",
              " ('MasVnrType_Stone', 0.014),\n",
              " ('ExterQual_Fa', 0.015),\n",
              " ('ExterQual_Gd', 0.015),\n",
              " ('ExterQual_TA', 0.015),\n",
              " ('Foundation_CBlock', 0.015),\n",
              " ('Foundation_Others', 0.019),\n",
              " ('Foundation_PConc', 0.02),\n",
              " ('BsmtQual_Fa', 0.02),\n",
              " ('BsmtQual_Gd', 0.021),\n",
              " ('BsmtQual_No Basement', 0.022),\n",
              " ('BsmtQual_TA', 0.023),\n",
              " ('BsmtExposure_Gd', 0.023),\n",
              " ('BsmtExposure_Mn', 0.024),\n",
              " ('BsmtExposure_No', 0.025),\n",
              " ('BsmtExposure_No Basement', 0.031),\n",
              " ('BsmtFinType1_BLQ', 0.036),\n",
              " ('BsmtFinType1_GLQ', 0.036),\n",
              " ('BsmtFinType1_LwQ', 0.037),\n",
              " ('BsmtFinType1_No Basement', 0.037),\n",
              " ('BsmtFinType1_Rec', 0.037),\n",
              " ('BsmtFinType1_Unf', 0.04),\n",
              " ('HeatingQC_Fa', 0.042),\n",
              " ('HeatingQC_Gd', 0.043),\n",
              " ('HeatingQC_Po', 0.043),\n",
              " ('HeatingQC_TA', 0.043),\n",
              " ('KitchenQual_Fa', 0.043),\n",
              " ('KitchenQual_Gd', 0.05),\n",
              " ('KitchenQual_TA', 0.051),\n",
              " ('GarageType_BuiltIn', 0.053),\n",
              " ('GarageType_Detchd', 0.056),\n",
              " ('GarageType_No Garage', 0.058),\n",
              " ('GarageType_Others', 0.059),\n",
              " ('GarageFinish_No Garage', 0.072),\n",
              " ('GarageFinish_RFn', 0.092),\n",
              " ('GarageFinish_Unf', 0.094),\n",
              " ('SaleCondition_Normal', 0.099),\n",
              " ('SaleCondition_Others', 0.105),\n",
              " ('SaleCondition_Partial', 0.143)]"
            ]
          },
          "metadata": {
            "tags": []
          },
          "execution_count": 235
        }
      ]
    },
    {
      "cell_type": "markdown",
      "metadata": {
        "id": "AZwmrPhBnQV-"
      },
      "source": [
        "* Lasso "
      ]
    },
    {
      "cell_type": "code",
      "metadata": {
        "colab": {
          "base_uri": "https://localhost:8080/"
        },
        "id": "HwggNk3XnMgS",
        "outputId": "c7126de2-a260-41ca-9090-faa8c4f48751"
      },
      "source": [
        "params = {'alpha': [0.00006,0.0006, 0.0008, 0.001, 0.002, 0.004, 0.006, 0.008 ]}\r\n",
        "lasso = Lasso()\r\n",
        "model_cv = GridSearchCV(estimator = lasso, \r\n",
        "                        param_grid = params, \r\n",
        "                        scoring= 'r2', \r\n",
        "                        cv = folds, \r\n",
        "                        return_train_score=True,\r\n",
        "                        verbose = 1)            \r\n",
        "\r\n",
        "model_cv.fit(X_train, y_train)"
      ],
      "execution_count": null,
      "outputs": [
        {
          "output_type": "stream",
          "text": [
            "Fitting 5 folds for each of 8 candidates, totalling 40 fits\n"
          ],
          "name": "stdout"
        },
        {
          "output_type": "stream",
          "text": [
            "[Parallel(n_jobs=1)]: Using backend SequentialBackend with 1 concurrent workers.\n",
            "[Parallel(n_jobs=1)]: Done  40 out of  40 | elapsed:    1.9s finished\n"
          ],
          "name": "stderr"
        },
        {
          "output_type": "execute_result",
          "data": {
            "text/plain": [
              "GridSearchCV(cv=5, error_score=nan,\n",
              "             estimator=Lasso(alpha=1.0, copy_X=True, fit_intercept=True,\n",
              "                             max_iter=1000, normalize=False, positive=False,\n",
              "                             precompute=False, random_state=None,\n",
              "                             selection='cyclic', tol=0.0001, warm_start=False),\n",
              "             iid='deprecated', n_jobs=None,\n",
              "             param_grid={'alpha': [6e-05, 0.0006, 0.0008, 0.001, 0.002, 0.004,\n",
              "                                   0.006, 0.008]},\n",
              "             pre_dispatch='2*n_jobs', refit=True, return_train_score=True,\n",
              "             scoring='r2', verbose=1)"
            ]
          },
          "metadata": {
            "tags": []
          },
          "execution_count": 236
        }
      ]
    },
    {
      "cell_type": "code",
      "metadata": {
        "id": "_hc45Z9ynWGO"
      },
      "source": [
        "cv_results = pd.DataFrame(model_cv.cv_results_)"
      ],
      "execution_count": null,
      "outputs": []
    },
    {
      "cell_type": "markdown",
      "metadata": {
        "id": "KUnDldB-ne-t"
      },
      "source": [
        "* plotting mean test and train scores with alpha \r\n"
      ]
    },
    {
      "cell_type": "code",
      "metadata": {
        "colab": {
          "base_uri": "https://localhost:8080/",
          "height": 295
        },
        "id": "XJFOoOGFnaBl",
        "outputId": "ef9549f0-ea83-4b2d-d0df-63ca3989fcc0"
      },
      "source": [
        "cv_results['param_alpha'] = cv_results['param_alpha'].astype('float32')\r\n",
        "plt.plot(cv_results['param_alpha'], cv_results['mean_train_score'])\r\n",
        "plt.plot(cv_results['param_alpha'], cv_results['mean_test_score'])\r\n",
        "plt.xlabel('alpha')\r\n",
        "plt.ylabel('r2')\r\n",
        "plt.title(\"r2 and alpha\")\r\n",
        "plt.legend(['train score', 'test score'], loc='upper left')\r\n",
        "plt.show()"
      ],
      "execution_count": null,
      "outputs": [
        {
          "output_type": "display_data",
          "data": {
            "image/png": "[encoded data removed]",
            "text/plain": [
              "<Figure size 432x288 with 1 Axes>"
            ]
          },
          "metadata": {
            "tags": [],
            "needs_background": "light"
          }
        }
      ]
    },
    {
      "cell_type": "code",
      "metadata": {
        "colab": {
          "base_uri": "https://localhost:8080/"
        },
        "id": "AWWYH88Wnmwg",
        "outputId": "edb72467-ffd5-47d0-f72f-ca226ebec14a"
      },
      "source": [
        "alpha =0.001\r\n",
        "lasso = Lasso(alpha=alpha)\r\n",
        "lasso.fit(X_train, y_train)"
      ],
      "execution_count": null,
      "outputs": [
        {
          "output_type": "execute_result",
          "data": {
            "text/plain": [
              "Lasso(alpha=0.001, copy_X=True, fit_intercept=True, max_iter=1000,\n",
              "      normalize=False, positive=False, precompute=False, random_state=None,\n",
              "      selection='cyclic', tol=0.0001, warm_start=False)"
            ]
          },
          "metadata": {
            "tags": []
          },
          "execution_count": 239
        }
      ]
    },
    {
      "cell_type": "code",
      "metadata": {
        "colab": {
          "base_uri": "https://localhost:8080/"
        },
        "id": "f4wAhnFCnt_d",
        "outputId": "a95a5976-1de5-4fc8-9c42-c22e5966c5b3"
      },
      "source": [
        "lasso.coef_"
      ],
      "execution_count": null,
      "outputs": [
        {
          "output_type": "execute_result",
          "data": {
            "text/plain": [
              "array([-4.09356126e-04,  1.41043514e-06,  1.80666838e-05,  4.75861642e-05,\n",
              "        4.91108947e-05,  5.55828023e-05,  3.22848128e-05,  1.72776225e-04,\n",
              "        1.95176491e-04, -2.93129965e-05,  2.33960625e-05,  4.05631982e-02,\n",
              "        8.97338843e-04,  4.46795488e-02,  3.11477938e-02,  1.36517476e-03,\n",
              "       -9.96565920e-02,  9.16320797e-03,  4.00955714e-02,  6.11563721e-02,\n",
              "        3.68096081e-05,  1.11663349e-04, -4.88469932e-05,  1.16324360e-04,\n",
              "        1.94148996e-04,  2.48687005e-04, -4.72011474e-04, -3.65282465e-06,\n",
              "        4.33777426e-04, -2.04610388e-03,  0.00000000e+00, -1.01268932e-01,\n",
              "        3.91866781e-02,  0.00000000e+00,  0.00000000e+00, -0.00000000e+00,\n",
              "        0.00000000e+00,  0.00000000e+00, -0.00000000e+00, -4.15042585e-02,\n",
              "        0.00000000e+00, -0.00000000e+00,  0.00000000e+00,  0.00000000e+00,\n",
              "       -7.80791267e-02,  7.18055960e-03, -3.22277887e-02,  0.00000000e+00,\n",
              "       -3.77577996e-03,  0.00000000e+00,  3.38538223e-02, -0.00000000e+00,\n",
              "       -0.00000000e+00, -0.00000000e+00, -0.00000000e+00, -0.00000000e+00,\n",
              "        0.00000000e+00,  1.71369941e-02,  0.00000000e+00,  9.80444492e-02,\n",
              "       -8.59137343e-02, -0.00000000e+00, -8.30818267e-02, -5.23364891e-02,\n",
              "       -0.00000000e+00, -0.00000000e+00, -0.00000000e+00, -0.00000000e+00,\n",
              "        5.01165152e-02,  8.35409554e-02, -6.64082200e-02, -0.00000000e+00,\n",
              "       -2.44227454e-02,  0.00000000e+00,  7.89978723e-02,  0.00000000e+00,\n",
              "       -0.00000000e+00,  0.00000000e+00, -0.00000000e+00,  0.00000000e+00,\n",
              "       -5.28335449e-02, -0.00000000e+00,  0.00000000e+00, -1.65696232e-02,\n",
              "        0.00000000e+00,  0.00000000e+00, -2.16748081e-02, -5.48248917e-02,\n",
              "        1.97772557e-01, -3.46471618e-02,  4.58670213e-02, -0.00000000e+00,\n",
              "        0.00000000e+00,  1.19965493e-01, -0.00000000e+00, -3.67128819e-02,\n",
              "       -5.74182905e-02,  0.00000000e+00, -2.10164729e-01,  1.81661568e-02,\n",
              "       -0.00000000e+00,  0.00000000e+00, -0.00000000e+00,  4.52511947e-04,\n",
              "        0.00000000e+00, -0.00000000e+00, -0.00000000e+00,  0.00000000e+00,\n",
              "       -3.00864512e-02,  0.00000000e+00,  0.00000000e+00, -1.55475193e-02,\n",
              "       -0.00000000e+00,  0.00000000e+00,  1.91566681e-03,  0.00000000e+00,\n",
              "        0.00000000e+00,  1.48848904e-02, -0.00000000e+00, -0.00000000e+00,\n",
              "        2.00200834e-03,  0.00000000e+00, -0.00000000e+00, -2.85976366e-02,\n",
              "        1.39387050e-03, -1.77039340e-02,  0.00000000e+00, -0.00000000e+00,\n",
              "        2.94541370e-02, -0.00000000e+00, -1.68470979e-02, -0.00000000e+00,\n",
              "       -9.02099626e-03,  5.82368003e-02, -0.00000000e+00, -1.19803050e-02,\n",
              "       -2.45862057e-02,  0.00000000e+00,  3.15878285e-02, -0.00000000e+00,\n",
              "       -0.00000000e+00, -7.25667018e-05, -3.40816817e-02, -0.00000000e+00,\n",
              "       -0.00000000e+00, -0.00000000e+00, -1.23665915e-02, -3.22899864e-02,\n",
              "       -7.41505487e-03, -1.68877399e-02, -0.00000000e+00, -1.82728113e-02,\n",
              "       -9.53528110e-03, -3.85783311e-02, -3.24128882e-04, -0.00000000e+00,\n",
              "       -1.72777053e-02,  2.96218009e-02,  0.00000000e+00,  4.22153542e-02])"
            ]
          },
          "metadata": {
            "tags": []
          },
          "execution_count": 240
        }
      ]
    },
    {
      "cell_type": "code",
      "metadata": {
        "colab": {
          "base_uri": "https://localhost:8080/"
        },
        "id": "6pEhUWwMnxDn",
        "outputId": "ebd8c19e-3325-400f-a65f-e3500ce8c1e9"
      },
      "source": [
        "lasso.score(X_train,y_train)"
      ],
      "execution_count": null,
      "outputs": [
        {
          "output_type": "execute_result",
          "data": {
            "text/plain": [
              "0.898288939025357"
            ]
          },
          "metadata": {
            "tags": []
          },
          "execution_count": 241
        }
      ]
    },
    {
      "cell_type": "code",
      "metadata": {
        "colab": {
          "base_uri": "https://localhost:8080/"
        },
        "id": "2ovnoq7Kn1GA",
        "outputId": "f55339fe-1603-49ae-d0b1-ac070543f231"
      },
      "source": [
        "lasso.score(X_test,y_test)"
      ],
      "execution_count": null,
      "outputs": [
        {
          "output_type": "execute_result",
          "data": {
            "text/plain": [
              "0.864657533144189"
            ]
          },
          "metadata": {
            "tags": []
          },
          "execution_count": 242
        }
      ]
    },
    {
      "cell_type": "markdown",
      "metadata": {
        "id": "cLUS5dHQn6-A"
      },
      "source": [
        "* Model Parameters"
      ]
    },
    {
      "cell_type": "code",
      "metadata": {
        "colab": {
          "base_uri": "https://localhost:8080/"
        },
        "id": "VKTgQx7fn3q1",
        "outputId": "8675d07c-b4d4-4eca-e831-360faee4c372"
      },
      "source": [
        "model_parameters = list(sorted(lasso.coef_))\r\n",
        "model_parameters.insert(0, lasso.intercept_)\r\n",
        "model_parameters = [round(x, 3) for x in model_parameters]\r\n",
        "cols = X.columns\r\n",
        "cols = cols.insert(0, \"constant\")\r\n",
        "list((zip(cols, model_parameters)))"
      ],
      "execution_count": null,
      "outputs": [
        {
          "output_type": "execute_result",
          "data": {
            "text/plain": [
              "[('constant', 11.482),\n",
              " ('LotFrontage', -0.21),\n",
              " ('LotArea', -0.101),\n",
              " ('MasVnrArea', -0.1),\n",
              " ('BsmtFinSF1', -0.086),\n",
              " ('BsmtFinSF2', -0.083),\n",
              " ('BsmtUnfSF', -0.078),\n",
              " ('TotalBsmtSF', -0.066),\n",
              " ('1stFlrSF', -0.057),\n",
              " ('2ndFlrSF', -0.055),\n",
              " ('LowQualFinSF', -0.053),\n",
              " ('GrLivArea', -0.052),\n",
              " ('BsmtFullBath', -0.042),\n",
              " ('BsmtHalfBath', -0.039),\n",
              " ('FullBath', -0.037),\n",
              " ('HalfBath', -0.035),\n",
              " ('BedroomAbvGr', -0.034),\n",
              " ('KitchenAbvGr', -0.032),\n",
              " ('TotRmsAbvGrd', -0.032),\n",
              " ('Fireplaces', -0.03),\n",
              " ('GarageCars', -0.029),\n",
              " ('GarageArea', -0.025),\n",
              " ('WoodDeckSF', -0.024),\n",
              " ('OpenPorchSF', -0.022),\n",
              " ('EnclosedPorch', -0.018),\n",
              " ('3SsnPorch', -0.018),\n",
              " ('ScreenPorch', -0.017),\n",
              " ('PoolArea', -0.017),\n",
              " ('MiscVal', -0.017),\n",
              " ('MoSold', -0.017),\n",
              " ('YearSinceRemodel', -0.016),\n",
              " ('MSSubClass_1-1/2 STORY FINISHED ALL AGES', -0.012),\n",
              " ('MSSubClass_1-STORY 1945 & OLDER', -0.012),\n",
              " ('MSSubClass_1-STORY 1946 & NEWER ALL STYLES', -0.01),\n",
              " ('MSSubClass_1-STORY PUD (Planned Unit Development) - 1946 & NEWER', -0.009),\n",
              " ('MSSubClass_1-STORY W/FINISHED ATTIC ALL AGES', -0.007),\n",
              " ('MSSubClass_2 FAMILY CONVERSION - ALL STYLES AND AGES', -0.004),\n",
              " ('MSSubClass_2-1/2 STORY ALL AGES', -0.002),\n",
              " ('MSSubClass_2-STORY 1945 & OLDER', -0.0),\n",
              " ('MSSubClass_2-STORY 1946 & NEWER', -0.0),\n",
              " ('MSSubClass_2-STORY PUD - 1946 & NEWER', -0.0),\n",
              " ('MSSubClass_DUPLEX - ALL STYLES AND AGES', -0.0),\n",
              " ('MSSubClass_PUD - MULTILEVEL - INCL SPLIT LEV/FOYER', -0.0),\n",
              " ('MSSubClass_SPLIT FOYER', -0.0),\n",
              " ('MSSubClass_SPLIT OR MULTI-LEVEL', -0.0),\n",
              " ('MSZoning_Others', 0.0),\n",
              " ('MSZoning_RL', 0.0),\n",
              " ('MSZoning_RM', 0.0),\n",
              " ('LotShape_IR2', -0.0),\n",
              " ('LotShape_IR3', 0.0),\n",
              " ('LotShape_Reg', 0.0),\n",
              " ('LotConfig_CulDSac', -0.0),\n",
              " ('LotConfig_FR2', 0.0),\n",
              " ('LotConfig_FR3', -0.0),\n",
              " ('LotConfig_Inside', 0.0),\n",
              " ('Neighborhood_Blueste', 0.0),\n",
              " ('Neighborhood_BrDale', 0.0),\n",
              " ('Neighborhood_BrkSide', 0.0),\n",
              " ('Neighborhood_ClearCr', -0.0),\n",
              " ('Neighborhood_CollgCr', -0.0),\n",
              " ('Neighborhood_Crawfor', -0.0),\n",
              " ('Neighborhood_Edwards', -0.0),\n",
              " ('Neighborhood_Gilbert', -0.0),\n",
              " ('Neighborhood_IDOTRR', 0.0),\n",
              " ('Neighborhood_MeadowV', 0.0),\n",
              " ('Neighborhood_Mitchel', -0.0),\n",
              " ('Neighborhood_NAmes', -0.0),\n",
              " ('Neighborhood_NPkVill', -0.0),\n",
              " ('Neighborhood_NWAmes', -0.0),\n",
              " ('Neighborhood_NoRidge', -0.0),\n",
              " ('Neighborhood_NridgHt', -0.0),\n",
              " ('Neighborhood_OldTown', 0.0),\n",
              " ('Neighborhood_SWISU', 0.0),\n",
              " ('Neighborhood_Sawyer', -0.0),\n",
              " ('Neighborhood_SawyerW', 0.0),\n",
              " ('Neighborhood_Somerst', -0.0),\n",
              " ('Neighborhood_StoneBr', 0.0),\n",
              " ('Neighborhood_Timber', -0.0),\n",
              " ('Neighborhood_Veenker', 0.0),\n",
              " ('BldgType_2fmCon', 0.0),\n",
              " ('BldgType_Duplex', 0.0),\n",
              " ('BldgType_Twnhs', -0.0),\n",
              " ('BldgType_TwnhsE', 0.0),\n",
              " ('HouseStyle_1Story', -0.0),\n",
              " ('HouseStyle_2Story', 0.0),\n",
              " ('HouseStyle_Others', -0.0),\n",
              " ('HouseStyle_SLvl', 0.0),\n",
              " ('OverallQual_Average', -0.0),\n",
              " ('OverallQual_Below Average', 0.0),\n",
              " ('OverallQual_Excellent', -0.0),\n",
              " ('OverallQual_Fair', -0.0),\n",
              " ('OverallQual_Good', 0.0),\n",
              " ('OverallQual_Poor', 0.0),\n",
              " ('OverallQual_Very Excellent', 0.0),\n",
              " ('OverallQual_Very Good', -0.0),\n",
              " ('OverallQual_Very Poor', 0.0),\n",
              " ('OverallCond_Average', 0.0),\n",
              " ('OverallCond_Below Average', 0.0),\n",
              " ('OverallCond_Excellent', -0.0),\n",
              " ('OverallCond_Fair', -0.0),\n",
              " ('OverallCond_Good', 0.0),\n",
              " ('OverallCond_Poor', -0.0),\n",
              " ('OverallCond_Very Good', 0.0),\n",
              " ('OverallCond_Very Poor', -0.0),\n",
              " ('RoofStyle_Hip', -0.0),\n",
              " ('RoofStyle_Others', -0.0),\n",
              " ('Exterior1st_CemntBd', -0.0),\n",
              " ('Exterior1st_HdBoard', 0.0),\n",
              " ('Exterior1st_MetalSd', -0.0),\n",
              " ('Exterior1st_Others', -0.0),\n",
              " ('Exterior1st_Plywood', -0.0),\n",
              " ('Exterior1st_VinylSd', -0.0),\n",
              " ('Exterior1st_Wd Sdng', -0.0),\n",
              " ('Exterior2nd_CmentBd', -0.0),\n",
              " ('Exterior2nd_HdBoard', -0.0),\n",
              " ('Exterior2nd_MetalSd', 0.0),\n",
              " ('Exterior2nd_Others', 0.0),\n",
              " ('Exterior2nd_Plywood', 0.0),\n",
              " ('Exterior2nd_VinylSd', 0.0),\n",
              " ('Exterior2nd_Wd Sdng', 0.0),\n",
              " ('Exterior2nd_Wd Shng', 0.0),\n",
              " ('MasVnrType_BrkFace', 0.0),\n",
              " ('MasVnrType_None', 0.0),\n",
              " ('MasVnrType_Stone', 0.0),\n",
              " ('ExterQual_Fa', 0.0),\n",
              " ('ExterQual_Gd', 0.0),\n",
              " ('ExterQual_TA', 0.0),\n",
              " ('Foundation_CBlock', 0.0),\n",
              " ('Foundation_Others', 0.0),\n",
              " ('Foundation_PConc', 0.0),\n",
              " ('BsmtQual_Fa', 0.0),\n",
              " ('BsmtQual_Gd', 0.0),\n",
              " ('BsmtQual_No Basement', 0.001),\n",
              " ('BsmtQual_TA', 0.001),\n",
              " ('BsmtExposure_Gd', 0.001),\n",
              " ('BsmtExposure_Mn', 0.002),\n",
              " ('BsmtExposure_No', 0.002),\n",
              " ('BsmtExposure_No Basement', 0.007),\n",
              " ('BsmtFinType1_BLQ', 0.009),\n",
              " ('BsmtFinType1_GLQ', 0.015),\n",
              " ('BsmtFinType1_LwQ', 0.017),\n",
              " ('BsmtFinType1_No Basement', 0.018),\n",
              " ('BsmtFinType1_Rec', 0.029),\n",
              " ('BsmtFinType1_Unf', 0.03),\n",
              " ('HeatingQC_Fa', 0.031),\n",
              " ('HeatingQC_Gd', 0.032),\n",
              " ('HeatingQC_Po', 0.034),\n",
              " ('HeatingQC_TA', 0.039),\n",
              " ('KitchenQual_Fa', 0.04),\n",
              " ('KitchenQual_Gd', 0.041),\n",
              " ('KitchenQual_TA', 0.042),\n",
              " ('GarageType_BuiltIn', 0.045),\n",
              " ('GarageType_Detchd', 0.046),\n",
              " ('GarageType_No Garage', 0.05),\n",
              " ('GarageType_Others', 0.058),\n",
              " ('GarageFinish_No Garage', 0.061),\n",
              " ('GarageFinish_RFn', 0.079),\n",
              " ('GarageFinish_Unf', 0.084),\n",
              " ('SaleCondition_Normal', 0.098),\n",
              " ('SaleCondition_Others', 0.12),\n",
              " ('SaleCondition_Partial', 0.198)]"
            ]
          },
          "metadata": {
            "tags": []
          },
          "execution_count": 244
        }
      ]
    },
    {
      "cell_type": "markdown",
      "metadata": {
        "id": "05O_nBxYoMzi"
      },
      "source": [
        "# Conclusion"
      ]
    },
    {
      "cell_type": "markdown",
      "metadata": {
        "id": "u8VSXGYpoUjS"
      },
      "source": [
        "* Top 5 most significant variables in Ridge are:\r\n",
        "('SaleCondition_Partial', 0.143)\r\n",
        "('SaleCondition_Others', 0.105)\r\n",
        "('SaleCondition_Normal', 0.099)\r\n",
        "('GarageFinish_Unf', 0.094)\r\n",
        "('GarageFinish_RFn', 0.092)\r\n",
        "\r\n",
        "\r\n",
        "* Top 5 most significant variables in Lasso are:\r\n",
        "('SaleCondition_Partial', 0.198)\r\n",
        "('SaleCondition_Others', 0.12)\r\n",
        "('SaleCondition_Normal', 0.098)\r\n",
        "('GarageFinish_Unf', 0.084)\r\n",
        "('GarageFinish_RFn', 0.079)"
      ]
    },
    {
      "cell_type": "markdown",
      "metadata": {
        "id": "DnaEhyBPotnl"
      },
      "source": [
        " * Because of Feature selection and Optimal Value of lamda for Lasso being 0.001\r\n",
        " we can choose Lasso regression in the model."
      ]
    },
    {
      "cell_type": "code",
      "metadata": {
        "id": "BOan-Gq5o81E"
      },
      "source": [
        ""
      ],
      "execution_count": null,
      "outputs": []
    }
  ]
}